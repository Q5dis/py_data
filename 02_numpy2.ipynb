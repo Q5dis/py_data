{
 "cells": [
  {
   "cell_type": "markdown",
   "id": "1f1f7234",
   "metadata": {},
   "source": [
    "### 통계 함수 및 집계연산"
   ]
  },
  {
   "cell_type": "code",
   "execution_count": 2,
   "id": "ad1d4a58",
   "metadata": {},
   "outputs": [],
   "source": [
    "import numpy as np"
   ]
  },
  {
   "cell_type": "code",
   "execution_count": 32,
   "id": "3371148b",
   "metadata": {},
   "outputs": [
    {
     "name": "stdout",
     "output_type": "stream",
     "text": [
      "통게 및 집계연산\n",
      "numpy행렬 원소의 합: 21\n",
      "원소의 평균:  3.5\n",
      "표준편차:  1.707825127659933\n",
      "최대값:  6\n",
      "최소값:  1\n",
      "최대값 인덱스:  5\n",
      "최소값 인덱스:  0\n"
     ]
    }
   ],
   "source": [
    "a=np.array([[1,2,3],[4,5,6]])\n",
    "\n",
    "print(\"통게 및 집계연산\")\n",
    "print(\"numpy행렬 원소의 합:\",np.sum(a))\n",
    "print(\"원소의 평균: \",np.mean(a))\n",
    "print(\"표준편차: \",np.std(a))\n",
    "print(\"최대값: \",np.max(a))\n",
    "print(\"최소값: \",np.min(a))\n",
    "print(\"최대값 인덱스: \",np.argmax(a))\n",
    "print(\"최소값 인덱스: \", np.argmin(a))"
   ]
  },
  {
   "cell_type": "code",
   "execution_count": 27,
   "id": "66a0d8fa",
   "metadata": {},
   "outputs": [
    {
     "name": "stdout",
     "output_type": "stream",
     "text": [
      "축 단위 연산\n",
      "(3, 3)\n",
      "2 = axis0, 3 = axis1\n",
      "axis 0: 행기준, axis 1: 열기준\n",
      "\n",
      "행기준 합 [12 15 18]\n",
      "열기준 합 [ 6 15 24] \n",
      "\n",
      "행기준 평균 [4. 5. 6.]\n",
      "열기준 평균 [2. 5. 8.]\n"
     ]
    }
   ],
   "source": [
    "print(\"축 단위 연산\")\n",
    "# 특정한 축을 기준으로 연산을 하겠다는 의미\n",
    "# axis = 0 >>> 가장 높은 차원 기준.\n",
    "# axis = 1 >>> 그 다음 차원 기준.\n",
    "\n",
    "a=np.array([[1,2,3],\n",
    "            [4,5,6],\n",
    "            [7,8,9]])\n",
    "\n",
    "print(a.shape)\n",
    "print(\"2 = axis0, 3 = axis1\")\n",
    "print(\"axis 0: 행기준, axis 1: 열기준\\n\")\n",
    "\n",
    "print(\"행기준 합\",np.sum(a,axis=0))\n",
    "# 0.0(1)+1.0(4)=5\n",
    "# 0.1(2)+1.1(5)=7 이런식으로 연산\n",
    "print(\"열기준 합\",np.sum(a,axis=1),\"\\n\")\n",
    "# 0.0(1)+(0.1)(2)+0.2(3)=6\n",
    "# 이런 식으로 연산\n",
    "\n",
    "print(\"행기준 평균\",np.mean(a,axis=0)) # 4,5,6\n",
    "print(\"열기준 평균\",np.mean(a,axis=1)) # 2,5,8\n",
    "\n",
    "# 행기준: 행을 따라 연산한다. 행인덱스를 증가시키며 연산한다.\n",
    "# 열기준: 열을 따라 연산한다. 열인덱스를 증가시키며 연산한다."
   ]
  },
  {
   "cell_type": "code",
   "execution_count": 30,
   "id": "6c44a2af",
   "metadata": {},
   "outputs": [
    {
     "name": "stdout",
     "output_type": "stream",
     "text": [
      "누적 연산\n",
      "[ 1  3  6 10]\n",
      "[ 1  2  6 24]\n"
     ]
    }
   ],
   "source": [
    "print(\"누적 연산\")\n",
    "arr=np.array([1,2,3,4])\n",
    "print(np.cumsum(arr)) # (더하기) 순서대로 누적하며 연산결과를 저장한다\n",
    "print(np.cumprod(arr)) # (곱하기) 순서대로 누적하며 연산결과를 저장한다"
   ]
  },
  {
   "cell_type": "code",
   "execution_count": 6,
   "id": "6a77deb4",
   "metadata": {},
   "outputs": [
    {
     "name": "stdout",
     "output_type": "stream",
     "text": [
      "평균: 12.5\n",
      "합계: 50\n",
      "\n",
      "전체 최솟값: 3\n",
      "최대값: 3\n",
      "\n",
      "열의 합계(행기준): [12 15 18]\n",
      "행의 합계(열기준):[ 6 15 24]\n",
      "\n",
      "열별 평균(행기준): [30. 40.]\n",
      "행별 평균(열기준): [15. 35. 55.]\n",
      "\n",
      "표준편차: 2.0 | 얼마나 떨어져있나?: [-3. -1. -1. -1.  0.  0.  2.  4.]\n",
      "\n",
      "원본배열\n",
      "[[1 2 3]\n",
      " [4 5 6]]\n",
      "행 단위 누적합:\n",
      " [[1 2 3]\n",
      " [5 7 9]]\n",
      "열 단위 누적곱: \n",
      "[[  1   2   6]\n",
      " [  4  20 120]]\n"
     ]
    }
   ],
   "source": [
    "# 실습2\n",
    "\n",
    "#1\n",
    "arr=np.array([5,10,15,20])\n",
    "print(f\"평균: {np.mean(arr)}\\n합계: {np.sum(arr)}\\n\")\n",
    "#2\n",
    "arr=np.array([[3,7,1],\n",
    "              [9,2,8]])\n",
    "print(f\"전체 최솟값: {np.argmax(arr)}\\n최대값: {np.argmax(arr)}\\n\")\n",
    "#3\n",
    "arr=np.array([[1,2,3],\n",
    "             [4,5,6],\n",
    "             [7,8,9]])\n",
    "print(f\"열의 합계(행기준): {np.sum(arr,axis=0)}\\n행의 합계(열기준):{np.sum(arr,axis=1)}\\n\")\n",
    "#4\n",
    "arr=np.array([[10,20],\n",
    "              [30,40],\n",
    "              [50,60]])\n",
    "print(f\"열별 평균(행기준): {np.mean(arr,axis=0)}\\n행별 평균(열기준): {np.mean(arr,axis=1)}\\n\")\n",
    "#5\n",
    "arr=np.array([2,4,4,4,5,5,7,9])\n",
    "arr_far=arr-np.mean(arr)\n",
    "print(f\"표준편차: {np.std(arr)} | 얼마나 떨어져있나?: {arr_far}\\n\")\n",
    "#6\n",
    "arr=np.array([[1,2,3],\n",
    "             [4,5,6]])\n",
    "print(f\"원본배열\\n{arr}\\n행 단위 누적합:\\n {np.cumsum(arr,axis=0)}\\n열 단위 누적곱: \\n{np.cumprod(arr,axis=1)}\")"
   ]
  },
  {
   "cell_type": "markdown",
   "id": "bbfeca1f",
   "metadata": {},
   "source": [
    "# 논리연산과 조건연산"
   ]
  },
  {
   "cell_type": "code",
   "execution_count": 14,
   "id": "d56b89f0",
   "metadata": {},
   "outputs": [
    {
     "name": "stdout",
     "output_type": "stream",
     "text": [
      "['low' 'low' 'low' 'low' 'low' 'high' 'high' 'high' 'high' 'high']\n",
      "[ 60  70  80  90 100]\n"
     ]
    }
   ],
   "source": [
    "# np.where() 조건 기반 선택함수\n",
    "arr=np.array([10,20,30,40,50,60,70,80,90,100])\n",
    "result=np.where(arr>50,\"high\",\"low\")\n",
    "                        # 참일경우,거짓일경우\n",
    "                        # 참일 경우 high, 거짓일경우 log 할당\n",
    "print(result)\n",
    "\n",
    "arr=np.array([10,20,30,40,50,60,70,80,90,100])\n",
    "result=np.where(arr>50)\n",
    "print(arr[result]) # 조건만 넣을 경우 조건만족하는 원소의 '인덱스' 만 반환한다.\n",
    "                # 팬시 인덱싱으로 정리"
   ]
  },
  {
   "cell_type": "code",
   "execution_count": 21,
   "id": "d3149526",
   "metadata": {},
   "outputs": [
    {
     "name": "stdout",
     "output_type": "stream",
     "text": [
      "& 연산 [20 30 40 50 60 70]\n",
      "or 연산 [ 10 100]\n",
      "~연산 [10 20 30]\n"
     ]
    }
   ],
   "source": [
    "# 논리연산\n",
    "# and:&, or:|, not:~\n",
    "\n",
    "# and 연산\n",
    "arr=np.array([10,20,30,40,50,60,70,80,90,100])\n",
    "mask=(arr>10)&(arr<80)\n",
    "print(\"& 연산\",arr[mask])\n",
    "\n",
    "# or 연산\n",
    "mask_or=(arr==10) | (arr==100)\n",
    "print(\"or 연산\",arr[mask_or])\n",
    "\n",
    "# not 연산\n",
    "mask_not=~(arr > 30)\n",
    "print(\"~연산\",arr[mask_not])"
   ]
  },
  {
   "cell_type": "code",
   "execution_count": 24,
   "id": "62b2cb17",
   "metadata": {},
   "outputs": [
    {
     "name": "stdout",
     "output_type": "stream",
     "text": [
      "[ 92  94  96  98 100]\n"
     ]
    }
   ],
   "source": [
    "arr=np.arange(0,101)\n",
    "mask=(arr%2==0) & (arr>90)\n",
    "print(arr[mask])"
   ]
  },
  {
   "cell_type": "code",
   "execution_count": 85,
   "id": "5909a274",
   "metadata": {},
   "outputs": [
    {
     "name": "stdout",
     "output_type": "stream",
     "text": [
      "[12 18]\n",
      "[10 35]\n",
      "[3 8 0 6 2 0]\n",
      "['low' 'low' 'high' 'high' 'high']\n",
      "[ 0 10  2 30  4 50  6 70  8 90]\n",
      "[25 30 35]\n",
      "[1 2 4 5]\n",
      "랜덤정수배열: [55 29 89 35 63 15 84 44 72 24]\n",
      "50이상은 그대로, 미만은 50화: [55 50 89 50 63 50 84 50 72 50]\n",
      "[['C' 'B' 'A']\n",
      " ['C' 'A' 'C']\n",
      " ['B' 'B' 'A']]\n"
     ]
    }
   ],
   "source": [
    "# 실습3\n",
    "#1\n",
    "arr=np.array([5,12,18,7,30,25])\n",
    "print(arr[(arr>10)&(arr<20)])\n",
    "#2\n",
    "arr=np.array([10,15,20,25,30,35])\n",
    "print(arr[(arr<15)|(arr>30)])\n",
    "#3\n",
    "arr=np.array([3,8,15,6,2,20])\n",
    "arr=np.where(arr>10,0,arr)\n",
    "print(arr)\n",
    "#4\n",
    "arr=np.array([7,14,21,28,35])\n",
    "arr_new=np.where(arr>20,\"high\",\"low\")\n",
    "print(arr_new)\n",
    "#5\n",
    "arr=np.arange(0,10)\n",
    "arr_new=np.where(arr%2==0,arr,arr*10)\n",
    "print(arr_new)\n",
    "#6\n",
    "arr=np.array([[10,25,30],\n",
    "              [40,5,15],\n",
    "              [20,35,50]])\n",
    "print(arr[np.where((arr>20)&(arr<40))])\n",
    "#7\n",
    "arr=np.arange(1,7)\n",
    "print(arr[np.where(arr%3!=0)])\n",
    "#8\n",
    "arr=np.random.randint(0,100,10)\n",
    "arr_new=np.where(arr>50,arr,50)\n",
    "print(f\"랜덤정수배열: {arr}\\n50이상은 그대로, 미만은 50화: {arr_new}\")\n",
    "#9\n",
    "arr=np.array([[5,50,94],\n",
    "              [20,75,10],\n",
    "              [60,30,85]])\n",
    "\n",
    "result = np.where(arr > 70, \"A\",\n",
    "         np.where(arr >= 30, \"B\", \"C\"))\n",
    "print(result)"
   ]
  },
  {
   "cell_type": "markdown",
   "id": "c828eb46",
   "metadata": {},
   "source": [
    "# 2025.08.05\n",
    "# 행렬의 곱"
   ]
  },
  {
   "cell_type": "code",
   "execution_count": 1,
   "id": "7f321676",
   "metadata": {},
   "outputs": [],
   "source": [
    "import numpy as np"
   ]
  },
  {
   "cell_type": "code",
   "execution_count": null,
   "id": "05788229",
   "metadata": {},
   "outputs": [
    {
     "name": "stdout",
     "output_type": "stream",
     "text": [
      "[[28 10]\n",
      " [73 28]] \n",
      "\n",
      "[[ 60  18]\n",
      " [150  45]]\n"
     ]
    }
   ],
   "source": [
    "# 2x3 행렬과 3x2행렬의 연산\n",
    "# 앞 행렬의 열의 개수=뒤행렬의 행의 개수\n",
    "# 그래야만 곱연셈이 가능하다. \n",
    "# 같지 않으면 계산 자체가 성립이 안됨!!!\n",
    "\n",
    "# 내적? : 같은 위치의 숫자를\n",
    "\n",
    "a=np.array([[1,2,3],\n",
    "            [4,5,6]])\n",
    "b=np.array([[6,3],\n",
    "            [5,2],\n",
    "            [4,1]])\n",
    "print(np.dot(a,b),\"\\n\")\n",
    "\n",
    "\n",
    "a=np.array([[2,2,2],\n",
    "            [5,5,5]])\n",
    "\n",
    "b=np.array([[10,3],\n",
    "            [10,3],\n",
    "            [10,3]])\n",
    "\n",
    "# 같은 위치의 숫자를 곱하고 모두 더한다\n",
    "print(a@b)"
   ]
  },
  {
   "cell_type": "code",
   "execution_count": 16,
   "id": "2816f489",
   "metadata": {},
   "outputs": [
    {
     "name": "stdout",
     "output_type": "stream",
     "text": [
      "111000\n",
      "111000\n"
     ]
    }
   ],
   "source": [
    "c=np.array([1000,2000,5000,10000])\n",
    "d=np.array([10,3,5,7])\n",
    "# 같은 위치에 있는 값끼리 곱하고 나중에 더한다.\n",
    "# => 내적연산.\n",
    "print(c@d)\n",
    "print(np.matmul(c,d))\n",
    "\n",
    "# dot과의 차이?\n",
    "# 이름이 다르고 스칼라연산이 안되는 점."
   ]
  },
  {
   "cell_type": "code",
   "execution_count": 24,
   "id": "ad63b2b0",
   "metadata": {},
   "outputs": [
    {
     "name": "stdout",
     "output_type": "stream",
     "text": [
      "[[22 28]\n",
      " [49 64]] \n",
      "\n",
      "[17 39] \n",
      "\n",
      "[23 34] \n",
      "\n",
      "[[22 28]]\n"
     ]
    }
   ],
   "source": [
    "# 2차원 배열간 연산 > 행렬곱셈\n",
    "a=np.array([[1,2,3],\n",
    "            [4,5,6]])\n",
    "b=np.array([[1,2],\n",
    "            [3,4],\n",
    "            [5,6]])\n",
    "print(np.matmul(a,b),\"\\n\")\n",
    "\n",
    "c=np.array([[1,2],[3,4]])\n",
    "d=np.array([5,6])\n",
    "print(np.matmul(c,d),\"\\n\")\n",
    "print(np.matmul(d,c),\"\\n\")\n",
    "\n",
    "e=np.array([[1,2,3]])\n",
    "f=np.array([[1,2],[3,4],[5,6]])\n",
    "print(np.matmul(e,f))\n"
   ]
  },
  {
   "cell_type": "code",
   "execution_count": 56,
   "id": "8a675c9f",
   "metadata": {},
   "outputs": [
    {
     "name": "stdout",
     "output_type": "stream",
     "text": [
      "[[20 20]\n",
      " [28 28]\n",
      " [38 38]] \n",
      "\n",
      "oirignal m\n",
      " [[6 2 6 7]\n",
      " [1 4 6 7]\n",
      " [7 2 1 1]\n",
      " [5 1 9 5]]\n",
      "after matmul with i\n",
      " [[6. 2. 6. 7.]\n",
      " [1. 4. 6. 7.]\n",
      " [7. 2. 1. 1.]\n",
      " [5. 1. 9. 5.]] \n",
      "\n",
      "[[45 50]\n",
      " [45 50]] \n",
      "\n",
      "[[ 4  8  5]\n",
      " [16 11 13]\n",
      " [12 12 11]] (3, 3)\n"
     ]
    }
   ],
   "source": [
    "# 실습\n",
    "#1\n",
    "a=np.random.randint(1,10,9).reshape(3,3)\n",
    "b=np.full(6,2).reshape(3,2)\n",
    "print(np.dot(a,b),\"\\n\")\n",
    "#2\n",
    "i=np.eye(4,4)\n",
    "m=np.random.randint(0,10,16).reshape(4,4)\n",
    "print(\"oirignal m\\n\",m)\n",
    "print(\"after matmul with i\\n\",np.matmul(i,m),\"\\n\")\n",
    "#3\n",
    "x=np.full(10,1).reshape(2,5)\n",
    "y=np.arange(5,15).reshape(5,2)\n",
    "print(x@y,\"\\n\")\n",
    "#4\n",
    "c=np.random.randint(0,5,6).reshape(3,2)\n",
    "d=np.random.randint(0,5,6).reshape(2,3)\n",
    "cd=c@d\n",
    "print(cd,cd.shape)"
   ]
  },
  {
   "cell_type": "code",
   "execution_count": null,
   "id": "01237469",
   "metadata": {},
   "outputs": [
    {
     "name": "stdout",
     "output_type": "stream",
     "text": [
      "오리지널:\n",
      " (2, 3) \n",
      " [[1 2 3]\n",
      " [4 5 6]]\n",
      "a0 shape:\n",
      " (1, 2, 3) \n",
      "겹이하나 추가됨\n",
      " [[[1 2 3]\n",
      "  [4 5 6]]]\n",
      "a1 shape:\n",
      " (2, 1, 3) \n",
      "1번 자리에 추가됨\n",
      " [[[1 2 3]]\n",
      "\n",
      " [[4 5 6]]]\n"
     ]
    }
   ],
   "source": [
    "a=np.array([[1,2,3],[4,5,6]])\n",
    "\n",
    "#axis0\n",
    "# 차원 확장하는 expand_dims\n",
    "a0=np.expand_dims(a,axis=0)\n",
    "print(\"오리지널:\\n\",a.shape,\"\\n\",a)\n",
    "print(\"a0 shape:\\n\",a0.shape,\"\\n겹이하나 추가됨\\n\",a0)\n",
    "\n",
    "a1=np.expand_dims(a,axis=1) # 1번째 인덱스에 추가한다.\n",
    "print(\"a1 shape:\\n\",a1.shape,\"\\n1번 자리에 추가됨\\n\",a1)"
   ]
  },
  {
   "cell_type": "code",
   "execution_count": null,
   "id": "9e213c98",
   "metadata": {},
   "outputs": [
    {
     "name": "stdout",
     "output_type": "stream",
     "text": [
      "[1, 2, 10, 3, 4]\n",
      "insert는 들어갈 위치의 인덱스를 써준다.\n",
      "dim 역시 마찬가지로 들어갈 행의 인덱스에 axis 사용한다.\n"
     ]
    }
   ],
   "source": [
    "my_list=[1,2,3,4]\n",
    "my_list.insert(2,10)\n",
    "print(my_list)\n",
    "print(\"insert는 들어갈 위치의 인덱스를 써준다.\")\n",
    "print(\"dim 역시 마찬가지로 들어갈 행의 인덱스에 axis 사용한다.\")"
   ]
  },
  {
   "cell_type": "code",
   "execution_count": 76,
   "id": "1e2f0fea",
   "metadata": {},
   "outputs": [
    {
     "name": "stdout",
     "output_type": "stream",
     "text": [
      "[[[[1]\n",
      "   [2]\n",
      "   [3]]]]\n",
      "(1, 1, 3, 1) \n",
      "\n",
      "[1 2 3]\n",
      "(3,)\n"
     ]
    }
   ],
   "source": [
    "# np.squeeze( 차원축소 )\n",
    "# 배열에서 크기가 1인 차원을 제거하는 함수\n",
    "a=np.array([[[[1],[2],[3]]]])\n",
    "print(a)\n",
    "print(a.shape,\"\\n\")\n",
    "s=np.squeeze(a) #axis 지정않고 스퀴즈시\n",
    "print(s) # 1인 차원이 모두 제거된다.\n",
    "print(s.shape)"
   ]
  },
  {
   "cell_type": "code",
   "execution_count": 81,
   "id": "ec3766f4",
   "metadata": {},
   "outputs": [
    {
     "name": "stdout",
     "output_type": "stream",
     "text": [
      "(1, 4, 1, 2)\n",
      "(4, 1, 2)\n",
      "(1, 4, 2)\n"
     ]
    }
   ],
   "source": [
    "a2=np.zeros((1,4,1,2))\n",
    "print(a2.shape)\n",
    "\n",
    "s1=np.squeeze(a2,axis=0)\n",
    "print(s1.shape) # 0 축만 제거\n",
    "\n",
    "s2=np.squeeze(a2,axis=2)\n",
    "print(s2.shape) "
   ]
  },
  {
   "cell_type": "code",
   "execution_count": 84,
   "id": "8ddf7ade",
   "metadata": {},
   "outputs": [
    {
     "name": "stdout",
     "output_type": "stream",
     "text": [
      "[1 2 3 4 5]\n",
      "인덱스:  [ 0  5 12  9  3]\n",
      "원본 고유값 인덱스: [0 0 0 4 4 1 1 1 1 3 3 3 2 2 2]\n",
      "값 등장 횟수:  [3 4 3 3 2]\n"
     ]
    }
   ],
   "source": [
    "a=np.array([1,1,1,5,5,2,2,2,2,4,4,4,3,3,3])\n",
    "u1=np.unique(a)\n",
    "print(u1)\n",
    "\n",
    "u2, idx, inv, cnt=np.unique(a, return_index=True, return_inverse=True,return_counts=True)\n",
    "print(\"인덱스: \",idx) # 고유값이 원본에서 처음 나타나는 인덱스\n",
    "print(\"원본 고유값 인덱스:\",inv)\n",
    "print(\"값 등장 횟수: \", cnt)"
   ]
  },
  {
   "cell_type": "code",
   "execution_count": 116,
   "id": "9053c90f",
   "metadata": {},
   "outputs": [
    {
     "name": "stdout",
     "output_type": "stream",
     "text": [
      "[10 20 30 40 50 60]\n",
      "[10 20 30 40 50 60] \n",
      "\n",
      "(1, 32, 32) \n",
      "\n",
      "(28, 28) \n",
      "\n",
      "[[1 2 3 4]] \n",
      "\n",
      "(10, 1)\n",
      "[1 2 3] \n",
      "\n",
      "[[0]\n",
      " [1]\n",
      " [2]\n",
      " [3]\n",
      " [4]\n",
      " [5]\n",
      " [6]\n",
      " [7]\n",
      " [8]]\n",
      "(9, 1)\n"
     ]
    }
   ],
   "source": [
    "#1\n",
    "arr=np.array([[10,20],[30,40],[50,60]])\n",
    "arv=np.ravel(arr) # 원본의 변경사항에 영향을 받는다\n",
    "aft=arr.flatten()\n",
    "print(arv)\n",
    "print(aft,\"\\n\")\n",
    "#2\n",
    "img=np.random.rand(32,32)\n",
    "ex_img=np.expand_dims(img,axis=0)\n",
    "print(ex_img.shape,\"\\n\")\n",
    "#3\n",
    "img=np.random.randint(0,255,(1,28,28,1))\n",
    "sq_img=np.squeeze(img)\n",
    "print(sq_img.shape,\"\\n\")\n",
    "#4\n",
    "arr=np.array([[3,1,2,2],\n",
    "              [1,2,3,1],\n",
    "              [2,2,1,4]])\n",
    "arr=arr.flatten()\n",
    "arr=np.unique(arr)\n",
    "print(arr.reshape(1,-1),\"\\n\")\n",
    "#5\n",
    "arr = np.array([[[1], [3], [2], [1], [3], [2], [3], [1], [2], [3]]])\n",
    "arr=arr.squeeze(axis=0)\n",
    "print(arr.shape)\n",
    "print(np.unique(arr),\"\\n\")\n",
    "#6\n",
    "arr = np.array([ [[0, 1, 2, 3], [1, 2, 3, 4], [2, 3, 4, 5]],\n",
    "[[3, 4, 5, 6], [4, 5, 6, 7], [5, 6, 7, 8]] ]) \n",
    "arr=arr.squeeze()\n",
    "arr=np.unique(arr)\n",
    "arr=np.expand_dims(arr,axis=1) #뒤에 차원을 추가한다...\n",
    "print(arr.reshape(9,1))\n",
    "print(arr.shape)"
   ]
  },
  {
   "cell_type": "markdown",
   "id": "3d7525e0",
   "metadata": {},
   "source": [
    "# 배열 결합과 분리"
   ]
  },
  {
   "cell_type": "code",
   "execution_count": 121,
   "id": "e93eba49",
   "metadata": {},
   "outputs": [
    {
     "name": "stdout",
     "output_type": "stream",
     "text": [
      "[[1 2]\n",
      " [3 4]\n",
      " [5 6]] \n",
      "\n",
      "[[1 2 7]\n",
      " [3 4 8]\n",
      " [5 6 9]]\n"
     ]
    }
   ],
   "source": [
    "# 배열 시퀀스를 결합해주는 concatenate\n",
    "\n",
    "a=np.array([[1,2],[3,4]])\n",
    "b=np.array([[5,6]])\n",
    "ab=np.concatenate((a,b),axis=0) #행방향 결합\n",
    "print(ab,\"\\n\")\n",
    "\n",
    "c=np.array([[7],[8],[9]])\n",
    "abc=np.concatenate((ab,c),axis=1) #열방향 결합\n",
    "# 결합이 불가한 경우: 결합하는 axis를 제외한 나머지 차원이 같지 않을 경우\n",
    "print(abc)"
   ]
  },
  {
   "cell_type": "code",
   "execution_count": 124,
   "id": "bfe2d924",
   "metadata": {},
   "outputs": [
    {
     "name": "stdout",
     "output_type": "stream",
     "text": [
      "[[1 2 3]\n",
      " [4 5 6]] \n",
      "\n",
      "[[1 4]\n",
      " [2 5]\n",
      " [3 6]]\n"
     ]
    }
   ],
   "source": [
    "# stack\n",
    "a=np.array([1,2,3])\n",
    "b=np.array([4,5,6])\n",
    "\n",
    "ab_stack=np.stack((a,b),axis=0)\n",
    "print(ab_stack,\"\\n\")\n",
    "\n",
    "ab_stack2=np.stack((a,b),axis=1)\n",
    "print(ab_stack2)"
   ]
  },
  {
   "cell_type": "code",
   "execution_count": 126,
   "id": "238ad9bb",
   "metadata": {},
   "outputs": [
    {
     "name": "stdout",
     "output_type": "stream",
     "text": [
      "[1 2 3 4 5 6] \n",
      "\n",
      "[[1]\n",
      " [2]\n",
      " [3]\n",
      " [4]\n",
      " [5]\n",
      " [6]]\n"
     ]
    }
   ],
   "source": [
    "# hstack, vstack\n",
    "a=np.array([1,2,3])\n",
    "b=np.array([4,5,6])\n",
    "\n",
    "ab_stack=np.hstack((a,b))\n",
    "print(ab_stack,\"\\n\")\n",
    "\n",
    "a=np.array([[1],[2],[3]])\n",
    "b=np.array([[4],[5],[6]])\n",
    "ab_stack2=np.vstack((a,b))\n",
    "print(ab_stack2)"
   ]
  },
  {
   "cell_type": "code",
   "execution_count": 137,
   "id": "bf2c23ed",
   "metadata": {},
   "outputs": [
    {
     "name": "stdout",
     "output_type": "stream",
     "text": [
      "[array([0, 1, 2]), array([3, 4, 5]), array([6, 7, 8])] \n",
      "\n",
      "[[ 0  1  2  3]\n",
      " [ 4  5  6  7]\n",
      " [ 8  9 10 11]\n",
      " [12 13 14 15]] \n",
      "\n",
      "[[0 1 2 3]]\n",
      "[[ 4  5  6  7]\n",
      " [ 8  9 10 11]]\n",
      "[[12 13 14 15]]\n",
      "\n",
      "[[ 0  1]\n",
      " [ 4  5]\n",
      " [ 8  9]\n",
      " [12 13]]\n",
      "[[ 2  3]\n",
      " [ 6  7]\n",
      " [10 11]\n",
      " [14 15]]\n"
     ]
    }
   ],
   "source": [
    "# split 여러개의 하위배열로 분할\n",
    "a=np.arange(9)\n",
    "s=np.split(a,3)\n",
    "print(s,\"\\n\") # 같은 크기로만 나눌 수 있음.\n",
    "\n",
    "a=np.arange(16).reshape(4,4)\n",
    "print(a,\"\\n\")\n",
    "\n",
    "s1=np.split(a,[1,3])\n",
    "for part in s1:\n",
    "    print(part)\n",
    "\n",
    "print(\"\")\n",
    "\n",
    "s2=np.split(a,2,axis=1)\n",
    "for part in s2:\n",
    "    print(part)"
   ]
  },
  {
   "cell_type": "code",
   "execution_count": null,
   "id": "6042065c",
   "metadata": {},
   "outputs": [
    {
     "name": "stdout",
     "output_type": "stream",
     "text": [
      "[[1 2]\n",
      " [3 4]\n",
      " [5 6]]\n",
      "[array([0, 1, 2]), array([3, 4, 5]), array([6, 7, 8]), array([ 9, 10, 11])]\n",
      "[[1 2]\n",
      " [3 4]\n",
      " [5 6]]\n"
     ]
    }
   ],
   "source": [
    "#1\n",
    "a=np.array([[1,2],[3,4]])\n",
    "b=np.array([[5,6]])\n",
    "ab=np.concatenate((a,b),axis=0)\n",
    "print(ab)\n",
    "#2\n",
    "a=np.arange(12)\n",
    "a=np.split(a,4)\n",
    "print(a)\n",
    "#3\n",
    "a=np.array([1,2])\n",
    "b=np.array([3,4])\n",
    "c=np.array([5,6])\n",
    "abc=np.stack((a,b,c),axis=0)\n",
    "print(abc)"
   ]
  },
  {
   "cell_type": "markdown",
   "id": "6d7af868",
   "metadata": {},
   "source": [
    "# 배열의 정렬"
   ]
  },
  {
   "cell_type": "code",
   "execution_count": 161,
   "id": "83ac9fa1",
   "metadata": {},
   "outputs": [
    {
     "name": "stdout",
     "output_type": "stream",
     "text": [
      "a 배열          : [3 1 2 8 5]\n",
      "s=np.sort()    : [1 2 3 5 8]\n",
      "a.sort() 작업중...\n",
      "a 배열          : [1 2 3 5 8]\n"
     ]
    }
   ],
   "source": [
    "#np.sort(arr)\n",
    "#복사본 반환\n",
    "#arr.sort()\n",
    "#원본배열을 정렬\n",
    "\n",
    "a=np.array([3,1,2,8,5])\n",
    "s=np.sort(a)\n",
    "print(f\"a 배열          : {a}\")\n",
    "print(f\"s=np.sort()    : {s}\")\n",
    "print(f\"a.sort() 작업중...\")\n",
    "a.sort()\n",
    "print(f\"a 배열          : {a}\")\n",
    "\n"
   ]
  },
  {
   "cell_type": "code",
   "execution_count": null,
   "id": "b5668a56",
   "metadata": {},
   "outputs": [
    {
     "name": "stdout",
     "output_type": "stream",
     "text": [
      "a 배열          : [[6, 5, 4], [3, 1, 2]]\n",
      "s=np.sort()    : \n",
      "[[4 5 6]\n",
      " [1 2 3]]\n",
      "\n",
      "a.sort() 작업중...\n",
      "a 배열          : [[3, 1, 2], [6, 5, 4]]\n"
     ]
    }
   ],
   "source": [
    "# 2차원배열의경우?\n",
    "a=[[6,5,4],[3,1,2]]\n",
    "s=np.sort(a)\n",
    "print(f\"a 배열          : {a}\")\n",
    "print(f\"s=np.sort()    : \\n{s}\\n\")\n",
    "\n",
    "print(f\"a.sort() 작업중...\")\n",
    "a.sort()\n",
    "print(f\"a 배열          : {a}\")"
   ]
  },
  {
   "cell_type": "code",
   "execution_count": 168,
   "id": "d0a5408a",
   "metadata": {},
   "outputs": [
    {
     "name": "stdout",
     "output_type": "stream",
     "text": [
      "[[3 1 2]\n",
      " [6 5 4]]\n",
      "행을 비교해서 정렬한다.\n",
      "[[4 5 6]\n",
      " [1 2 3]]\n",
      "열을 비교해서 정렬한다.\n"
     ]
    }
   ],
   "source": [
    "a=[[6,5,4],[3,1,2]]\n",
    "s=np.sort(a,axis=0)\n",
    "print(s)\n",
    "print(\"행을 비교해서 정렬한다.\")\n",
    "a=[[6,5,4],[3,1,2]]\n",
    "s=np.sort(a,axis=1)\n",
    "print(s)\n",
    "print(\"열을 비교해서 정렬한다.\")\n"
   ]
  },
  {
   "cell_type": "code",
   "execution_count": 173,
   "id": "20260856",
   "metadata": {},
   "outputs": [
    {
     "name": "stdout",
     "output_type": "stream",
     "text": [
      "[1 3 0 2]\n",
      "소트된 값의 인덱스 값을 반환\n",
      "[1 2 3 4]\n"
     ]
    }
   ],
   "source": [
    "a=np.array([3,1,4,2])\n",
    "idx=np.argsort(a)\n",
    "print(idx)\n",
    "print(\"소트된 값의 인덱스 값을 반환\")\n",
    "print(a[idx]) #idx의 인덱스 값으로 출력"
   ]
  },
  {
   "cell_type": "code",
   "execution_count": 185,
   "id": "9c9957fc",
   "metadata": {},
   "outputs": [
    {
     "name": "stdout",
     "output_type": "stream",
     "text": [
      "[2 4 5 7 9] \n",
      " [9 7 5 4 2] \n",
      "\n",
      "[[2 5 9]\n",
      " [1 3 8]] \n",
      "\n",
      "[ 1  3  7  9 10] \n",
      "\n",
      "[[4 1 2]\n",
      " [6 7 3]\n",
      " [9 8 5]]\n"
     ]
    }
   ],
   "source": [
    "#1\n",
    "arr=np.array([7,2,9,4,5])\n",
    "arr.sort()\n",
    "arr2=arr\n",
    "print(arr,\"\\n\",arr[::-1],\"\\n\") # 뒤집기 빠먹었다..\n",
    "#2\n",
    "arr=np.array([[9,2,5],\n",
    "              [3,8,1]])\n",
    "s=np.sort(arr,axis=1)\n",
    "print(s,\"\\n\")\n",
    "#3\n",
    "arr=np.array([10,3,7,1,9])\n",
    "idx=np.argsort(arr)\n",
    "print(arr[idx],\"\\n\")\n",
    "#4\n",
    "arr=np.array([[4,7,2],\n",
    "              [9,1,5],\n",
    "              [6,8,3]])\n",
    "s=np.sort(arr,axis=0)\n",
    "print(s)"
   ]
  },
  {
   "cell_type": "code",
   "execution_count": null,
   "id": "e2a1f807",
   "metadata": {},
   "outputs": [],
   "source": []
  }
 ],
 "metadata": {
  "kernelspec": {
   "display_name": "data_analysis",
   "language": "python",
   "name": "python3"
  },
  "language_info": {
   "codemirror_mode": {
    "name": "ipython",
    "version": 3
   },
   "file_extension": ".py",
   "mimetype": "text/x-python",
   "name": "python",
   "nbconvert_exporter": "python",
   "pygments_lexer": "ipython3",
   "version": "3.13.5"
  }
 },
 "nbformat": 4,
 "nbformat_minor": 5
}
