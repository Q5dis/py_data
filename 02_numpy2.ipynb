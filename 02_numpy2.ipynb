{
 "cells": [
  {
   "cell_type": "markdown",
   "id": "1f1f7234",
   "metadata": {},
   "source": [
    "### 통계 함수 및 집계연산"
   ]
  },
  {
   "cell_type": "code",
   "execution_count": 2,
   "id": "ad1d4a58",
   "metadata": {},
   "outputs": [],
   "source": [
    "import numpy as np"
   ]
  },
  {
   "cell_type": "code",
   "execution_count": 32,
   "id": "3371148b",
   "metadata": {},
   "outputs": [
    {
     "name": "stdout",
     "output_type": "stream",
     "text": [
      "통게 및 집계연산\n",
      "numpy행렬 원소의 합: 21\n",
      "원소의 평균:  3.5\n",
      "표준편차:  1.707825127659933\n",
      "최대값:  6\n",
      "최소값:  1\n",
      "최대값 인덱스:  5\n",
      "최소값 인덱스:  0\n"
     ]
    }
   ],
   "source": [
    "a=np.array([[1,2,3],[4,5,6]])\n",
    "\n",
    "print(\"통게 및 집계연산\")\n",
    "print(\"numpy행렬 원소의 합:\",np.sum(a))\n",
    "print(\"원소의 평균: \",np.mean(a))\n",
    "print(\"표준편차: \",np.std(a))\n",
    "print(\"최대값: \",np.max(a))\n",
    "print(\"최소값: \",np.min(a))\n",
    "print(\"최대값 인덱스: \",np.argmax(a))\n",
    "print(\"최소값 인덱스: \", np.argmin(a))"
   ]
  },
  {
   "cell_type": "code",
   "execution_count": 27,
   "id": "66a0d8fa",
   "metadata": {},
   "outputs": [
    {
     "name": "stdout",
     "output_type": "stream",
     "text": [
      "축 단위 연산\n",
      "(3, 3)\n",
      "2 = axis0, 3 = axis1\n",
      "axis 0: 행기준, axis 1: 열기준\n",
      "\n",
      "행기준 합 [12 15 18]\n",
      "열기준 합 [ 6 15 24] \n",
      "\n",
      "행기준 평균 [4. 5. 6.]\n",
      "열기준 평균 [2. 5. 8.]\n"
     ]
    }
   ],
   "source": [
    "print(\"축 단위 연산\")\n",
    "# 특정한 축을 기준으로 연산을 하겠다는 의미\n",
    "# axis = 0 >>> 가장 높은 차원 기준.\n",
    "# axis = 1 >>> 그 다음 차원 기준.\n",
    "\n",
    "a=np.array([[1,2,3],\n",
    "            [4,5,6],\n",
    "            [7,8,9]])\n",
    "\n",
    "print(a.shape)\n",
    "print(\"2 = axis0, 3 = axis1\")\n",
    "print(\"axis 0: 행기준, axis 1: 열기준\\n\")\n",
    "\n",
    "print(\"행기준 합\",np.sum(a,axis=0))\n",
    "# 0.0(1)+1.0(4)=5\n",
    "# 0.1(2)+1.1(5)=7 이런식으로 연산\n",
    "print(\"열기준 합\",np.sum(a,axis=1),\"\\n\")\n",
    "# 0.0(1)+(0.1)(2)+0.2(3)=6\n",
    "# 이런 식으로 연산\n",
    "\n",
    "print(\"행기준 평균\",np.mean(a,axis=0)) # 4,5,6\n",
    "print(\"열기준 평균\",np.mean(a,axis=1)) # 2,5,8\n",
    "\n",
    "# 행기준: 행을 따라 연산한다. 행인덱스를 증가시키며 연산한다.\n",
    "# 열기준: 열을 따라 연산한다. 열인덱스를 증가시키며 연산한다."
   ]
  },
  {
   "cell_type": "code",
   "execution_count": 30,
   "id": "6c44a2af",
   "metadata": {},
   "outputs": [
    {
     "name": "stdout",
     "output_type": "stream",
     "text": [
      "누적 연산\n",
      "[ 1  3  6 10]\n",
      "[ 1  2  6 24]\n"
     ]
    }
   ],
   "source": [
    "print(\"누적 연산\")\n",
    "arr=np.array([1,2,3,4])\n",
    "print(np.cumsum(arr)) # (더하기) 순서대로 누적하며 연산결과를 저장한다\n",
    "print(np.cumprod(arr)) # (곱하기) 순서대로 누적하며 연산결과를 저장한다"
   ]
  },
  {
   "cell_type": "code",
   "execution_count": 6,
   "id": "6a77deb4",
   "metadata": {},
   "outputs": [
    {
     "name": "stdout",
     "output_type": "stream",
     "text": [
      "평균: 12.5\n",
      "합계: 50\n",
      "\n",
      "전체 최솟값: 3\n",
      "최대값: 3\n",
      "\n",
      "열의 합계(행기준): [12 15 18]\n",
      "행의 합계(열기준):[ 6 15 24]\n",
      "\n",
      "열별 평균(행기준): [30. 40.]\n",
      "행별 평균(열기준): [15. 35. 55.]\n",
      "\n",
      "표준편차: 2.0 | 얼마나 떨어져있나?: [-3. -1. -1. -1.  0.  0.  2.  4.]\n",
      "\n",
      "원본배열\n",
      "[[1 2 3]\n",
      " [4 5 6]]\n",
      "행 단위 누적합:\n",
      " [[1 2 3]\n",
      " [5 7 9]]\n",
      "열 단위 누적곱: \n",
      "[[  1   2   6]\n",
      " [  4  20 120]]\n"
     ]
    }
   ],
   "source": [
    "# 실습2\n",
    "\n",
    "#1\n",
    "arr=np.array([5,10,15,20])\n",
    "print(f\"평균: {np.mean(arr)}\\n합계: {np.sum(arr)}\\n\")\n",
    "#2\n",
    "arr=np.array([[3,7,1],\n",
    "              [9,2,8]])\n",
    "print(f\"전체 최솟값: {np.argmax(arr)}\\n최대값: {np.argmax(arr)}\\n\")\n",
    "#3\n",
    "arr=np.array([[1,2,3],\n",
    "             [4,5,6],\n",
    "             [7,8,9]])\n",
    "print(f\"열의 합계(행기준): {np.sum(arr,axis=0)}\\n행의 합계(열기준):{np.sum(arr,axis=1)}\\n\")\n",
    "#4\n",
    "arr=np.array([[10,20],\n",
    "              [30,40],\n",
    "              [50,60]])\n",
    "print(f\"열별 평균(행기준): {np.mean(arr,axis=0)}\\n행별 평균(열기준): {np.mean(arr,axis=1)}\\n\")\n",
    "#5\n",
    "arr=np.array([2,4,4,4,5,5,7,9])\n",
    "arr_far=arr-np.mean(arr)\n",
    "print(f\"표준편차: {np.std(arr)} | 얼마나 떨어져있나?: {arr_far}\\n\")\n",
    "#6\n",
    "arr=np.array([[1,2,3],\n",
    "             [4,5,6]])\n",
    "print(f\"원본배열\\n{arr}\\n행 단위 누적합:\\n {np.cumsum(arr,axis=0)}\\n열 단위 누적곱: \\n{np.cumprod(arr,axis=1)}\")"
   ]
  },
  {
   "cell_type": "markdown",
   "id": "bbfeca1f",
   "metadata": {},
   "source": [
    "# 논리연산과 조건연산"
   ]
  },
  {
   "cell_type": "code",
   "execution_count": 14,
   "id": "d56b89f0",
   "metadata": {},
   "outputs": [
    {
     "name": "stdout",
     "output_type": "stream",
     "text": [
      "['low' 'low' 'low' 'low' 'low' 'high' 'high' 'high' 'high' 'high']\n",
      "[ 60  70  80  90 100]\n"
     ]
    }
   ],
   "source": [
    "# np.where() 조건 기반 선택함수\n",
    "arr=np.array([10,20,30,40,50,60,70,80,90,100])\n",
    "result=np.where(arr>50,\"high\",\"low\")\n",
    "                        # 참일경우,거짓일경우\n",
    "                        # 참일 경우 high, 거짓일경우 log 할당\n",
    "print(result)\n",
    "\n",
    "arr=np.array([10,20,30,40,50,60,70,80,90,100])\n",
    "result=np.where(arr>50)\n",
    "print(arr[result]) # 조건만 넣을 경우 조건만족하는 원소의 '인덱스' 만 반환한다.\n",
    "                # 팬시 인덱싱으로 정리"
   ]
  },
  {
   "cell_type": "code",
   "execution_count": 21,
   "id": "d3149526",
   "metadata": {},
   "outputs": [
    {
     "name": "stdout",
     "output_type": "stream",
     "text": [
      "& 연산 [20 30 40 50 60 70]\n",
      "or 연산 [ 10 100]\n",
      "~연산 [10 20 30]\n"
     ]
    }
   ],
   "source": [
    "# 논리연산\n",
    "# and:&, or:|, not:~\n",
    "\n",
    "# and 연산\n",
    "arr=np.array([10,20,30,40,50,60,70,80,90,100])\n",
    "mask=(arr>10)&(arr<80)\n",
    "print(\"& 연산\",arr[mask])\n",
    "\n",
    "# or 연산\n",
    "mask_or=(arr==10) | (arr==100)\n",
    "print(\"or 연산\",arr[mask_or])\n",
    "\n",
    "# not 연산\n",
    "mask_not=~(arr > 30)\n",
    "print(\"~연산\",arr[mask_not])"
   ]
  },
  {
   "cell_type": "code",
   "execution_count": 24,
   "id": "62b2cb17",
   "metadata": {},
   "outputs": [
    {
     "name": "stdout",
     "output_type": "stream",
     "text": [
      "[ 92  94  96  98 100]\n"
     ]
    }
   ],
   "source": [
    "arr=np.arange(0,101)\n",
    "mask=(arr%2==0) & (arr>90)\n",
    "print(arr[mask])"
   ]
  },
  {
   "cell_type": "code",
   "execution_count": 85,
   "id": "5909a274",
   "metadata": {},
   "outputs": [
    {
     "name": "stdout",
     "output_type": "stream",
     "text": [
      "[12 18]\n",
      "[10 35]\n",
      "[3 8 0 6 2 0]\n",
      "['low' 'low' 'high' 'high' 'high']\n",
      "[ 0 10  2 30  4 50  6 70  8 90]\n",
      "[25 30 35]\n",
      "[1 2 4 5]\n",
      "랜덤정수배열: [55 29 89 35 63 15 84 44 72 24]\n",
      "50이상은 그대로, 미만은 50화: [55 50 89 50 63 50 84 50 72 50]\n",
      "[['C' 'B' 'A']\n",
      " ['C' 'A' 'C']\n",
      " ['B' 'B' 'A']]\n"
     ]
    }
   ],
   "source": [
    "# 실습3\n",
    "#1\n",
    "arr=np.array([5,12,18,7,30,25])\n",
    "print(arr[(arr>10)&(arr<20)])\n",
    "#2\n",
    "arr=np.array([10,15,20,25,30,35])\n",
    "print(arr[(arr<15)|(arr>30)])\n",
    "#3\n",
    "arr=np.array([3,8,15,6,2,20])\n",
    "arr=np.where(arr>10,0,arr)\n",
    "print(arr)\n",
    "#4\n",
    "arr=np.array([7,14,21,28,35])\n",
    "arr_new=np.where(arr>20,\"high\",\"low\")\n",
    "print(arr_new)\n",
    "#5\n",
    "arr=np.arange(0,10)\n",
    "arr_new=np.where(arr%2==0,arr,arr*10)\n",
    "print(arr_new)\n",
    "#6\n",
    "arr=np.array([[10,25,30],\n",
    "              [40,5,15],\n",
    "              [20,35,50]])\n",
    "print(arr[np.where((arr>20)&(arr<40))])\n",
    "#7\n",
    "arr=np.arange(1,7)\n",
    "print(arr[np.where(arr%3!=0)])\n",
    "#8\n",
    "arr=np.random.randint(0,100,10)\n",
    "arr_new=np.where(arr>50,arr,50)\n",
    "print(f\"랜덤정수배열: {arr}\\n50이상은 그대로, 미만은 50화: {arr_new}\")\n",
    "#9\n",
    "arr=np.array([[5,50,94],\n",
    "              [20,75,10],\n",
    "              [60,30,85]])\n",
    "\n",
    "result = np.where(arr > 70, \"A\",\n",
    "         np.where(arr >= 30, \"B\", \"C\"))\n",
    "print(result)"
   ]
  },
  {
   "cell_type": "code",
   "execution_count": null,
   "id": "05788229",
   "metadata": {},
   "outputs": [],
   "source": []
  }
 ],
 "metadata": {
  "kernelspec": {
   "display_name": "data_analysis",
   "language": "python",
   "name": "python3"
  },
  "language_info": {
   "codemirror_mode": {
    "name": "ipython",
    "version": 3
   },
   "file_extension": ".py",
   "mimetype": "text/x-python",
   "name": "python",
   "nbconvert_exporter": "python",
   "pygments_lexer": "ipython3",
   "version": "3.13.5"
  }
 },
 "nbformat": 4,
 "nbformat_minor": 5
}
