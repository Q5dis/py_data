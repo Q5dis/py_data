{
 "cells": [
  {
   "cell_type": "markdown",
   "id": "1f1f7234",
   "metadata": {},
   "source": [
    "### 통계 함수 및 집계연산"
   ]
  },
  {
   "cell_type": "code",
   "execution_count": 1,
   "id": "ad1d4a58",
   "metadata": {},
   "outputs": [],
   "source": [
    "import numpy as np"
   ]
  },
  {
   "cell_type": "code",
   "execution_count": 10,
   "id": "3371148b",
   "metadata": {},
   "outputs": [
    {
     "name": "stdout",
     "output_type": "stream",
     "text": [
      "numpy행렬 원소의 합: 21\n",
      "원소의 평균:  3.5\n",
      "표준편차:  1.707825127659933\n",
      "최대값:  6\n",
      "최소값:  1\n",
      "최대값 인덱스:  5\n",
      "최소값 인덱스:  0\n"
     ]
    }
   ],
   "source": [
    "a=np.array([[1,2,3],[4,5,6]])\n",
    "print(\"numpy행렬 원소의 합:\",np.sum(a))\n",
    "print(\"원소의 평균: \",np.mean(a))\n",
    "print(\"표준편차: \",np.std(a))\n",
    "print(\"최대값: \",np.max(a))\n",
    "print(\"최소값: \",np.min(a))\n",
    "print(\"최대값 인덱스: \",np.argmax(a))\n",
    "print(\"최소값 인덱스: \", np.argmin(a))"
   ]
  },
  {
   "cell_type": "code",
   "execution_count": 27,
   "id": "66a0d8fa",
   "metadata": {},
   "outputs": [
    {
     "name": "stdout",
     "output_type": "stream",
     "text": [
      "축 단위 연산\n",
      "(3, 3)\n",
      "2 = axis0, 3 = axis1\n",
      "axis 0: 행기준, axis 1: 열기준\n",
      "\n",
      "행기준 합 [12 15 18]\n",
      "열기준 합 [ 6 15 24] \n",
      "\n",
      "행기준 평균 [4. 5. 6.]\n",
      "열기준 평균 [2. 5. 8.]\n"
     ]
    }
   ],
   "source": [
    "print(\"축 단위 연산\")\n",
    "# 특정한 축을 기준으로 연산을 하겠다는 의미\n",
    "# axis = 0 >>> 가장 높은 차원 기준.\n",
    "# axis = 1 >>> 그 다음 차원 기준.\n",
    "\n",
    "a=np.array([[1,2,3],\n",
    "            [4,5,6],\n",
    "            [7,8,9]])\n",
    "\n",
    "print(a.shape)\n",
    "print(\"2 = axis0, 3 = axis1\")\n",
    "print(\"axis 0: 행기준, axis 1: 열기준\\n\")\n",
    "\n",
    "print(\"행기준 합\",np.sum(a,axis=0))\n",
    "# 0.0(1)+1.0(4)=5\n",
    "# 0.1(2)+1.1(5)=7 이런식으로 연산\n",
    "print(\"열기준 합\",np.sum(a,axis=1),\"\\n\")\n",
    "# 0.0(1)+(0.1)(2)+0.2(3)=6\n",
    "# 이런 식으로 연산\n",
    "\n",
    "print(\"행기준 평균\",np.mean(a,axis=0)) # 4,5,6\n",
    "print(\"열기준 평균\",np.mean(a,axis=1)) # 2,5,8\n",
    "\n",
    "# 행기준: 행을 따라 연산한다. 행인덱스를 증가시키며 연산한다.\n",
    "# 열기준: 열을 따라 연산한다. 열인덱스를 증가시키며 연산한다."
   ]
  },
  {
   "cell_type": "code",
   "execution_count": null,
   "id": "6c44a2af",
   "metadata": {},
   "outputs": [],
   "source": []
  }
 ],
 "metadata": {
  "kernelspec": {
   "display_name": "data_analysis",
   "language": "python",
   "name": "python3"
  },
  "language_info": {
   "codemirror_mode": {
    "name": "ipython",
    "version": 3
   },
   "file_extension": ".py",
   "mimetype": "text/x-python",
   "name": "python",
   "nbconvert_exporter": "python",
   "pygments_lexer": "ipython3",
   "version": "3.13.5"
  }
 },
 "nbformat": 4,
 "nbformat_minor": 5
}
