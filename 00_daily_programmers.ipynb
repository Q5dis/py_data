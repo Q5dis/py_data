{
 "cells": [
  {
   "cell_type": "markdown",
   "id": "e8aaf10c",
   "metadata": {},
   "source": [
    "#### >>>> 2025.08.01"
   ]
  },
  {
   "cell_type": "code",
   "execution_count": 13,
   "id": "8e756a77",
   "metadata": {},
   "outputs": [
    {
     "name": "stdout",
     "output_type": "stream",
     "text": [
      "[2, 3, 4, 5, 6, 7]\n"
     ]
    }
   ],
   "source": [
    "# 두 개 뽑아서 더하기\n",
    "# https://school.programmers.co.kr/learn/courses/30/lessons/68644\n",
    "\n",
    "def solution(numbers):\n",
    "    add_list = []\n",
    "    for i in range(len(numbers)): # range, 즉 인덱스 번호로 반복\n",
    "        for j in range(len(numbers)):\n",
    "            if i == j:\n",
    "                continue  # 인덱스값이 같은경우 건너뜀\n",
    "            s = numbers[i] + numbers[j] # 리스트에 어팬드\n",
    "            add_list.append(s)\n",
    "    return sorted(set(add_list))\n",
    "\n",
    "print(solution([2,1,3,4,1]))"
   ]
  },
  {
   "cell_type": "code",
   "execution_count": 22,
   "id": "271ba657",
   "metadata": {},
   "outputs": [
    {
     "data": {
      "text/plain": [
       "{2, 3, 4, 5, 6, 7}"
      ]
     },
     "execution_count": 22,
     "metadata": {},
     "output_type": "execute_result"
    }
   ],
   "source": [
    "# 강사의 예문\n",
    "\n",
    "from itertools import combinations\n",
    "\n",
    "def solution(numbers):\n",
    "    comb_list=list(map(sum, list(combinations(numbers,2)))) # map함수로 순회하며 더해준다\n",
    "    return set(comb_list)\n",
    "\n",
    "solution([2,1,3,4,1])\n",
    "\n",
    "from itertools import combinations\n",
    "\n",
    "\n",
    "\n",
    "\n",
    "def solution(numbers):\n",
    "    return set(list(map(sum, list(combinations(numbers,2)))))\n",
    "solution([2,1,3,4,1])\n",
    "\n"
   ]
  },
  {
   "cell_type": "markdown",
   "id": "0ff4e3ef",
   "metadata": {},
   "source": [
    "#### >>>> 2025.08.04"
   ]
  },
  {
   "cell_type": "code",
   "execution_count": 22,
   "id": "d935be1e",
   "metadata": {},
   "outputs": [
    {
     "name": "stdout",
     "output_type": "stream",
     "text": [
      "Hello Python\n",
      "[1, 3, 0, 1]\n"
     ]
    }
   ],
   "source": [
    "# 같은 숫자는 싫어\n",
    "# https://school.programmers.co.kr/learn/courses/30/lessons/12906\n",
    "\n",
    "def solution(arr):\n",
    "    answer = []\n",
    "    answer.append(arr[0])\n",
    "    print('Hello Python')\n",
    "    for i in arr:\n",
    "        if answer[-1]!= i:\n",
    "            answer.append(i)\n",
    "    return answer\n",
    "\n",
    "print(solution([1,1,3,3,0,1,1]))"
   ]
  },
  {
   "cell_type": "markdown",
   "id": "62ae5d9b",
   "metadata": {},
   "source": [
    "#### >>>> 2025.08.05"
   ]
  },
  {
   "cell_type": "code",
   "execution_count": null,
   "id": "c59297e3",
   "metadata": {},
   "outputs": [],
   "source": [
    "# 예산\n",
    "# https://school.programmers.co.kr/learn/courses/30/lessons/12982?language=python3\n",
    "\n",
    "def solution(d, budget):\n",
    "    a=0\n",
    "    sorted(d)\n",
    "    for i in d:\n",
    "        if budget-i<0:\n",
    "            return a\n",
    "        a+=1\n",
    "        budget-=i\n",
    "    return a\n"
   ]
  },
  {
   "cell_type": "markdown",
   "id": "0b7f3b73",
   "metadata": {},
   "source": [
    "#### >>>> 2025.08.06"
   ]
  },
  {
   "cell_type": "code",
   "execution_count": null,
   "id": "2af6b0dc",
   "metadata": {},
   "outputs": [],
   "source": [
    "# 완주하지 못한 선수\n",
    "# https://school.programmers.co.kr/learn/courses/30/lessons/42576?language=python3\n",
    "from collections import Counter\n",
    "\n",
    "def solution(participant, completion):\n",
    "\n",
    "    p_counter = Counter(participant)\n",
    "    c_counter = Counter(completion)\n",
    "    diff = p_counter - c_counter  \n",
    "    \n",
    "    return list(diff.keys())[0]"
   ]
  },
  {
   "cell_type": "code",
   "execution_count": 56,
   "id": "a0e7f4d9",
   "metadata": {},
   "outputs": [
    {
     "name": "stdout",
     "output_type": "stream",
     "text": [
      "[]\n",
      "Counter({'mislav': 2, 'stanko': 1, 'ana': 1})\n",
      "Counter({'stanko': 1, 'ana': 1, 'mislav': 1})\n",
      "['stanko', 'ana', 'mislav']\n",
      "dict_values([2, 1, 1])\n",
      "Counter({'mislav': 1})\n",
      "mislav\n"
     ]
    }
   ],
   "source": [
    "participant=[\"mislav\", \"stanko\", \"mislav\", \"ana\"]\n",
    "completion=[\"stanko\", \"ana\", \"mislav\"]\n",
    "# participant에서 컴플레션과 겹치는 값을 빼고 파티시팬트 값을 리턴\n",
    "a=set(participant)\n",
    "b=set(completion)\n",
    "result=list(a.difference(b))\n",
    "\n",
    "print(result)\n",
    "from collections import Counter\n",
    "p_counter = Counter(participant)\n",
    "c_counter = Counter(completion)\n",
    "diff = p_counter - c_counter  \n",
    "print(p_counter)\n",
    "print(c_counter)\n",
    "print(list(c_counter))\n",
    "print(p_counter.values())\n",
    "print(diff)\n",
    "print(list(diff.keys())[0])\n"
   ]
  },
  {
   "cell_type": "code",
   "execution_count": 60,
   "id": "1dc44eae",
   "metadata": {},
   "outputs": [
    {
     "name": "stdout",
     "output_type": "stream",
     "text": [
      "mislav\n"
     ]
    }
   ],
   "source": [
    "p=[\"mislav\", \"stanko\", \"mislav\", \"ana\"]\n",
    "c=[\"stanko\", \"ana\", \"mislav\"]\n",
    "\n",
    "p.sort()\n",
    "c.sort()\n",
    "a=\"\"\n",
    "for i,j in zip(p,c): # 같은 인덱스를 묶어서 비교하는 zip, 같지않은거 반환.\n",
    "                    # 마지막에 하나 남을 경우는 p[-1]해서 마지막 완주\n",
    "                    # 못한 사람을 반환하는 것\n",
    "    if i!=j:\n",
    "         a=i\n",
    "\n",
    "# return p[-1]\n",
    "print(a)"
   ]
  },
  {
   "cell_type": "code",
   "execution_count": 23,
   "id": "8fc6481c",
   "metadata": {},
   "outputs": [
    {
     "name": "stdout",
     "output_type": "stream",
     "text": [
      "{'vinko'}\n"
     ]
    }
   ],
   "source": [
    "participant=[\"marina\", \"josipa\", \"nikola\", \"vinko\", \"filipa\"]\n",
    "completion=[\"josipa\", \"filipa\", \"marina\", \"nikola\"]\n",
    "\n",
    "a=set(participant)\n",
    "b=set(completion)\n",
    "\n",
    "print(a.difference(b))"
   ]
  },
  {
   "cell_type": "code",
   "execution_count": null,
   "id": "8fbc33a9",
   "metadata": {},
   "outputs": [],
   "source": []
  }
 ],
 "metadata": {
  "kernelspec": {
   "display_name": "data_analysis",
   "language": "python",
   "name": "python3"
  },
  "language_info": {
   "codemirror_mode": {
    "name": "ipython",
    "version": 3
   },
   "file_extension": ".py",
   "mimetype": "text/x-python",
   "name": "python",
   "nbconvert_exporter": "python",
   "pygments_lexer": "ipython3",
   "version": "3.13.5"
  }
 },
 "nbformat": 4,
 "nbformat_minor": 5
}
