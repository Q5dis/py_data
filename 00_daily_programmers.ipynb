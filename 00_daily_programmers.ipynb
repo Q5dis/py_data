{
 "cells": [
  {
   "cell_type": "markdown",
   "id": "e8aaf10c",
   "metadata": {},
   "source": [
    "#### >>>> 2025.08.01"
   ]
  },
  {
   "cell_type": "code",
   "execution_count": 13,
   "id": "8e756a77",
   "metadata": {},
   "outputs": [
    {
     "name": "stdout",
     "output_type": "stream",
     "text": [
      "[2, 3, 4, 5, 6, 7]\n"
     ]
    }
   ],
   "source": [
    "# 두 개 뽑아서 더하기\n",
    "# https://school.programmers.co.kr/learn/courses/30/lessons/68644\n",
    "\n",
    "def solution(numbers):\n",
    "    add_list = []\n",
    "    for i in range(len(numbers)): # range, 즉 인덱스 번호로 반복\n",
    "        for j in range(len(numbers)):\n",
    "            if i == j:\n",
    "                continue  # 인덱스값이 같은경우 건너뜀\n",
    "            s = numbers[i] + numbers[j] # 리스트에 어팬드\n",
    "            add_list.append(s)\n",
    "    return sorted(set(add_list))\n",
    "\n",
    "print(solution([2,1,3,4,1]))"
   ]
  },
  {
   "cell_type": "code",
   "execution_count": 22,
   "id": "271ba657",
   "metadata": {},
   "outputs": [
    {
     "data": {
      "text/plain": [
       "{2, 3, 4, 5, 6, 7}"
      ]
     },
     "execution_count": 22,
     "metadata": {},
     "output_type": "execute_result"
    }
   ],
   "source": [
    "# 강사의 예문\n",
    "\n",
    "from itertools import combinations\n",
    "\n",
    "def solution(numbers):\n",
    "    comb_list=list(map(sum, list(combinations(numbers,2)))) # map함수로 순회하며 더해준다\n",
    "    return set(comb_list)\n",
    "\n",
    "solution([2,1,3,4,1])\n",
    "\n",
    "from itertools import combinations\n",
    "\n",
    "\n",
    "\n",
    "\n",
    "def solution(numbers):\n",
    "    return set(list(map(sum, list(combinations(numbers,2)))))\n",
    "solution([2,1,3,4,1])\n",
    "\n"
   ]
  },
  {
   "cell_type": "markdown",
   "id": "0ff4e3ef",
   "metadata": {},
   "source": [
    "#### >>>> 2025.08.04"
   ]
  },
  {
   "cell_type": "code",
   "execution_count": 22,
   "id": "d935be1e",
   "metadata": {},
   "outputs": [
    {
     "name": "stdout",
     "output_type": "stream",
     "text": [
      "Hello Python\n",
      "[1, 3, 0, 1]\n"
     ]
    }
   ],
   "source": [
    "# 같은 숫자는 싫어\n",
    "# https://school.programmers.co.kr/learn/courses/30/lessons/12906\n",
    "\n",
    "def solution(arr):\n",
    "    answer = []\n",
    "    answer.append(arr[0])\n",
    "    print('Hello Python')\n",
    "    for i in arr:\n",
    "        if answer[-1]!= i:\n",
    "            answer.append(i)\n",
    "    return answer\n",
    "\n",
    "print(solution([1,1,3,3,0,1,1]))"
   ]
  },
  {
   "cell_type": "code",
   "execution_count": null,
   "id": "c59297e3",
   "metadata": {},
   "outputs": [],
   "source": []
  }
 ],
 "metadata": {
  "kernelspec": {
   "display_name": "data_analysis",
   "language": "python",
   "name": "python3"
  },
  "language_info": {
   "codemirror_mode": {
    "name": "ipython",
    "version": 3
   },
   "file_extension": ".py",
   "mimetype": "text/x-python",
   "name": "python",
   "nbconvert_exporter": "python",
   "pygments_lexer": "ipython3",
   "version": "3.13.5"
  }
 },
 "nbformat": 4,
 "nbformat_minor": 5
}
