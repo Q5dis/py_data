{
 "cells": [
  {
   "cell_type": "code",
   "execution_count": 2,
   "id": "f9e42c11",
   "metadata": {},
   "outputs": [],
   "source": [
    "import numpy as np\n",
    "import random as r"
   ]
  },
  {
   "cell_type": "code",
   "execution_count": 5,
   "id": "b5c1bdc9",
   "metadata": {},
   "outputs": [],
   "source": [
    "# numpy는 다차원 배열을 쉽고, 효율적으로 사용할 수 있게 돕는 라이브러리\n",
    "# 대표적인 데이터분석 라이브러리"
   ]
  },
  {
   "cell_type": "code",
   "execution_count": 7,
   "id": "5103cffb",
   "metadata": {},
   "outputs": [],
   "source": [
    "# ndarray\n",
    "# 파이썬의 list기능을 보완하고, 행렬을 다루는 자료형\n",
    "\n",
    "# 다차원 행렬? 2차원을 예로들자\n",
    "# 1행이 2개의 열을 보유하면\n",
    "# 2행도 2개의 열을 보유해야 성립\n",
    "\n",
    "# 리스트의 더하기연산은 그냥 리스트의 연결이다.\n",
    "# ndarray는 행렬의 연산, 같은 위치에 있는 열끼리 덧셈 연산 실행.\n",
    "# 그래서 길이가 다른 ndarray끼리의 연산은 수행하지 않음\n"
   ]
  },
  {
   "cell_type": "code",
   "execution_count": null,
   "id": "1d106786",
   "metadata": {},
   "outputs": [],
   "source": [
    "# 차원과 축!\n",
    "\n",
    "#1D [1,2,3] 1차원 데이터. 모든 요소가 스칼라\n",
    "#2D [[1,2],[3,4]] 2차원의 데이터. \n",
    "#3D [ [[1],[2]],[[3],[4]] ] 3차원의 데이터.\n",
    "\n",
    "#axis=0 행 방향(세로축)\n",
    "#0\n",
    "#0\n",
    "#0\n",
    "#axis=1 열 방향(가로축)\n",
    "#0000000"
   ]
  },
  {
   "cell_type": "markdown",
   "id": "3516b0f1",
   "metadata": {},
   "source": [
    "### ndarray\n",
    "- NumPy의 핵심 데이터 구조\n",
    "- 동일한 자료형의 다차원 배열"
   ]
  },
  {
   "cell_type": "code",
   "execution_count": null,
   "id": "4fe55e87",
   "metadata": {},
   "outputs": [
    {
     "name": "stdout",
     "output_type": "stream",
     "text": [
      "배열의 구조: (2, 3)\n",
      "배열의 차원: 2\n",
      "배열의 데이터타입: int64\n",
      "b배열의 데이터타입: float64\n"
     ]
    }
   ],
   "source": [
    "import numpy as np\n",
    "\n",
    "a=np.array([[1,2,3],[4,5,6]])\n",
    "d=np.array([1.0, 2.0, 7.6])\n",
    "\n",
    "print(f\"배열의 구조: {a.shape}\") # 2행 3열\n",
    "print(f\"배열의 차원: {a.ndim}\") # 2차원 배열\n",
    "print(f\"a배열의 데이터타입: {a.dtype}\") # 정수형 64비트(=8바이트)\n",
    "\n",
    "print(f\"b배열의 데이터타입: {d.dtype}\")\n",
    "\n",
    "new_a=a.astype(np.float64)\n",
    "print(f\"수정한 a 배열의 데이터타입: {new_a.dtype}\")"
   ]
  },
  {
   "cell_type": "code",
   "execution_count": null,
   "id": "742d80f5",
   "metadata": {},
   "outputs": [
    {
     "name": "stdout",
     "output_type": "stream",
     "text": [
      "배열의 구조: (4, 2, 3)\n",
      "배열의 차원: 3\n"
     ]
    }
   ],
   "source": [
    "# 3차원 행렬\n",
    "a=np.array([[[1,2,3],[4,5,6]],\n",
    "            [[1,2,3],[4,5,6]],\n",
    "            [[1,2,3],[4,5,6]],\n",
    "            [[1,2,3],[4,5,6]],\n",
    "            ])\n",
    "\n",
    "\n",
    "print(f\"배열의 구조: {a.shape}\") # 4개 있다, 2행이고 3열인 2차원 행렬이\n",
    "print(f\"배열의 차원: {a.ndim}\") # 3차원 배열"
   ]
  },
  {
   "cell_type": "code",
   "execution_count": null,
   "id": "4456de40",
   "metadata": {},
   "outputs": [
    {
     "name": "stdout",
     "output_type": "stream",
     "text": [
      "배열의 구조: (2, 4, 2, 3)\n",
      "배열의 차원: 4\n"
     ]
    }
   ],
   "source": [
    "# 4차원 배열 정의\n",
    "a = np.array([\n",
    "    [  # # 첫 번째 3차원 블록 (4개의 2x3 행렬)\n",
    "        [[1, 2, 3], [4, 5, 6]],   # 2행 3열 2차원 배열로 이루어진 3차원 배열\n",
    "        [[1, 2, 3], [4, 5, 6]],\n",
    "        [[1, 2, 3], [4, 5, 6]],\n",
    "        [[1, 2, 3], [4, 5, 6]],\n",
    "    ],\n",
    "    [  \n",
    "        [[1, 2, 3], [4, 5, 6]],\n",
    "        [[1, 2, 3], [4, 5, 6]],\n",
    "        [[1, 2, 3], [4, 5, 6]],\n",
    "        [[1, 2, 3], [4, 5, 6]],\n",
    "    ]\n",
    "])\n",
    "\n",
    "print(f\"배열의 구조: {a.shape}\")   # (2개 있다, 4행의 3차원 배열이, 2행의 2차원 배열을 가졌다. 3개의 열을 가진 2차원 배열을.) = (2,4,2,3)\n",
    "print(f\"배열의 차원: {a.ndim}\")   # 4차원 배열\n",
    "\n"
   ]
  },
  {
   "cell_type": "code",
   "execution_count": null,
   "id": "9024e3cf",
   "metadata": {},
   "outputs": [
    {
     "data": {
      "text/plain": [
       "array([[1, 1, 1],\n",
       "       [1, 1, 1]])"
      ]
     },
     "execution_count": 18,
     "metadata": {},
     "output_type": "execute_result"
    }
   ],
   "source": [
    "# 기본자료형은 float 이기 때문에 명시적으로 int 저장해주면 int 가 된다\n",
    "\n",
    "np.zeros((3,4),dtype=np.int64) # 2차원\n",
    "np.zeros((2,3,4),dtype=np.int64) # 3차원\n",
    "\n",
    "# 2행 3열\n",
    "np.ones((2,3),dtype=np.int64)\n"
   ]
  },
  {
   "cell_type": "code",
   "execution_count": null,
   "id": "a82d2643",
   "metadata": {},
   "outputs": [
    {
     "data": {
      "text/plain": [
       "array([[ 0.    ,  0.    ,  1.    ],\n",
       "       [ 0.0625,  0.25  ,  1.    ],\n",
       "       [ 1.    ,  1.    ,  1.    ],\n",
       "       [ 5.0625,  2.25  ,  1.    ],\n",
       "       [16.    ,  4.    ,  1.    ]])"
      ]
     },
     "execution_count": 22,
     "metadata": {},
     "output_type": "execute_result"
    }
   ],
   "source": [
    "# 구조는 정의됐지만 원소의 값이 초기화 되지 않은 배열 생성\n",
    "np.empty((5,3))\n",
    "# 메모리에 존재하는 가비지값이 찍히는것이다."
   ]
  },
  {
   "cell_type": "code",
   "execution_count": null,
   "id": "68f0b4fd",
   "metadata": {},
   "outputs": [
    {
     "data": {
      "text/plain": [
       "array([[7, 7, 7],\n",
       "       [7, 7, 7],\n",
       "       [7, 7, 7]])"
      ]
     },
     "execution_count": 23,
     "metadata": {},
     "output_type": "execute_result"
    }
   ],
   "source": [
    "np.full((3,3),7)\n",
    "# 지정한 값으로 배열을 채운다"
   ]
  },
  {
   "cell_type": "code",
   "execution_count": null,
   "id": "d0289dbb",
   "metadata": {},
   "outputs": [],
   "source": [
    "# 단위행렬? 대각선(좌상에서 우측아래까지 그것만 1)\n",
    "# 행렬의 곱 연산\n",
    "# 행렬의 곱 계산, 단위행렬을 곱하면 원래 자기자신의 값이 나온다."
   ]
  },
  {
   "cell_type": "code",
   "execution_count": null,
   "id": "fd0093b7",
   "metadata": {},
   "outputs": [
    {
     "data": {
      "text/plain": [
       "array([[0., 1., 0., 0., 0.],\n",
       "       [0., 0., 1., 0., 0.],\n",
       "       [0., 0., 0., 1., 0.]])"
      ]
     },
     "execution_count": 25,
     "metadata": {},
     "output_type": "execute_result"
    }
   ],
   "source": [
    "np.eye(3,3)\n",
    "\n",
    "# 세번째 인자 넣기\n",
    "np.eye(3,5,1)\n",
    "# 옆으로 한 칸 대각선이 이동. 1은 k값 "
   ]
  },
  {
   "cell_type": "code",
   "execution_count": 33,
   "id": "d534acd1",
   "metadata": {},
   "outputs": [
    {
     "data": {
      "text/plain": [
       "array([0, 1, 2, 3, 4, 5, 6, 7, 8, 9])"
      ]
     },
     "execution_count": 33,
     "metadata": {},
     "output_type": "execute_result"
    }
   ],
   "source": [
    "np.arange(0,10,2) # 2의 간격으로 10까지 레인지의 간격 \n",
    "# ( 시작이상, 끝미만, 간격)\n",
    "\n",
    "np.arange(0,10) # 간격지정 안하면 1부터"
   ]
  },
  {
   "cell_type": "code",
   "execution_count": null,
   "id": "48c98090",
   "metadata": {},
   "outputs": [
    {
     "data": {
      "text/plain": [
       "array([[  5.,  10.,  15.,  20.,  25.],\n",
       "       [ 30.,  35.,  40.,  45.,  50.],\n",
       "       [ 55.,  60.,  65.,  70.,  75.],\n",
       "       [ 80.,  85.,  90.,  95., 100.]])"
      ]
     },
     "execution_count": 36,
     "metadata": {},
     "output_type": "execute_result"
    }
   ],
   "source": [
    "# linespace = 시작-끝까지 균일간격으로 숫자를 생성합니다\n",
    "# 지정한 범위 내 지정한 갯수만큼 균일한 간격으로 숫자를 생성\n",
    "\n",
    "np.linspace(10,100,10)\n",
    "np.linspace(0.1,1,10)\n",
    "\n",
    "# reshape: 배열 구조 재배치\n",
    "\n",
    "np.linspace(5,100,20).reshape((4,5)) # 4행 5열로 만든다."
   ]
  },
  {
   "cell_type": "code",
   "execution_count": null,
   "id": "6f3a9106",
   "metadata": {},
   "outputs": [
    {
     "data": {
      "text/plain": [
       "array([[0.53219757, 0.38612696, 0.84402755],\n",
       "       [0.129737  , 0.29909885, 0.8318244 ]])"
      ]
     },
     "execution_count": 38,
     "metadata": {},
     "output_type": "execute_result"
    }
   ],
   "source": [
    "np.random.rand(2,3) #0에서 1사이의 난수로 초기화"
   ]
  },
  {
   "cell_type": "code",
   "execution_count": 40,
   "id": "75583e43",
   "metadata": {},
   "outputs": [
    {
     "data": {
      "text/plain": [
       "array([[[ 0.35416774,  0.10483799, -0.10783652, -0.23559727,\n",
       "         -0.12886634],\n",
       "        [ 1.0720489 ,  2.12592305,  0.22358139, -0.816706  ,\n",
       "         -0.64094334],\n",
       "        [-0.21927463, -2.02172482, -0.94322703,  0.83326909,\n",
       "          0.91297804]],\n",
       "\n",
       "       [[ 0.74328407,  1.26104514, -0.25127056,  0.41338147,\n",
       "          0.03663102],\n",
       "        [ 1.26001455, -0.56373906, -0.76436556,  0.59084284,\n",
       "          2.62738855],\n",
       "        [ 1.6741969 ,  1.08233323, -1.18044972, -0.74928819,\n",
       "          1.03791862]]])"
      ]
     },
     "execution_count": 40,
     "metadata": {},
     "output_type": "execute_result"
    }
   ],
   "source": [
    "np.random.randn(2,3) \n",
    "# 표준정규분포를따르는 난수로 초기화\n",
    "# 표준 정규 분포?\n",
    "\n",
    "np.random.randn(2,3,5) "
   ]
  },
  {
   "cell_type": "code",
   "execution_count": 47,
   "id": "a5b9ca7a",
   "metadata": {},
   "outputs": [
    {
     "data": {
      "text/plain": [
       "array([[99, 72, 98, 37],\n",
       "       [84, 12, 81, 22],\n",
       "       [49, 15, 39, 93]])"
      ]
     },
     "execution_count": 47,
     "metadata": {},
     "output_type": "execute_result"
    }
   ],
   "source": [
    "# random.randint(low,high,(size))\n",
    "np.random.randint(0,101,(3,4)) # 0에서 100까지 난수로 3행 4열"
   ]
  },
  {
   "cell_type": "code",
   "execution_count": 75,
   "id": "b0f701e0",
   "metadata": {},
   "outputs": [
    {
     "name": "stdout",
     "output_type": "stream",
     "text": [
      "[[4.17022005e-01 7.20324493e-01 1.14374817e-04]\n",
      " [3.02332573e-01 1.46755891e-01 9.23385948e-02]]\n",
      "[[-0.52817175 -1.07296862]\n",
      " [ 0.86540763 -2.3015387 ]]\n",
      "[[18 84 11]\n",
      " [28 29 14]\n",
      " [50 68 87]]\n"
     ]
    }
   ],
   "source": [
    "np.random.seed(1) \n",
    "# 랜덤한 숫자를 초기화할때 시작값을 고정.\n",
    "# 처음 난수를 생성 -> 재실행 시 그 고정된 값을 영원히 쓴다.\n",
    "# 시드 값에 대한 설명: 이건 1번시드기때문에 1번시드로 불러오면 늘 같은 1번시드값 뭐그런식인가보다\n",
    "\n",
    "print(np.random.rand(2,3))\n",
    "print(np.random.randn(2,2))\n",
    "print(np.random.randint(0,101,(3,3)))"
   ]
  },
  {
   "cell_type": "code",
   "execution_count": null,
   "id": "bfd35e66",
   "metadata": {},
   "outputs": [
    {
     "name": "stdout",
     "output_type": "stream",
     "text": [
      "[[0.9541511  0.76793209]\n",
      " [0.12597075 0.82698809]\n",
      " [0.84907207 0.34978284]] \n",
      "\n",
      "[[ 0.09375488 -1.17081808 -1.35824039 -1.30656402 -0.71761528]\n",
      " [ 1.18562136  0.89453375 -0.54404782 -0.54658792  1.92958774]\n",
      " [ 0.90278859 -0.80339058 -0.14971196 -0.43029158  0.15154146]\n",
      " [ 0.87914986 -0.27489148  0.36928103  0.56826546  0.78350766]] \n",
      "\n",
      "[[12 83]\n",
      " [15 89]] \n",
      "\n",
      "[[22.79092699 16.36721495 87.83435986 14.64549516]\n",
      " [78.95931836 99.42941877  8.15332501 56.66410025]\n",
      " [35.19239312 70.91749997 87.99078292 32.21056448]\n",
      " [32.7857754  25.0285726  85.10258441 76.48716841]]\n"
     ]
    }
   ],
   "source": [
    "# rng: 랜덤 넘버 제너레이터\n",
    "# 최근에 가장 권장되는 방식\n",
    "from numpy.random import default_rng\n",
    "rng = default_rng()\n",
    "\n",
    "print(rng.random((3,2)),\"\\n\")\n",
    "print(rng.normal(0,1,(4,5)),\"\\n\") # \n",
    "print(rng.integers(0,100,(2,2)),\"\\n\")\n",
    "print(rng.uniform(0,100,(4,4))) # 균등한 분포를 가진 데이터를 일정하게 "
   ]
  },
  {
   "cell_type": "markdown",
   "id": "9205b4c2",
   "metadata": {},
   "source": [
    "0731 실습"
   ]
  },
  {
   "cell_type": "code",
   "execution_count": 12,
   "id": "d9cd9a8f",
   "metadata": {},
   "outputs": [
    {
     "name": "stdout",
     "output_type": "stream",
     "text": [
      "1. 0으로 채워진 크기를 5로 :\n",
      "[[5 5 5 5]\n",
      " [5 5 5 5]\n",
      " [5 5 5 5]]\n",
      "\n",
      "2. 0부터 20까지 2씩: [ 0  2  4  6  8 10 12 14 16 18 20]\n",
      "\n",
      "3. 랜덤 0-1 2차원 배열: \n",
      "[[0.19788714 0.22919761 0.29026356]\n",
      " [0.77417971 0.70816422 0.26771047]]\n",
      "\n",
      "4. 평균100 표준편차20 정규분포난수 6개: \n",
      "[126.82742349  76.56103157  75.80659861  98.76204995 111.59464902\n",
      "  82.59464614]\n",
      "\n",
      "5. 1-20 1차원배열, 배열을 (4행 5열) 변환: \n",
      "[[ 1  2  3  4  5]\n",
      " [ 6  7  8  9 10]\n",
      " [11 12 13 14 15]\n",
      " [16 17 18 19 20]]\n",
      "\n"
     ]
    }
   ],
   "source": [
    "# 1번\n",
    "a=np.zeros((3,4),dtype=np.int64) # 2차원\n",
    "b=a+5\n",
    "print(f\"1. 0으로 채워진 크기를 5로 :\\n{b}\\n\")\n",
    "# 2번\n",
    "a=np.arange(0,21,2)\n",
    "print(f\"2. 0부터 20까지 2씩: {a}\\n\")\n",
    "# 3번\n",
    "from numpy.random import default_rng\n",
    "rng = default_rng()\n",
    "a=rng.random((2,3))\n",
    "print(f\"3. 랜덤 0-1 2차원 배열: \\n{a}\\n\")\n",
    "# 4번\n",
    "a=np.random.normal(100, 20, 6)\n",
    "print(f\"4. 평균100 표준편차20 정규분포난수 6개: \\n{a}\\n\")\n",
    "# 5번\n",
    "a=np.arange(1,21)\n",
    "b=a.reshape((4,5))\n",
    "print(f\"5. 1-20 1차원배열, 배열을 (4행 5열) 변환: \\n{b}\\n\")"
   ]
  },
  {
   "cell_type": "code",
   "execution_count": 14,
   "id": "ca7e9fd9",
   "metadata": {},
   "outputs": [
    {
     "name": "stdout",
     "output_type": "stream",
     "text": [
      "6. 0-1 균등간격 12개 값을 (3,4) 크기로 변환:\n",
      "[[0.         0.09090909 0.18181818 0.27272727]\n",
      " [0.36363636 0.45454545 0.54545455 0.63636364]\n",
      " [0.72727273 0.81818182 0.90909091 1.        ]]\n",
      "\n",
      "7. 0-99 난수 (10,10) 배열 + 단위행렬:\n",
      "[[53. 97. 45. 46.  2. 40. 40. 16. 85. 96.]\n",
      " [72. 76. 21. 66. 22. 19. 91. 61. 26. 19.]\n",
      " [16. 93. 44. 14. 11. 13. 67. 11. 76. 53.]\n",
      " [29. 64. 89. 24. 67. 74. 90. 72. 99. 79.]\n",
      " [49. 56. 50. 76. 26. 21. 96. 72. 53. 68.]\n",
      " [81. 67. 91. 68. 81. 42.  0. 43. 65. 42.]\n",
      " [90. 31. 58. 41.  2.  9. 77. 26. 51. 46.]\n",
      " [23. 78. 74. 45.  0. 56. 37. 17. 10. 61.]\n",
      " [91. 22. 64. 78. 61. 73. 80. 73. 29. 78.]\n",
      " [59. 64. 44. 75. 91.  0. 41. 81. 71. 97.]]\n",
      "\n",
      "8. 0-9 난수 (2,3,4) 3차원 배열:\n",
      "[[[0 2 7 9]\n",
      "  [1 2 6 6]\n",
      "  [7 5 6 9]]\n",
      "\n",
      " [[5 7 9 2]\n",
      "  [5 3 0 3]\n",
      "  [3 2 6 3]]]\n"
     ]
    }
   ],
   "source": [
    "# 6번\n",
    "a = np.linspace(0, 1, 12)\n",
    "b = a.reshape((3, 4))\n",
    "print(f\"6. 0-1 균등간격 12개 값을 (3,4) 크기로 변환:\\n{b}\\n\")\n",
    "\n",
    "# 7번\n",
    "a = np.random.randint(0, 100, (10, 10)) # 10x10 난수 배열 생성\n",
    "b = np.eye(10) # 행과 열이 각각 10인 단위행렬\n",
    "c = a + b # 더해주기\n",
    "print(f\"7. 0-99 난수 (10,10) 배열 + 단위행렬:\\n{c}\\n\")\n",
    "\n",
    "# 8번\n",
    "a = np.random.randint(0, 10, (2, 3, 4))\n",
    "print(f\"8. 0-9 난수 (2,3,4) 3차원 배열:\\n{a}\")"
   ]
  },
  {
   "cell_type": "code",
   "execution_count": null,
   "id": "e3310edd",
   "metadata": {},
   "outputs": [],
   "source": []
  }
 ],
 "metadata": {
  "kernelspec": {
   "display_name": "data_analysis",
   "language": "python",
   "name": "python3"
  },
  "language_info": {
   "codemirror_mode": {
    "name": "ipython",
    "version": 3
   },
   "file_extension": ".py",
   "mimetype": "text/x-python",
   "name": "python",
   "nbconvert_exporter": "python",
   "pygments_lexer": "ipython3",
   "version": "3.13.5"
  }
 },
 "nbformat": 4,
 "nbformat_minor": 5
}
