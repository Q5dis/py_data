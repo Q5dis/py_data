{
 "cells": [
  {
   "cell_type": "code",
   "execution_count": 3,
   "id": "f9e42c11",
   "metadata": {},
   "outputs": [],
   "source": [
    "import numpy as np\n",
    "import random as r"
   ]
  },
  {
   "cell_type": "code",
   "execution_count": 5,
   "id": "b5c1bdc9",
   "metadata": {},
   "outputs": [],
   "source": [
    "# numpy는 다차원 배열을 쉽고, 효율적으로 사용할 수 있게 돕는 라이브러리\n",
    "# 대표적인 데이터분석 라이브러리"
   ]
  },
  {
   "cell_type": "code",
   "execution_count": 7,
   "id": "5103cffb",
   "metadata": {},
   "outputs": [],
   "source": [
    "# ndarray\n",
    "# 파이썬의 list기능을 보완하고, 행렬을 다루는 자료형\n",
    "\n",
    "# 다차원 행렬? 2차원을 예로들자\n",
    "# 1행이 2개의 열을 보유하면\n",
    "# 2행도 2개의 열을 보유해야 성립\n",
    "\n",
    "# 리스트의 더하기연산은 그냥 리스트의 연결이다.\n",
    "# ndarray는 행렬의 연산, 같은 위치에 있는 열끼리 덧셈 연산 실행.\n",
    "# 그래서 길이가 다른 ndarray끼리의 연산은 수행하지 않음\n"
   ]
  },
  {
   "cell_type": "code",
   "execution_count": null,
   "id": "1d106786",
   "metadata": {},
   "outputs": [],
   "source": [
    "# 차원과 축!\n",
    "\n",
    "#1D [1,2,3] 1차원 데이터. 모든 요소가 스칼라\n",
    "#2D [[1,2],[3,4]] 2차원의 데이터. \n",
    "#3D [ [[1],[2]],[[3],[4]] ] 3차원의 데이터.\n",
    "\n",
    "#axis=0 행 방향(세로축)\n",
    "#0\n",
    "#0\n",
    "#0\n",
    "#axis=1 열 방향(가로축)\n",
    "#0000000"
   ]
  },
  {
   "cell_type": "markdown",
   "id": "3516b0f1",
   "metadata": {},
   "source": [
    "### ndarray\n",
    "- NumPy의 핵심 데이터 구조\n",
    "- 동일한 자료형의 다차원 배열"
   ]
  },
  {
   "cell_type": "code",
   "execution_count": null,
   "id": "4fe55e87",
   "metadata": {},
   "outputs": [
    {
     "name": "stdout",
     "output_type": "stream",
     "text": [
      "배열의 구조: (2, 3)\n",
      "배열의 차원: 2\n",
      "배열의 데이터타입: int64\n",
      "b배열의 데이터타입: float64\n"
     ]
    }
   ],
   "source": [
    "import numpy as np\n",
    "\n",
    "a=np.array([[1,2,3],[4,5,6]])\n",
    "d=np.array([1.0, 2.0, 7.6])\n",
    "\n",
    "print(f\"배열의 구조: {a.shape}\") # 2행 3열\n",
    "print(f\"배열의 차원: {a.ndim}\") # 2차원 배열\n",
    "print(f\"a배열의 데이터타입: {a.dtype}\") # 정수형 64비트(=8바이트)\n",
    "\n",
    "print(f\"b배열의 데이터타입: {d.dtype}\")\n",
    "\n",
    "new_a=a.astype(np.float64)\n",
    "print(f\"수정한 a 배열의 데이터타입: {new_a.dtype}\")"
   ]
  },
  {
   "cell_type": "code",
   "execution_count": null,
   "id": "742d80f5",
   "metadata": {},
   "outputs": [
    {
     "name": "stdout",
     "output_type": "stream",
     "text": [
      "배열의 구조: (4, 2, 3)\n",
      "배열의 차원: 3\n"
     ]
    }
   ],
   "source": [
    "# 3차원 행렬\n",
    "a=np.array([[[1,2,3],[4,5,6]],\n",
    "            [[1,2,3],[4,5,6]],\n",
    "            [[1,2,3],[4,5,6]],\n",
    "            [[1,2,3],[4,5,6]],\n",
    "            ])\n",
    "\n",
    "\n",
    "print(f\"배열의 구조: {a.shape}\") # 4개 있다, 2행이고 3열인 2차원 행렬이\n",
    "print(f\"배열의 차원: {a.ndim}\") # 3차원 배열"
   ]
  },
  {
   "cell_type": "code",
   "execution_count": null,
   "id": "4456de40",
   "metadata": {},
   "outputs": [
    {
     "name": "stdout",
     "output_type": "stream",
     "text": [
      "배열의 구조: (2, 4, 2, 3)\n",
      "배열의 차원: 4\n"
     ]
    }
   ],
   "source": [
    "# 4차원 배열 정의\n",
    "a = np.array([\n",
    "    [  # # 첫 번째 3차원 블록 (4개의 2x3 행렬)\n",
    "        [[1, 2, 3], [4, 5, 6]],   # 2행 3열 2차원 배열로 이루어진 3차원 배열\n",
    "        [[1, 2, 3], [4, 5, 6]],\n",
    "        [[1, 2, 3], [4, 5, 6]],\n",
    "        [[1, 2, 3], [4, 5, 6]],\n",
    "    ],\n",
    "    [  \n",
    "        [[1, 2, 3], [4, 5, 6]],\n",
    "        [[1, 2, 3], [4, 5, 6]],\n",
    "        [[1, 2, 3], [4, 5, 6]],\n",
    "        [[1, 2, 3], [4, 5, 6]],\n",
    "    ]\n",
    "])\n",
    "\n",
    "print(f\"배열의 구조: {a.shape}\")   # (2개 있다, 4행의 3차원 배열이, 2행의 2차원 배열을 가졌다. 3개의 열을 가진 2차원 배열을.) = (2,4,2,3)\n",
    "print(f\"배열의 차원: {a.ndim}\")   # 4차원 배열\n",
    "\n"
   ]
  },
  {
   "cell_type": "code",
   "execution_count": null,
   "id": "9024e3cf",
   "metadata": {},
   "outputs": [
    {
     "data": {
      "text/plain": [
       "array([[1, 1, 1],\n",
       "       [1, 1, 1]])"
      ]
     },
     "execution_count": 18,
     "metadata": {},
     "output_type": "execute_result"
    }
   ],
   "source": [
    "# 기본자료형은 float 이기 때문에 명시적으로 int 저장해주면 int 가 된다\n",
    "\n",
    "np.zeros((3,4),dtype=np.int64) # 2차원\n",
    "np.zeros((2,3,4),dtype=np.int64) # 3차원\n",
    "\n",
    "# 2행 3열\n",
    "np.ones((2,3),dtype=np.int64)\n"
   ]
  },
  {
   "cell_type": "code",
   "execution_count": null,
   "id": "a82d2643",
   "metadata": {},
   "outputs": [
    {
     "data": {
      "text/plain": [
       "array([[ 0.    ,  0.    ,  1.    ],\n",
       "       [ 0.0625,  0.25  ,  1.    ],\n",
       "       [ 1.    ,  1.    ,  1.    ],\n",
       "       [ 5.0625,  2.25  ,  1.    ],\n",
       "       [16.    ,  4.    ,  1.    ]])"
      ]
     },
     "execution_count": 22,
     "metadata": {},
     "output_type": "execute_result"
    }
   ],
   "source": [
    "# 구조는 정의됐지만 원소의 값이 초기화 되지 않은 배열 생성\n",
    "np.empty((5,3))\n",
    "# 메모리에 존재하는 가비지값이 찍히는것이다."
   ]
  },
  {
   "cell_type": "code",
   "execution_count": null,
   "id": "68f0b4fd",
   "metadata": {},
   "outputs": [
    {
     "data": {
      "text/plain": [
       "array([[7, 7, 7],\n",
       "       [7, 7, 7],\n",
       "       [7, 7, 7]])"
      ]
     },
     "execution_count": 23,
     "metadata": {},
     "output_type": "execute_result"
    }
   ],
   "source": [
    "np.full((3,3),7)\n",
    "# 지정한 값으로 배열을 채운다"
   ]
  },
  {
   "cell_type": "code",
   "execution_count": null,
   "id": "d0289dbb",
   "metadata": {},
   "outputs": [],
   "source": [
    "# 단위행렬? 대각선(좌상에서 우측아래까지 그것만 1)\n",
    "# 행렬의 곱 연산\n",
    "# 행렬의 곱 계산, 단위행렬을 곱하면 원래 자기자신의 값이 나온다."
   ]
  },
  {
   "cell_type": "code",
   "execution_count": null,
   "id": "fd0093b7",
   "metadata": {},
   "outputs": [
    {
     "data": {
      "text/plain": [
       "array([[0., 1., 0., 0., 0.],\n",
       "       [0., 0., 1., 0., 0.],\n",
       "       [0., 0., 0., 1., 0.]])"
      ]
     },
     "execution_count": 25,
     "metadata": {},
     "output_type": "execute_result"
    }
   ],
   "source": [
    "np.eye(3,3)\n",
    "\n",
    "# 세번째 인자 넣기\n",
    "np.eye(3,5,1)\n",
    "# 옆으로 한 칸 대각선이 이동. 1은 k값 "
   ]
  },
  {
   "cell_type": "code",
   "execution_count": 33,
   "id": "d534acd1",
   "metadata": {},
   "outputs": [
    {
     "data": {
      "text/plain": [
       "array([0, 1, 2, 3, 4, 5, 6, 7, 8, 9])"
      ]
     },
     "execution_count": 33,
     "metadata": {},
     "output_type": "execute_result"
    }
   ],
   "source": [
    "np.arange(0,10,2) # 2의 간격으로 10까지 레인지의 간격 \n",
    "# ( 시작이상, 끝미만, 간격)\n",
    "\n",
    "np.arange(0,10) # 간격지정 안하면 1부터"
   ]
  },
  {
   "cell_type": "code",
   "execution_count": null,
   "id": "48c98090",
   "metadata": {},
   "outputs": [
    {
     "data": {
      "text/plain": [
       "array([[  5.,  10.,  15.,  20.,  25.],\n",
       "       [ 30.,  35.,  40.,  45.,  50.],\n",
       "       [ 55.,  60.,  65.,  70.,  75.],\n",
       "       [ 80.,  85.,  90.,  95., 100.]])"
      ]
     },
     "execution_count": 36,
     "metadata": {},
     "output_type": "execute_result"
    }
   ],
   "source": [
    "# linespace = 시작-끝까지 균일간격으로 숫자를 생성합니다\n",
    "# 지정한 범위 내 지정한 갯수만큼 균일한 간격으로 숫자를 생성\n",
    "\n",
    "np.linspace(10,100,10)\n",
    "np.linspace(0.1,1,10)\n",
    "\n",
    "# reshape: 배열 구조 재배치\n",
    "\n",
    "np.linspace(5,100,20).reshape((4,5)) # 4행 5열로 만든다."
   ]
  },
  {
   "cell_type": "code",
   "execution_count": null,
   "id": "6f3a9106",
   "metadata": {},
   "outputs": [
    {
     "data": {
      "text/plain": [
       "array([[0.53219757, 0.38612696, 0.84402755],\n",
       "       [0.129737  , 0.29909885, 0.8318244 ]])"
      ]
     },
     "execution_count": 38,
     "metadata": {},
     "output_type": "execute_result"
    }
   ],
   "source": [
    "np.random.rand(2,3) #0에서 1사이의 난수로 초기화"
   ]
  },
  {
   "cell_type": "code",
   "execution_count": 40,
   "id": "75583e43",
   "metadata": {},
   "outputs": [
    {
     "data": {
      "text/plain": [
       "array([[[ 0.35416774,  0.10483799, -0.10783652, -0.23559727,\n",
       "         -0.12886634],\n",
       "        [ 1.0720489 ,  2.12592305,  0.22358139, -0.816706  ,\n",
       "         -0.64094334],\n",
       "        [-0.21927463, -2.02172482, -0.94322703,  0.83326909,\n",
       "          0.91297804]],\n",
       "\n",
       "       [[ 0.74328407,  1.26104514, -0.25127056,  0.41338147,\n",
       "          0.03663102],\n",
       "        [ 1.26001455, -0.56373906, -0.76436556,  0.59084284,\n",
       "          2.62738855],\n",
       "        [ 1.6741969 ,  1.08233323, -1.18044972, -0.74928819,\n",
       "          1.03791862]]])"
      ]
     },
     "execution_count": 40,
     "metadata": {},
     "output_type": "execute_result"
    }
   ],
   "source": [
    "np.random.randn(2,3) \n",
    "# 표준정규분포를따르는 난수로 초기화\n",
    "# 표준 정규 분포?\n",
    "\n",
    "np.random.randn(2,3,5) "
   ]
  },
  {
   "cell_type": "code",
   "execution_count": 47,
   "id": "a5b9ca7a",
   "metadata": {},
   "outputs": [
    {
     "data": {
      "text/plain": [
       "array([[99, 72, 98, 37],\n",
       "       [84, 12, 81, 22],\n",
       "       [49, 15, 39, 93]])"
      ]
     },
     "execution_count": 47,
     "metadata": {},
     "output_type": "execute_result"
    }
   ],
   "source": [
    "# random.randint(low,high,(size))\n",
    "np.random.randint(0,101,(3,4)) # 0에서 100까지 난수로 3행 4열"
   ]
  },
  {
   "cell_type": "code",
   "execution_count": 75,
   "id": "b0f701e0",
   "metadata": {},
   "outputs": [
    {
     "name": "stdout",
     "output_type": "stream",
     "text": [
      "[[4.17022005e-01 7.20324493e-01 1.14374817e-04]\n",
      " [3.02332573e-01 1.46755891e-01 9.23385948e-02]]\n",
      "[[-0.52817175 -1.07296862]\n",
      " [ 0.86540763 -2.3015387 ]]\n",
      "[[18 84 11]\n",
      " [28 29 14]\n",
      " [50 68 87]]\n"
     ]
    }
   ],
   "source": [
    "np.random.seed(1) \n",
    "# 랜덤한 숫자를 초기화할때 시작값을 고정.\n",
    "# 처음 난수를 생성 -> 재실행 시 그 고정된 값을 영원히 쓴다.\n",
    "# 시드 값에 대한 설명: 이건 1번시드기때문에 1번시드로 불러오면 늘 같은 1번시드값 뭐그런식인가보다\n",
    "\n",
    "print(np.random.rand(2,3))\n",
    "print(np.random.randn(2,2))\n",
    "print(np.random.randint(0,101,(3,3)))"
   ]
  },
  {
   "cell_type": "code",
   "execution_count": null,
   "id": "bfd35e66",
   "metadata": {},
   "outputs": [
    {
     "name": "stdout",
     "output_type": "stream",
     "text": [
      "[[0.9541511  0.76793209]\n",
      " [0.12597075 0.82698809]\n",
      " [0.84907207 0.34978284]] \n",
      "\n",
      "[[ 0.09375488 -1.17081808 -1.35824039 -1.30656402 -0.71761528]\n",
      " [ 1.18562136  0.89453375 -0.54404782 -0.54658792  1.92958774]\n",
      " [ 0.90278859 -0.80339058 -0.14971196 -0.43029158  0.15154146]\n",
      " [ 0.87914986 -0.27489148  0.36928103  0.56826546  0.78350766]] \n",
      "\n",
      "[[12 83]\n",
      " [15 89]] \n",
      "\n",
      "[[22.79092699 16.36721495 87.83435986 14.64549516]\n",
      " [78.95931836 99.42941877  8.15332501 56.66410025]\n",
      " [35.19239312 70.91749997 87.99078292 32.21056448]\n",
      " [32.7857754  25.0285726  85.10258441 76.48716841]]\n"
     ]
    }
   ],
   "source": [
    "# rng: 랜덤 넘버 제너레이터\n",
    "# 최근에 가장 권장되는 방식\n",
    "from numpy.random import default_rng\n",
    "rng = default_rng()\n",
    "\n",
    "print(rng.random((3,2)),\"\\n\")\n",
    "print(rng.normal(0,1,(4,5)),\"\\n\") # \n",
    "print(rng.integers(0,100,(2,2)),\"\\n\")\n",
    "print(rng.uniform(0,100,(4,4))) # 균등한 분포를 가진 데이터를 일정하게 "
   ]
  },
  {
   "cell_type": "markdown",
   "id": "9205b4c2",
   "metadata": {},
   "source": [
    "0731 실습"
   ]
  },
  {
   "cell_type": "code",
   "execution_count": 12,
   "id": "d9cd9a8f",
   "metadata": {},
   "outputs": [
    {
     "name": "stdout",
     "output_type": "stream",
     "text": [
      "1. 0으로 채워진 크기를 5로 :\n",
      "[[5 5 5 5]\n",
      " [5 5 5 5]\n",
      " [5 5 5 5]]\n",
      "\n",
      "2. 0부터 20까지 2씩: [ 0  2  4  6  8 10 12 14 16 18 20]\n",
      "\n",
      "3. 랜덤 0-1 2차원 배열: \n",
      "[[0.19788714 0.22919761 0.29026356]\n",
      " [0.77417971 0.70816422 0.26771047]]\n",
      "\n",
      "4. 평균100 표준편차20 정규분포난수 6개: \n",
      "[126.82742349  76.56103157  75.80659861  98.76204995 111.59464902\n",
      "  82.59464614]\n",
      "\n",
      "5. 1-20 1차원배열, 배열을 (4행 5열) 변환: \n",
      "[[ 1  2  3  4  5]\n",
      " [ 6  7  8  9 10]\n",
      " [11 12 13 14 15]\n",
      " [16 17 18 19 20]]\n",
      "\n"
     ]
    }
   ],
   "source": [
    "# 1번\n",
    "a=np.zeros((3,4),dtype=np.int64) # 2차원\n",
    "b=a+5\n",
    "print(f\"1. 0으로 채워진 크기를 5로 :\\n{b}\\n\")\n",
    "# 2번\n",
    "a=np.arange(0,21,2)\n",
    "print(f\"2. 0부터 20까지 2씩: {a}\\n\")\n",
    "# 3번\n",
    "from numpy.random import default_rng\n",
    "rng = default_rng()\n",
    "a=rng.random((2,3))\n",
    "print(f\"3. 랜덤 0-1 2차원 배열: \\n{a}\\n\")\n",
    "# 4번\n",
    "a=np.random.normal(100, 20, 6)\n",
    "print(f\"4. 평균100 표준편차20 정규분포난수 6개: \\n{a}\\n\")\n",
    "# 5번\n",
    "a=np.arange(1,21)\n",
    "b=a.reshape((4,5))\n",
    "print(f\"5. 1-20 1차원배열, 배열을 (4행 5열) 변환: \\n{b}\\n\")"
   ]
  },
  {
   "cell_type": "code",
   "execution_count": 14,
   "id": "ca7e9fd9",
   "metadata": {},
   "outputs": [
    {
     "name": "stdout",
     "output_type": "stream",
     "text": [
      "6. 0-1 균등간격 12개 값을 (3,4) 크기로 변환:\n",
      "[[0.         0.09090909 0.18181818 0.27272727]\n",
      " [0.36363636 0.45454545 0.54545455 0.63636364]\n",
      " [0.72727273 0.81818182 0.90909091 1.        ]]\n",
      "\n",
      "7. 0-99 난수 (10,10) 배열 + 단위행렬:\n",
      "[[53. 97. 45. 46.  2. 40. 40. 16. 85. 96.]\n",
      " [72. 76. 21. 66. 22. 19. 91. 61. 26. 19.]\n",
      " [16. 93. 44. 14. 11. 13. 67. 11. 76. 53.]\n",
      " [29. 64. 89. 24. 67. 74. 90. 72. 99. 79.]\n",
      " [49. 56. 50. 76. 26. 21. 96. 72. 53. 68.]\n",
      " [81. 67. 91. 68. 81. 42.  0. 43. 65. 42.]\n",
      " [90. 31. 58. 41.  2.  9. 77. 26. 51. 46.]\n",
      " [23. 78. 74. 45.  0. 56. 37. 17. 10. 61.]\n",
      " [91. 22. 64. 78. 61. 73. 80. 73. 29. 78.]\n",
      " [59. 64. 44. 75. 91.  0. 41. 81. 71. 97.]]\n",
      "\n",
      "8. 0-9 난수 (2,3,4) 3차원 배열:\n",
      "[[[0 2 7 9]\n",
      "  [1 2 6 6]\n",
      "  [7 5 6 9]]\n",
      "\n",
      " [[5 7 9 2]\n",
      "  [5 3 0 3]\n",
      "  [3 2 6 3]]]\n"
     ]
    }
   ],
   "source": [
    "# 6번\n",
    "a = np.linspace(0, 1, 12)\n",
    "b = a.reshape((3, 4))\n",
    "print(f\"6. 0-1 균등간격 12개 값을 (3,4) 크기로 변환:\\n{b}\\n\")\n",
    "\n",
    "# 7번\n",
    "a = np.random.randint(0, 100, (10, 10)) # 10x10 난수 배열 생성\n",
    "b = np.eye(10) # 행과 열이 각각 10인 단위행렬\n",
    "c = a + b # 더해주기\n",
    "print(f\"7. 0-99 난수 (10,10) 배열 + 단위행렬:\\n{c}\\n\")\n",
    "\n",
    "# 8번\n",
    "a = np.random.randint(0, 10, (2, 3, 4))\n",
    "print(f\"8. 0-9 난수 (2,3,4) 3차원 배열:\\n{a}\")"
   ]
  },
  {
   "cell_type": "markdown",
   "id": "a6f5d0ef",
   "metadata": {},
   "source": [
    "# 2025.08.01"
   ]
  },
  {
   "cell_type": "code",
   "execution_count": 11,
   "id": "e3310edd",
   "metadata": {},
   "outputs": [
    {
     "name": "stdout",
     "output_type": "stream",
     "text": [
      "[[0. 0. 0. 0.]\n",
      " [0. 0. 0. 0.]\n",
      " [0. 0. 0. 0.]] \n",
      " [[5 5 5 5]\n",
      " [5 5 5 5]\n",
      " [5 5 5 5]]\n",
      "\n",
      " [ 0  2  4  6  8 10 12 14 16 18 20]\n",
      "\n",
      " [[0.19564284 0.5641446  0.31580601]\n",
      " [0.35146108 0.63565459 0.68483863]]\n"
     ]
    }
   ],
   "source": [
    "# 실습 복습\n",
    "\n",
    "a1=np.zeros((3,4))\n",
    "a1_2=np.full((3,4),5)\n",
    "print(a1,\"\\n\",a1_2)\n",
    "\n",
    "a2=np.arange(0,21,2)\n",
    "print(\"\\n\",a2)\n",
    "\n",
    "a3=np.random.rand(2,3)\n",
    "print(\"\\n\",a3)\n",
    "\n",
    "a4=np.random.normal()"
   ]
  },
  {
   "cell_type": "code",
   "execution_count": 29,
   "id": "358c4bd3",
   "metadata": {},
   "outputs": [
    {
     "name": "stdout",
     "output_type": "stream",
     "text": [
      "30\n",
      "파이썬 인덱싱:  4\n",
      "numpy 인덱싱: 4\n",
      "\n",
      " [[[ 0  1  2  3]\n",
      "  [ 4  5  6  7]\n",
      "  [ 8  9 10 11]]\n",
      "\n",
      " [[12 13 14 15]\n",
      "  [16 17 18 19]\n",
      "  [20 21 22 23]]]\n",
      "\n",
      "17읽기:  17\n",
      "20읽기:  20\n",
      "2읽기:  2\n"
     ]
    }
   ],
   "source": [
    "# 인덱싱\n",
    "\n",
    "a=np.array([10,20,30,40,50,60])\n",
    "\n",
    "print(a[2])\n",
    "\n",
    "# 다차원 인덱싱\n",
    "\n",
    "matrix=[[1,2,3],[4,5,6]] # 2x3 배열\n",
    "print(\"파이썬 인덱싱: \",matrix[1][0])\n",
    "\n",
    "matrix2=np.array([[1,2,3],[4,5,6]])\n",
    "print(\"numpy 인덱싱:\",matrix2[1,0])\n",
    "\n",
    "matrix3=np.arange(24).reshape(2,3,4)\n",
    "print(\"\\n\",matrix3)\n",
    "print(\"\\n17읽기: \",matrix3[1,1,1]) # 3/2/1차원 순으로 읽는다\n",
    "print(\"20읽기: \",matrix3[1,2,0])\n",
    "print(\"2읽기: \",matrix3[0,0,2])"
   ]
  },
  {
   "cell_type": "code",
   "execution_count": 35,
   "id": "c447c2f7",
   "metadata": {},
   "outputs": [
    {
     "name": "stdout",
     "output_type": "stream",
     "text": [
      "[20 30]\n",
      "[30 40 50]\n",
      "[10 20]\n",
      "[10 30 50]\n"
     ]
    }
   ],
   "source": [
    "a1=np.array([10,20,30,40,50])\n",
    "print(a1[1:3])\n",
    "print(a1[2:])\n",
    "print(a1[:2])\n",
    "\n",
    "print(a1[::2])"
   ]
  },
  {
   "cell_type": "code",
   "execution_count": 38,
   "id": "219cd674",
   "metadata": {},
   "outputs": [
    {
     "name": "stdout",
     "output_type": "stream",
     "text": [
      "[1, 2, 3, 4, 5]\n",
      "[2, 3, 4]\n"
     ]
    }
   ],
   "source": [
    "py_list=[1,2,3,4,5]\n",
    "sliced=py_list[1:4] # 새 시퀀스 \n",
    "print(py_list)\n",
    "print(sliced)\n",
    "\n",
    "# 넘파이는 메모리와 공유하고 출력은 view로 보여주고 있기 때문에"
   ]
  },
  {
   "cell_type": "code",
   "execution_count": null,
   "id": "14724718",
   "metadata": {},
   "outputs": [
    {
     "name": "stdout",
     "output_type": "stream",
     "text": [
      "원본 리스트: [1, 2, 3, 4, 5]\n",
      "슬라이스 리스트: [2, 99, 4]\n",
      "원본 넘파이 배열: [  1   2 100   4   5]\n",
      "슬라이스 배열 (view): [  2 100   4]\n"
     ]
    }
   ],
   "source": [
    "# Python 리스트 예제\n",
    "py_list = [1, 2, 3, 4, 5]\n",
    "sliced = py_list[1:4]  # [2, 3, 4] 새로운 리스트 생성\n",
    "sliced[1] = 99         # sliced의 두 번째 요소를 변경\n",
    "\n",
    "print(\"원본 리스트:\", py_list)     # 변경 없음\n",
    "print(\"슬라이스 리스트:\", sliced)  # 변경된 값 포함\n",
    "\n",
    "\n",
    "# NumPy 배열 예제\n",
    "a1 = np.array([1, 2, 3, 4, 5])\n",
    "a1_sliced = a1[1:4]     # [2 3 4], 원본과 메모리 공유하는 view\n",
    "a1_sliced[1] = 100      # a1의 두 번째 인덱스가 변경됨\n",
    "\n",
    "print(\"원본 넘파이 배열:\", a1)       # 변경된 값 포함\n",
    "print(\"슬라이스 배열 (view):\", a1_sliced)  # 변경된 값 포함\n"
   ]
  },
  {
   "cell_type": "code",
   "execution_count": 77,
   "id": "70d78350",
   "metadata": {},
   "outputs": [
    {
     "name": "stdout",
     "output_type": "stream",
     "text": [
      "원본\n",
      " [[ 1  2  3  4  5]\n",
      " [ 6  7  8  9 10]\n",
      " [11 12 13 14 15]\n",
      " [16 17 18 19 20]]\n",
      "첫 행 슬라이싱\n",
      " [1 2 3 4 5]\n",
      "두 행 슬라이싱\n",
      " [ 6  7  8  9 10]\n",
      "1부터 3행 슬라이싱\n",
      " [[ 6  7  8  9 10]\n",
      " [11 12 13 14 15]]\n",
      "3행부터 다\n",
      " [[11 12 13 14 15]\n",
      " [16 17 18 19 20]]\n",
      "\n",
      "------------------------------\n",
      "\n",
      "행을 다 불러왔고, 2번인덱스의 열만출력\n",
      " [ 3  8 13 18]\n",
      "행을 다 불러왔고, 1,2번인덱스의 열만출력\n",
      "이 경우 2차원배열 형태 유지\n",
      " [[ 2  3]\n",
      " [ 7  8]\n",
      " [12 13]\n",
      " [17 18]]\n",
      "1~2번째 행, 2~3번째 열의 직사각형 영역 추출\n",
      " [[ 8  9]\n",
      " [13 14]]\n"
     ]
    }
   ],
   "source": [
    "a2=np.arange(1,21).reshape(4,5)\n",
    "print(\"원본\\n\",a2)\n",
    "print(\"첫 행 슬라이싱\\n\",a2[0,:]) #0번째 행 다 불러와!!\n",
    "print(\"두 행 슬라이싱\\n\",a2[1]) #1번째 행 다 불러와!!\n",
    "print(\"1부터 3행 슬라이싱\\n\",a2[1:3]) #1부터 3행\n",
    "print(\"3행부터 다\\n\",a2[2:]) #3행부터 다\n",
    "\n",
    "print(\"\\n------------------------------\\n\")\n",
    "print(\"행을 다 불러왔고, 2번인덱스의 열만출력\\n\",a2[:,2])\n",
    "print(\"행을 다 불러왔고, 1,2번인덱스의 열만출력\\n이 경우 2차원배열 형태 유지\\n\",a2[:,1:3])\n",
    "print(\"1~2번째 행, 2~3번째 열의 직사각형 영역 추출\\n\",a2[1:3, 2:4])"
   ]
  },
  {
   "cell_type": "code",
   "execution_count": 85,
   "id": "d48dc0b8",
   "metadata": {},
   "outputs": [
    {
     "name": "stdout",
     "output_type": "stream",
     "text": [
      "[[[ 0  1  2  3]\n",
      "  [ 4  5  6  7]\n",
      "  [ 8  9 10 11]]\n",
      "\n",
      " [[12 13 14 15]\n",
      "  [16 17 18 19]\n",
      "  [20 21 22 23]]\n",
      "\n",
      " [[24 25 26 27]\n",
      "  [28 29 30 31]\n",
      "  [32 33 34 35]]] \n",
      "\n",
      "17,18 선택:\n",
      "  [17 18]\n"
     ]
    }
   ],
   "source": [
    "a3=np.arange(36).reshape(3,3,4)\n",
    "print(a3,\"\\n\")\n",
    "\n",
    "print(\"17,18 선택:\\n \",a3[1,1,1:3]) # 바깥에서부터 하나씩 더듬떠듬 찾아가자."
   ]
  },
  {
   "cell_type": "code",
   "execution_count": 90,
   "id": "fa7f71db",
   "metadata": {},
   "outputs": [
    {
     "name": "stdout",
     "output_type": "stream",
     "text": [
      "origin [ 1 10  3]\n",
      "copied [ 1 10  3]\n",
      "origin [1 2 3]\n",
      "copied [ 1 10  3]\n"
     ]
    }
   ],
   "source": [
    "a1 = np.array([1, 2, 3])\n",
    "a1_copied = a1.view() # 얕은 복사\n",
    "a1_copied[1] = 10\n",
    "\n",
    "print(\"origin\", a1)\n",
    "print(\"copied\", a1_copied) # 원본을 해친다\n",
    "\n",
    "a2=np.array([1,2,3])\n",
    "a2_copied=a2.copy() # 깊은 복사\n",
    "a2_copied[1]=10\n",
    "\n",
    "print(\"origin\", a2)\n",
    "print(\"copied\", a2_copied) # 원본을 해치지 않는다\n"
   ]
  },
  {
   "cell_type": "code",
   "execution_count": 113,
   "id": "cc3eced1",
   "metadata": {},
   "outputs": [
    {
     "name": "stdout",
     "output_type": "stream",
     "text": [
      "origin\n",
      " [ 1  2  3  4  5  6  7  8  9 10 11 12 13 14 15 16 17 18 19 20]\n",
      "sliced\n",
      " [ 5  8 12] \n",
      "\n",
      "origin\n",
      " [[ 1  2  3  4  5]\n",
      " [ 6  7  8  9 10]\n",
      " [11 12 13 14 15]\n",
      " [16 17 18 19 20]]\n",
      "sliced\n",
      " [ 8 20]\n"
     ]
    }
   ],
   "source": [
    "# 팬시 인덱싱\n",
    "af=np.arange(1,21)\n",
    "print(\"origin\\n\",af)\n",
    "print(\"sliced\\n\",af[[4,7,11]],\"\\n\") # 정수배열 인덱싱. 여러요소를 한번에 선택\n",
    "\n",
    "# 팬시 인덱싱\n",
    "af2=np.arange(1,21).reshape(4,5)\n",
    "print(\"origin\\n\",af2)\n",
    "print(\"sliced\\n\",af2[[1,3],[2,4]]) # 1.2 와 3.4를 고름\n",
    "\n"
   ]
  },
  {
   "cell_type": "code",
   "execution_count": 104,
   "id": "65c07ceb",
   "metadata": {},
   "outputs": [
    {
     "name": "stdout",
     "output_type": "stream",
     "text": [
      "[ 10.  20.  30.  40.  50.  60.  70.  80.  90. 100.]\n",
      "[ 50.  60.  70.  80.  90. 100.]\n",
      "[ 0  2  4  6  8 10 12 14 16 18 20]\n"
     ]
    }
   ],
   "source": [
    "# 불리언 인덱싱\n",
    "ab=np.linspace(10,100,10) #10에서 100까지 10단위로 10개\n",
    "print(ab)\n",
    "print(ab[ab>40]) # 40보다 큰 것만 자른다\n",
    "\n",
    "# 불리언 마스킹\n",
    "ab2=np.arange(0,21)\n",
    "mask=ab2%2==0 \n",
    "print(ab2[mask]) #배열에서 원소를 조건에따라 추출"
   ]
  },
  {
   "cell_type": "code",
   "execution_count": 136,
   "id": "fe701fba",
   "metadata": {},
   "outputs": [
    {
     "name": "stdout",
     "output_type": "stream",
     "text": [
      "[12 16 20] \n",
      "\n",
      "[[1 2 3]\n",
      " [4 5 6]\n",
      " [7 8 9]]\n",
      "159선택: 1,5,9\n",
      "\n",
      "[[ 1  2  3  4]\n",
      " [ 5  6  7  8]\n",
      " [ 9 10 11 12]] \n",
      "\n"
     ]
    }
   ],
   "source": [
    "# 실습목록\n",
    "\n",
    "arr=np.arange(10,30,2)\n",
    "print(arr[[1,3,5]],\"\\n\")\n",
    "\n",
    "arr=np.arange(1,10).reshape(3,3)\n",
    "print(arr)\n",
    "print(f\"159선택: {arr[0,0]},{arr[1,1]},{arr[2,2]}\\n\")\n",
    "\n",
    "arr=np.arange(1,13).reshape(3,4)\n",
    "print(arr,\"\\n\")"
   ]
  },
  {
   "cell_type": "code",
   "execution_count": null,
   "id": "e5647c15",
   "metadata": {},
   "outputs": [
    {
     "name": "stdout",
     "output_type": "stream",
     "text": [
      "[12 16 20] \n",
      "\n",
      "[[1 2 3]\n",
      " [4 5 6]\n",
      " [7 8 9]]\n",
      "159선택: 1,5,9\n",
      "\n",
      "[[ 1  2  3  4]\n",
      " [ 5  6  7  8]\n",
      " [ 9 10 11 12]]\n",
      "[[ 1  2  3 -1]\n",
      " [ 5  6  7 -1]\n",
      " [ 9 10 11 -1]] \n",
      "\n",
      "[[ 1  2  3  4]\n",
      " [ 5  6  7  8]\n",
      " [ 9 10 11 12]\n",
      " [13 14 15 16]]\n",
      "[[13 14 15 16]\n",
      " [ 9 10 11 12]\n",
      " [ 5  6  7  8]\n",
      " [ 1  2  3  4]]\n",
      "[[ 4  3  2  1]\n",
      " [ 8  7  6  5]\n",
      " [12 11 10  9]\n",
      " [16 15 14 13]] \n",
      "\n",
      "[[ 1  2  3  4  5]\n",
      " [ 6  7  8  9 10]\n",
      " [11 12 13 14 15]\n",
      " [16 17 18 19 20]]\n",
      "[[ 7  8  9]\n",
      " [12 13 14]] \n",
      "\n",
      "[[ 4  9 12  7]\n",
      " [10 15 18  3]\n",
      " [ 2 14  6 20]]\n",
      "[12 10 18 14 20]\n"
     ]
    }
   ],
   "source": [
    "# 실습목록\n",
    "\n",
    "arr=np.arange(10,30,2)\n",
    "print(arr[[1, 3, 5]], \"\\n\")\n",
    "\n",
    "arr=np.arange(1,10).reshape(3,3)\n",
    "print(arr)\n",
    "print(f\"159선택: {arr[0,0]},{arr[1,1]},{arr[2,2]}\\n\")\n",
    "\n",
    "arr=np.arange(1,13).reshape(3,4)\n",
    "print(arr)\n",
    "arr[:, -1] = -1\n",
    "print(arr, \"\\n\")\n",
    "\n",
    "arr=np.arange(1,17).reshape(4,4)\n",
    "print(arr)\n",
    "print(arr[::-1, :])\n",
    "print(arr[:, ::-1], \"\\n\")\n",
    "\n",
    "arr=np.arange(1,21).reshape(4,5)\n",
    "print(arr)\n",
    "middle = arr[1:3, 1:4].copy()\n",
    "print(middle, \"\\n\")\n",
    "\n",
    "arr=np.array([[ 4,  9, 12,  7], \n",
    "               [10, 15, 18,  3], \n",
    "               [ 2, 14,  6, 20]])\n",
    "print(arr)\n",
    "print(arr[(arr%2==0) & (arr>=10)])\n",
    "\n"
   ]
  },
  {
   "cell_type": "markdown",
   "id": "9d4b7033",
   "metadata": {},
   "source": [
    "실습3. NumPy 종합 연습(1)\n",
    "1. 0부터 24까지 정수를 가진 배열을 만들고, (5, 5) 배열로 변환한 뒤 가운데 행(3번째 행)과 가\n",
    "운데 열(3번째 열)을 각각 1차원 배열로 출력하세요.\n",
    "2. 0~99 난수로 이루어진 (10, 10) 배열을 생성하고,\n",
    "짝수 인덱스의 행만 선택하여 출력하세요.\n",
    "3. 0부터 49까지 정수를 가진 배열을 (5, 10) 배열로 변환한 후, 2행 3열부터 4행 7열까지의 부\n",
    "분 배열을 추출하세요.\n",
    "\n",
    "4. 0~9 난수로 이루어진 (4, 4) 배열을 생성하고, 각각 인덱싱으로 추출해 출력하세요.(for 이용)\n",
    "- 주대각선 요소 (왼쪽 위 → 오른쪽 아래)\n",
    "- 부대각선 요소 (오른쪽 위 → 왼쪽 아래)\n",
    "5. 0~9 난수로 이루어진 (3, 4, 5) 3차원 배열을 생성하고, 두 번째 층에서 첫 번째 행과 마지막\n",
    "열의 값을 출력하세요.\n",
    "\n",
    "6. 35부터 74까지의 순차적인 수로 이루어진 1차원 배열을 만들고 10x4 행렬로 변환 후 출력해\n",
    "주세요.\n",
    "7. 6번에서 만든 배열을 맨 끝의 행부터 역순으로 출력해주세요.\n",
    "8. 6번에서 만든 배열 중 두 번째 행부터 마지막 직전 행까지, 세번째 열부터 마지막 열까지 슬라\n",
    "이싱해서 출력해주세요.\n",
    "\n",
    "9. 1부터 50까지의 난수로 된 5x6 배열을 만들고, 배열에서 짝수만 선택하여 출력하는 코드를\n",
    "작성하세요.\n",
    "10. 0부터 99까지의 정수로 이루어진 (10, 10) 배열을 생성한 후,\n",
    "[1, 3, 5]번째 행과 [2, 4, 6]번째 열의 교차하는 원소들만 선택하여 출력하세요.\n",
    "11. 0~9 난수로 이루어진 1차원 배열(길이 15)을 생성하고,\n",
    "짝수 인덱스 위치에 있는 값들 중에서 5 이상인 값만 선택해 출력하세요."
   ]
  },
  {
   "cell_type": "code",
   "execution_count": null,
   "id": "654f0344",
   "metadata": {},
   "outputs": [
    {
     "name": "stdout",
     "output_type": "stream",
     "text": [
      "전체\n",
      " [[ 0  1  2  3  4]\n",
      " [ 5  6  7  8  9]\n",
      " [10 11 12 13 14]\n",
      " [15 16 17 18 19]\n",
      " [20 21 22 23 24]]\n",
      "가운데행 [10 11 12 13 14]\n",
      "가운데열 [ 2  7 12 17 22]\n"
     ]
    }
   ],
   "source": [
    "# 실습1\n",
    "a=np.arange(0,25).reshape(5,5)\n",
    "print(\"전체\\n\",a)\n",
    "print(\"가운데행\",a[2])\n",
    "print(\"가운데열\",a[:,2])\n",
    "\n"
   ]
  },
  {
   "cell_type": "code",
   "execution_count": 167,
   "id": "66b50fa0",
   "metadata": {},
   "outputs": [
    {
     "name": "stdout",
     "output_type": "stream",
     "text": [
      "전체\n",
      " [[ 0  1  2  3  4]\n",
      " [ 5  6  7  8  9]\n",
      " [10 11 12 13 14]\n",
      " [15 16 17 18 19]\n",
      " [20 21 22 23 24]]\n",
      "가운데행 [10 11 12 13 14]\n",
      "가운데열 [ 2  7 12 17 22]\n",
      "100 이하 정수난수:\n",
      " [[40 99 44 32 26 15 55 52 46 93]\n",
      " [41 20 43 41 44 12 67 33 41  1]\n",
      " [ 6 69 58 11 21 25 91 96 70 15]\n",
      " [65 62 62 83 43 20 24 99 83 65]\n",
      " [80 14 32 93  1 16 38 90 84 47]]\n",
      "2행3열부터 4행7열까지 부분배열\n",
      " [[12 13 14 15 16 17]\n",
      " [22 23 24 25 26 27]\n",
      " [32 33 34 35 36 37]]\n"
     ]
    }
   ],
   "source": [
    "# 함께 정리하기\n",
    "a=np.arange(0,25).reshape(5,5)\n",
    "print(\"전체\\n\",a)\n",
    "print(\"가운데행\",a[2])\n",
    "print(\"가운데열\",a[:,2])\n",
    "\n",
    "a2=np.random.randint(0,100,(10,10))\n",
    "print(\"100 이하 정수난수:\\n\",a2[::2])\n",
    "\n",
    "a3=np.arange(50).reshape(5,10)\n",
    "print(\"2행3열부터 4행7열까지 부분배열\\n\",a3[1:4,2:8])\n",
    "\n",
    "a4=np.random.randint #추후 수정\n"
   ]
  },
  {
   "cell_type": "code",
   "execution_count": 172,
   "id": "c339d041",
   "metadata": {},
   "outputs": [
    {
     "name": "stdout",
     "output_type": "stream",
     "text": [
      "[[[4 0 2 4 9]\n",
      "  [8 9 9 8 1]\n",
      "  [2 7 6 3 9]\n",
      "  [6 8 1 9 7]]\n",
      "\n",
      " [[1 4 7 7 2]\n",
      "  [0 2 0 1 1]\n",
      "  [8 2 8 5 3]\n",
      "  [6 9 3 7 5]]\n",
      "\n",
      " [[7 8 9 7 2]\n",
      "  [2 6 0 3 5]\n",
      "  [2 6 9 1 8]\n",
      "  [2 9 9 1 5]]]\n",
      "2\n"
     ]
    }
   ],
   "source": [
    "a5=np.random.randint(0,10,(3,4,5))\n",
    "print(a5)\n",
    "print(a5[1,0,-1])"
   ]
  },
  {
   "cell_type": "code",
   "execution_count": 4,
   "id": "77b95e89",
   "metadata": {},
   "outputs": [],
   "source": [
    "import numpy as np\n",
    "import random as r"
   ]
  },
  {
   "cell_type": "code",
   "execution_count": 6,
   "id": "c53d5754",
   "metadata": {},
   "outputs": [
    {
     "name": "stdout",
     "output_type": "stream",
     "text": [
      "[[35 36 37 38]\n",
      " [39 40 41 42]\n",
      " [43 44 45 46]\n",
      " [47 48 49 50]\n",
      " [51 52 53 54]\n",
      " [55 56 57 58]\n",
      " [59 60 61 62]\n",
      " [63 64 65 66]\n",
      " [67 68 69 70]\n",
      " [71 72 73 74]]\n"
     ]
    }
   ],
   "source": [
    "a6= np.arange(35,75).reshape(10,4)\n",
    "print(a6)"
   ]
  },
  {
   "cell_type": "code",
   "execution_count": null,
   "id": "16effa6b",
   "metadata": {},
   "outputs": [
    {
     "name": "stdout",
     "output_type": "stream",
     "text": [
      "[[71 72 73 74]\n",
      " [67 68 69 70]\n",
      " [63 64 65 66]\n",
      " [59 60 61 62]\n",
      " [55 56 57 58]\n",
      " [51 52 53 54]\n",
      " [47 48 49 50]\n",
      " [43 44 45 46]\n",
      " [39 40 41 42]\n",
      " [35 36 37 38]]\n"
     ]
    }
   ],
   "source": [
    "a7=a6[::-1] # 행 역순\n",
    "print(a7)"
   ]
  },
  {
   "cell_type": "code",
   "execution_count": 18,
   "id": "2274df96",
   "metadata": {},
   "outputs": [
    {
     "name": "stdout",
     "output_type": "stream",
     "text": [
      "[[41 42]\n",
      " [45 46]\n",
      " [49 50]\n",
      " [53 54]\n",
      " [57 58]\n",
      " [61 62]\n",
      " [65 66]\n",
      " [69 70]]\n"
     ]
    }
   ],
   "source": [
    "a8=a6[1:-1,2:] \n",
    "# 두번째행, 마지막행 빼고 자르기\n",
    "# 세번째 열, 마지막 열까지\n",
    "print(a8)"
   ]
  },
  {
   "cell_type": "code",
   "execution_count": 32,
   "id": "089bc473",
   "metadata": {},
   "outputs": [
    {
     "name": "stdout",
     "output_type": "stream",
     "text": [
      "[[27 17 23 34 29  2]\n",
      " [42 44 31 31 49 28]\n",
      " [27 18  5 18  4 22]\n",
      " [31 15 34  8 47 34]\n",
      " [18 42 43 19 17 47]]\n",
      "짝수만:  [34  2 42 44 28 18 18  4 22 34  8 34 18 42]\n",
      "[[False False False  True False  True]\n",
      " [ True  True False False False  True]\n",
      " [False  True False  True  True  True]\n",
      " [False False  True  True False  True]\n",
      " [ True  True False False False False]]\n"
     ]
    }
   ],
   "source": [
    "arr=np.random.randint(1,51,(5,6))\n",
    "print(arr)\n",
    "\n",
    "a9=arr[arr%2==0] # 불리언 인덱싱. 대괄호 안 조건에 트루펄스 맞춰서 리스트\n",
    "mask=arr%2==0\n",
    "print(\"짝수만: \",a9) # 짝수만 골라서 출력. 트루인 조건의 요소만 출력\n",
    "print(mask)"
   ]
  },
  {
   "cell_type": "code",
   "execution_count": null,
   "id": "fcd449da",
   "metadata": {},
   "outputs": [
    {
     "name": "stdout",
     "output_type": "stream",
     "text": [
      "[[10 11 12 13 14 15 16 17 18 19]\n",
      " [30 31 32 33 34 35 36 37 38 39]\n",
      " [50 51 52 53 54 55 56 57 58 59]] \n",
      "\n",
      "[[12 14 16]\n",
      " [32 34 36]\n",
      " [52 54 56]] \n",
      "\n",
      "[[ 0  1  2  3  4  5  6  7  8  9]\n",
      " [10 11 12 13 14 15 16 17 18 19]\n",
      " [20 21 22 23 24 25 26 27 28 29]\n",
      " [30 31 32 33 34 35 36 37 38 39]\n",
      " [40 41 42 43 44 45 46 47 48 49]\n",
      " [50 51 52 53 54 55 56 57 58 59]\n",
      " [60 61 62 63 64 65 66 67 68 69]\n",
      " [70 71 72 73 74 75 76 77 78 79]\n",
      " [80 81 82 83 84 85 86 87 88 89]\n",
      " [90 91 92 93 94 95 96 97 98 99]]\n"
     ]
    }
   ],
   "source": [
    "arr=np.arange(100).reshape(10,10)\n",
    "selected_row=arr[[1,3,5]]\n",
    "print(selected_row,\"\\n\")\n",
    "selected_col=selected_row[:,[2,4,6]]\n",
    "print(selected_col,\"\\n\") # 1,3,5 열의 2,4,6 행을 고르다.\n",
    "print(arr)"
   ]
  },
  {
   "cell_type": "code",
   "execution_count": 38,
   "id": "8f980b07",
   "metadata": {},
   "outputs": [
    {
     "name": "stdout",
     "output_type": "stream",
     "text": [
      "[[12 14 15]\n",
      " [32 34 35]\n",
      " [52 54 55]]\n"
     ]
    }
   ],
   "source": [
    "# 위의 것을 한줄로?\n",
    "arr=np.arange(100).reshape(10,10)\n",
    "a10=arr[[1,3,5]][:,[2,4,5]]\n",
    "print(a10)"
   ]
  },
  {
   "cell_type": "code",
   "execution_count": 45,
   "id": "15300121",
   "metadata": {},
   "outputs": [
    {
     "name": "stdout",
     "output_type": "stream",
     "text": [
      "[2 8 6 8 2 3 0 4 0 0 7 6 9 2 7]\n",
      "[2 6 2 0 0 7 9 7]\n"
     ]
    }
   ],
   "source": [
    "arr=np.random.randint(0,10,15) #0-9범위 내 난수로 15길이의 리스트 생성\n",
    "print(arr)\n",
    "\n",
    "even_idx=arr[::2]\n",
    "print(even_idx) #짝수 인덱스에 위치한 값들\n",
    "a11=even_idx[even_idx>=5] # 5 이상 출력"
   ]
  },
  {
   "cell_type": "markdown",
   "id": "7ade2d68",
   "metadata": {},
   "source": [
    "# 넘파이 배열연산\n",
    "#### 2025.08.04\n",
    "##### 요소 단위로 수행되는 배열연산"
   ]
  },
  {
   "cell_type": "code",
   "execution_count": 46,
   "id": "d6d6ce17",
   "metadata": {},
   "outputs": [],
   "source": [
    "import numpy as np"
   ]
  },
  {
   "cell_type": "code",
   "execution_count": 52,
   "id": "c56ab253",
   "metadata": {},
   "outputs": [
    {
     "name": "stdout",
     "output_type": "stream",
     "text": [
      "[5 7 9]\n"
     ]
    }
   ],
   "source": [
    "# 요소끼리 더해지는 행렬간 연산\n",
    "\n",
    "a1=np.array([1,2,3])\n",
    "a2=np.array([4,5,6])\n",
    "\n",
    "print(a1+a2)\n",
    "\n",
    "# 배열과 배열간, 혹은 배열과 스칼라값 간의 연산을 지원\n",
    "# 브로드캐스팅으로 서로 다른 크기의 연산도 자동확장 가능\n"
   ]
  },
  {
   "cell_type": "code",
   "execution_count": 71,
   "id": "29853a82",
   "metadata": {},
   "outputs": [
    {
     "name": "stdout",
     "output_type": "stream",
     "text": [
      ">> a1 배열과 a2배열 \n",
      "[[1 2]\n",
      " [3 4]]\n",
      "[[11 12]\n",
      " [13 14]]\n",
      "\n",
      ">> a1+a2\n",
      "[[12 14]\n",
      " [16 18]]\n",
      "\n",
      ">> a2-a1\n",
      "[[10 10]\n",
      " [10 10]]\n",
      "\n",
      ">> a1 * 10, 배열과 스칼라 연산\n",
      "[[10 20]\n",
      " [30 40]]\n"
     ]
    }
   ],
   "source": [
    "# 2차원 연산\n",
    "a1=np.arange(1,5).reshape(2,2)\n",
    "a2=np.arange(11,15).reshape(2,2)\n",
    "print(f\">> a1 배열과 a2배열 \\n{a1}\\n{a2}\\n\")\n",
    "print(f\">> a1+a2\\n{a1+a2}\\n\")\n",
    "print(f\">> a2-a1\\n{a2-a1}\\n\")\n",
    "\n",
    "# 배열과 스칼라간의 연산\n",
    "print(f\">> a1 * 10, 배열과 스칼라 연산\\n{a1*10}\")\n"
   ]
  },
  {
   "cell_type": "code",
   "execution_count": 76,
   "id": "eebeff76",
   "metadata": {},
   "outputs": [
    {
     "name": "stdout",
     "output_type": "stream",
     "text": [
      "[[11 22 33]\n",
      " [14 25 36]]\n"
     ]
    }
   ],
   "source": [
    "# 서로 크기가 다른 배열간의 연산, 브로드캐스팅\n",
    "# 브로드캐스팅 - 배열의 크기를 확장해 서로 다른 배열간 연산을 가능케 함.\n",
    "\n",
    "\n",
    "a1=np.array([[1,2,3],\n",
    "             [4,5,6]]) \n",
    "            # 2x3 배열\n",
    "\n",
    "a2=np.array([10,20,30]) \n",
    "            # 길이가 3인 배열\n",
    "\n",
    "#1차원 길이\n",
    "[10,20,30]\n",
    "# 2차원으로 변형\n",
    "[[10,20,30]]\n",
    "# 2차원의 행이 2로 확장\n",
    "[[10,20,30],\n",
    " [10,20,30]]\n",
    "# 이렇게 변형된 a2배열을\n",
    "# a1배열과 더하게 된다.\n",
    "\n",
    "print(a1+a2)\n"
   ]
  },
  {
   "cell_type": "code",
   "execution_count": 87,
   "id": "d4fdbff6",
   "metadata": {},
   "outputs": [
    {
     "name": "stdout",
     "output_type": "stream",
     "text": [
      "[[1]\n",
      " [2]\n",
      " [3]]\n",
      "[10 20 30]\n",
      "\n",
      "[[11 21 31]\n",
      " [12 22 32]\n",
      " [13 23 33]]\n"
     ]
    }
   ],
   "source": [
    "a1=np.array([[1],[2],[3]])\n",
    "print(a1)\n",
    "a2=np.array([10,20,30])\n",
    "print(a2)\n",
    "print()\n",
    "\n",
    "\n",
    "# 2차원의 경우: 3vs1>> a2의 2차원이 3으로 확장?\n",
    "[[10,20,30],[10,20,30],[10,20,30]]\n",
    "\n",
    "# 1차원이 경우: a1의 1차원이 3으로 확장\n",
    "[[1,1,1],[2,2,2],[3,3,3]]\n",
    "\n",
    "print(a1+a2)\n",
    "\n",
    "# 한쪽이 차원이 1인 경우만 확장이 가능하다"
   ]
  },
  {
   "cell_type": "code",
   "execution_count": 126,
   "id": "0b314871",
   "metadata": {},
   "outputs": [
    {
     "name": "stdout",
     "output_type": "stream",
     "text": [
      "[4 5 6 7]\n",
      "[[ -5 -10]\n",
      " [-15 -20]]\n",
      "곱:\n",
      "[ 2  8 18]\n",
      "나눗셈:\n",
      "[2 2 2]\n",
      "실습4\n",
      "[[[100 100]\n",
      "  [100 100]]]\n",
      "실습5\n",
      "[[ 10  20  30]\n",
      " [400 500 600]]\n",
      "실습6\n",
      "[[110 120]\n",
      " [230 240]\n",
      " [350 360]]\n"
     ]
    }
   ],
   "source": [
    "# 실습1\n",
    "arr1=np.array([1,2,3,4])\n",
    "print(arr1+3)\n",
    "\n",
    "arr2=np.array([[5,10],\n",
    "               [15,20]])\n",
    "arr2_new=arr2*-1\n",
    "print(arr2_new)\n",
    "\n",
    "arr3_1=np.array([2,4,6])\n",
    "arr3_2=np.array([1,2,3])\n",
    "print(f\"곱:\\n{arr3_1*arr3_2}\\n나눗셈:\\n{arr3_1//arr3_2}\")\n",
    "\n",
    "arr4=np.array([[95,97],\n",
    "               [80,85]])\n",
    "                # 5,3,20,15\n",
    "arr4_add=np.array([100-arr4])\n",
    "print(f\"실습4\\n{arr4+arr4_add}\")\n",
    "\n",
    "arr5 = np.array([[1, 2, 3],\n",
    "                [4, 5, 6]])\n",
    "arr5_mul=np.array([[10],[100]])\n",
    "print(f\"실습5\\n{arr5*arr5_mul}\")\n",
    "\n",
    "arr6=np.array([[10,20],\n",
    "               [30,40],\n",
    "               [50,60]])\n",
    "arr6_add=np.array([[100],[200],[300]])\n",
    "print(f\"실습6\\n{arr6+arr6_add}\")\n"
   ]
  },
  {
   "cell_type": "code",
   "execution_count": null,
   "id": "7e353c72",
   "metadata": {},
   "outputs": [],
   "source": []
  }
 ],
 "metadata": {
  "kernelspec": {
   "display_name": "data_analysis",
   "language": "python",
   "name": "python3"
  },
  "language_info": {
   "codemirror_mode": {
    "name": "ipython",
    "version": 3
   },
   "file_extension": ".py",
   "mimetype": "text/x-python",
   "name": "python",
   "nbconvert_exporter": "python",
   "pygments_lexer": "ipython3",
   "version": "3.13.5"
  }
 },
 "nbformat": 4,
 "nbformat_minor": 5
}
