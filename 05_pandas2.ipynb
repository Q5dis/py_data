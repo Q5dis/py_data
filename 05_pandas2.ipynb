{
 "cells": [
  {
   "cell_type": "code",
   "execution_count": 2,
   "id": "3af6d294",
   "metadata": {},
   "outputs": [],
   "source": [
    "import pandas as pd"
   ]
  },
  {
   "cell_type": "code",
   "execution_count": 75,
   "id": "f7387b53",
   "metadata": {},
   "outputs": [
    {
     "name": "stdout",
     "output_type": "stream",
     "text": [
      "    이름  점수  반\n",
      "2  이영희  95  1 \n",
      "\n",
      "    이름  점수  반\n",
      "0  홍길동  80  2\n",
      "2  이영희  95  1\n",
      "3  박민수  70  2 \n",
      "\n",
      "    이름  점수  반\n",
      "0  홍길동  80  2\n",
      "3  박민수  70  2\n"
     ]
    }
   ],
   "source": [
    "# 조건필터링\n",
    "data = {\n",
    "    '이름': ['홍길동', '김철수', '이영희', '박민수'],\n",
    "    '점수': [80, 70, 95, 70],\n",
    "    '반': [2, 1, 1, 2]\n",
    "}\n",
    "df = pd.DataFrame(data)\n",
    "\n",
    "# and \n",
    "mask=(df[\"반\"]==1)&(df[\"점수\"]>=80)\n",
    "print(df[mask],\"\\n\")\n",
    "\n",
    "# or\n",
    "mask=(df[\"반\"]==2)|(df[\"점수\"]>=90)\n",
    "print(df[mask],\"\\n\")\n",
    "\n",
    "# 간결하게 \n",
    "mask=df[\"이름\"].isin([\"홍길동\",\"박민수\"]) #이름 안에 길동, 민수있느냐. 이름에 길동민수 있는거만 트루\n",
    "print(df[mask]) # 트루만 필터링해서 출력"
   ]
  },
  {
   "cell_type": "code",
   "execution_count": 76,
   "id": "47e9c9a5",
   "metadata": {},
   "outputs": [
    {
     "name": "stdout",
     "output_type": "stream",
     "text": [
      "    이름  점수  반\n",
      "0  홍길동  80  2\n",
      "2  이영희  95  1\n",
      "3  박민수  70  2 \n",
      "\n",
      "   index   이름  점수  반\n",
      "0      0  홍길동  80  2\n",
      "1      2  이영희  95  1\n",
      "2      3  박민수  70  2 \n",
      "\n",
      "   index   이름  점수  반\n",
      "0      0  홍길동  80  2\n",
      "1      2  이영희  95  1\n",
      "2      3  박민수  70  2\n"
     ]
    }
   ],
   "source": [
    "mask=(df[\"반\"]==2)|(df[\"점수\"]>=90)\n",
    "df2=df[mask]\n",
    "print(df2,\"\\n\")\n",
    "\n",
    "df2=df2.reset_index() # 인덱스가 꼬였을 때 리셋인덱스를 사용한다.\n",
    "print(df2,\"\\n\")\n",
    "\n",
    "df2=df2.reset_index(drop=True) # 기존인덱스를 삭제\n",
    "print(df2)"
   ]
  },
  {
   "cell_type": "code",
   "execution_count": 77,
   "id": "bc4da29c",
   "metadata": {},
   "outputs": [
    {
     "name": "stdout",
     "output_type": "stream",
     "text": [
      "80점이상\n",
      "   이름  점수  반\n",
      "1  서연  92  2\n",
      "2  지후  85  1\n",
      "4  지민  88  1\n",
      "\n",
      "1반 중 85 이상만\n",
      "   이름  점수  반\n",
      "2  지후  85  1\n",
      "4  지민  88  1\n",
      "\n",
      "서연 혹은 지민\n",
      "   이름  점수  반\n",
      "1  서연  92  2\n",
      "4  지민  88  1\n",
      "\n",
      "인덱스 재정렬\n",
      "   이름  점수  반\n",
      "0  서연  92  2\n",
      "1  지민  88  1\n",
      "\n",
      "2반 혹은 80미만\n",
      "   이름  점수  반\n",
      "0  민준  78  1\n",
      "1  서연  92  2\n",
      "3  서준  60  2\n",
      "\n",
      "인덱스 재정렬\n",
      "   이름  점수  반\n",
      "0  민준  78  1\n",
      "1  서연  92  2\n",
      "\n"
     ]
    }
   ],
   "source": [
    "df=pd.DataFrame({\n",
    "    '이름':['민준','서연','지후','서준','지민'],\n",
    "    '점수':[78,92,85,60,88],\n",
    "    '반':[1,2,1,2,1]\n",
    "})\n",
    "\n",
    "#1\n",
    "print(f\"80점이상\\n{df[df[\"점수\"] > 80]}\\n\")\n",
    "#2\n",
    "mask=(df[\"반\"]==1) & (df[\"점수\"]>=85)\n",
    "print(f\"1반 중 85 이상만\\n{df[mask]}\\n\")\n",
    "#3\n",
    "mask=df[\"이름\"].isin([\"서연\",\"지민\"])\n",
    "print(f\"서연 혹은 지민\\n{df[mask]}\\n\")\n",
    "#4\n",
    "df_new=df[mask]\n",
    "df_new=df_new.reset_index(drop=True)\n",
    "print(f\"인덱스 재정렬\\n{df_new}\\n\")\n",
    "#5\n",
    "mask=(df[\"반\"]==2) | (df[\"점수\"]<80)\n",
    "print(f\"2반 혹은 80미만\\n{df[mask]}\\n\")\n",
    "#6\n",
    "df_new = df[mask]\n",
    "df_new = df_new[df_new[\"점수\"] >= 70]\n",
    "df_new = df_new.reset_index(drop=True)\n",
    "print(f\"인덱스 재정렬\\n{df_new}\\n\")\n"
   ]
  },
  {
   "cell_type": "code",
   "execution_count": 78,
   "id": "ff6c3d5b",
   "metadata": {},
   "outputs": [
    {
     "data": {
      "text/html": [
       "<div>\n",
       "<style scoped>\n",
       "    .dataframe tbody tr th:only-of-type {\n",
       "        vertical-align: middle;\n",
       "    }\n",
       "\n",
       "    .dataframe tbody tr th {\n",
       "        vertical-align: top;\n",
       "    }\n",
       "\n",
       "    .dataframe thead th {\n",
       "        text-align: right;\n",
       "    }\n",
       "</style>\n",
       "<table border=\"1\" class=\"dataframe\">\n",
       "  <thead>\n",
       "    <tr style=\"text-align: right;\">\n",
       "      <th></th>\n",
       "      <th>이름</th>\n",
       "      <th>국어</th>\n",
       "      <th>영어</th>\n",
       "    </tr>\n",
       "  </thead>\n",
       "  <tbody>\n",
       "    <tr>\n",
       "      <th>0</th>\n",
       "      <td>김철수</td>\n",
       "      <td>90</td>\n",
       "      <td>85</td>\n",
       "    </tr>\n",
       "    <tr>\n",
       "      <th>1</th>\n",
       "      <td>이영희</td>\n",
       "      <td>80</td>\n",
       "      <td>78</td>\n",
       "    </tr>\n",
       "    <tr>\n",
       "      <th>2</th>\n",
       "      <td>박민수</td>\n",
       "      <td>70</td>\n",
       "      <td>92</td>\n",
       "    </tr>\n",
       "  </tbody>\n",
       "</table>\n",
       "</div>"
      ],
      "text/plain": [
       "    이름  국어  영어\n",
       "0  김철수  90  85\n",
       "1  이영희  80  78\n",
       "2  박민수  70  92"
      ]
     },
     "execution_count": 78,
     "metadata": {},
     "output_type": "execute_result"
    }
   ],
   "source": [
    "df = pd.DataFrame({\n",
    "    '이름': ['김철수', '이영희', '박민수'],\n",
    "    '국어': [90, 80, 70],\n",
    "    '영어': [85, 78, 92]\n",
    "})\n",
    "df"
   ]
  },
  {
   "cell_type": "code",
   "execution_count": 79,
   "id": "0f29111e",
   "metadata": {},
   "outputs": [
    {
     "data": {
      "text/html": [
       "<div>\n",
       "<style scoped>\n",
       "    .dataframe tbody tr th:only-of-type {\n",
       "        vertical-align: middle;\n",
       "    }\n",
       "\n",
       "    .dataframe tbody tr th {\n",
       "        vertical-align: top;\n",
       "    }\n",
       "\n",
       "    .dataframe thead th {\n",
       "        text-align: right;\n",
       "    }\n",
       "</style>\n",
       "<table border=\"1\" class=\"dataframe\">\n",
       "  <thead>\n",
       "    <tr style=\"text-align: right;\">\n",
       "      <th></th>\n",
       "      <th>이름</th>\n",
       "      <th>국어</th>\n",
       "      <th>영어</th>\n",
       "      <th>반</th>\n",
       "    </tr>\n",
       "  </thead>\n",
       "  <tbody>\n",
       "    <tr>\n",
       "      <th>0</th>\n",
       "      <td>김철수</td>\n",
       "      <td>90</td>\n",
       "      <td>85</td>\n",
       "      <td>1반</td>\n",
       "    </tr>\n",
       "    <tr>\n",
       "      <th>1</th>\n",
       "      <td>이영희</td>\n",
       "      <td>80</td>\n",
       "      <td>78</td>\n",
       "      <td>1반</td>\n",
       "    </tr>\n",
       "    <tr>\n",
       "      <th>2</th>\n",
       "      <td>박민수</td>\n",
       "      <td>70</td>\n",
       "      <td>92</td>\n",
       "      <td>1반</td>\n",
       "    </tr>\n",
       "  </tbody>\n",
       "</table>\n",
       "</div>"
      ],
      "text/plain": [
       "    이름  국어  영어   반\n",
       "0  김철수  90  85  1반\n",
       "1  이영희  80  78  1반\n",
       "2  박민수  70  92  1반"
      ]
     },
     "execution_count": 79,
     "metadata": {},
     "output_type": "execute_result"
    }
   ],
   "source": [
    "# 같은 값 한번에 추가\n",
    "df[\"반\"]=\"1반\" \n",
    "# 컬럼이 존재하면 수정, 없다면 추가\n",
    "df"
   ]
  },
  {
   "cell_type": "code",
   "execution_count": 80,
   "id": "d4f73dd2",
   "metadata": {},
   "outputs": [
    {
     "data": {
      "text/html": [
       "<div>\n",
       "<style scoped>\n",
       "    .dataframe tbody tr th:only-of-type {\n",
       "        vertical-align: middle;\n",
       "    }\n",
       "\n",
       "    .dataframe tbody tr th {\n",
       "        vertical-align: top;\n",
       "    }\n",
       "\n",
       "    .dataframe thead th {\n",
       "        text-align: right;\n",
       "    }\n",
       "</style>\n",
       "<table border=\"1\" class=\"dataframe\">\n",
       "  <thead>\n",
       "    <tr style=\"text-align: right;\">\n",
       "      <th></th>\n",
       "      <th>이름</th>\n",
       "      <th>국어</th>\n",
       "      <th>영어</th>\n",
       "      <th>반</th>\n",
       "      <th>국어 합격여부</th>\n",
       "    </tr>\n",
       "  </thead>\n",
       "  <tbody>\n",
       "    <tr>\n",
       "      <th>0</th>\n",
       "      <td>김철수</td>\n",
       "      <td>90</td>\n",
       "      <td>85</td>\n",
       "      <td>1반</td>\n",
       "      <td>합격</td>\n",
       "    </tr>\n",
       "    <tr>\n",
       "      <th>1</th>\n",
       "      <td>이영희</td>\n",
       "      <td>80</td>\n",
       "      <td>78</td>\n",
       "      <td>1반</td>\n",
       "      <td>합격</td>\n",
       "    </tr>\n",
       "    <tr>\n",
       "      <th>2</th>\n",
       "      <td>박민수</td>\n",
       "      <td>70</td>\n",
       "      <td>92</td>\n",
       "      <td>1반</td>\n",
       "      <td>불합</td>\n",
       "    </tr>\n",
       "  </tbody>\n",
       "</table>\n",
       "</div>"
      ],
      "text/plain": [
       "    이름  국어  영어   반 국어 합격여부\n",
       "0  김철수  90  85  1반      합격\n",
       "1  이영희  80  78  1반      합격\n",
       "2  박민수  70  92  1반      불합"
      ]
     },
     "execution_count": 80,
     "metadata": {},
     "output_type": "execute_result"
    }
   ],
   "source": [
    "# 조건문을 통한 추가\n",
    "df[\"국어 합격여부\"]=df[\"국어\"]>=80\n",
    "df\n",
    "\n",
    "df[\"국어 합격여부\"] = [\"합격\" if x >= 80 else \"불합\" for x in df[\"국어\"]]\n",
    "df"
   ]
  },
  {
   "cell_type": "code",
   "execution_count": 81,
   "id": "51ba2942",
   "metadata": {},
   "outputs": [
    {
     "data": {
      "text/html": [
       "<div>\n",
       "<style scoped>\n",
       "    .dataframe tbody tr th:only-of-type {\n",
       "        vertical-align: middle;\n",
       "    }\n",
       "\n",
       "    .dataframe tbody tr th {\n",
       "        vertical-align: top;\n",
       "    }\n",
       "\n",
       "    .dataframe thead th {\n",
       "        text-align: right;\n",
       "    }\n",
       "</style>\n",
       "<table border=\"1\" class=\"dataframe\">\n",
       "  <thead>\n",
       "    <tr style=\"text-align: right;\">\n",
       "      <th></th>\n",
       "      <th>이름</th>\n",
       "      <th>국어</th>\n",
       "      <th>영어</th>\n",
       "      <th>반</th>\n",
       "      <th>국어 합격여부</th>\n",
       "      <th>학번</th>\n",
       "    </tr>\n",
       "  </thead>\n",
       "  <tbody>\n",
       "    <tr>\n",
       "      <th>0</th>\n",
       "      <td>김철수</td>\n",
       "      <td>90</td>\n",
       "      <td>85</td>\n",
       "      <td>1반</td>\n",
       "      <td>합격</td>\n",
       "      <td>101</td>\n",
       "    </tr>\n",
       "    <tr>\n",
       "      <th>1</th>\n",
       "      <td>이영희</td>\n",
       "      <td>80</td>\n",
       "      <td>78</td>\n",
       "      <td>1반</td>\n",
       "      <td>합격</td>\n",
       "      <td>102</td>\n",
       "    </tr>\n",
       "    <tr>\n",
       "      <th>2</th>\n",
       "      <td>박민수</td>\n",
       "      <td>70</td>\n",
       "      <td>92</td>\n",
       "      <td>1반</td>\n",
       "      <td>불합</td>\n",
       "      <td>103</td>\n",
       "    </tr>\n",
       "  </tbody>\n",
       "</table>\n",
       "</div>"
      ],
      "text/plain": [
       "    이름  국어  영어   반 국어 합격여부   학번\n",
       "0  김철수  90  85  1반      합격  101\n",
       "1  이영희  80  78  1반      합격  102\n",
       "2  박민수  70  92  1반      불합  103"
      ]
     },
     "execution_count": 81,
     "metadata": {},
     "output_type": "execute_result"
    }
   ],
   "source": [
    "# 리스트/시리즈를 통한 열추가\n",
    "df[\"학번\"]=[101,102,103]\n",
    "df"
   ]
  },
  {
   "cell_type": "code",
   "execution_count": 82,
   "id": "a26cd872",
   "metadata": {},
   "outputs": [
    {
     "data": {
      "text/html": [
       "<div>\n",
       "<style scoped>\n",
       "    .dataframe tbody tr th:only-of-type {\n",
       "        vertical-align: middle;\n",
       "    }\n",
       "\n",
       "    .dataframe tbody tr th {\n",
       "        vertical-align: top;\n",
       "    }\n",
       "\n",
       "    .dataframe thead th {\n",
       "        text-align: right;\n",
       "    }\n",
       "</style>\n",
       "<table border=\"1\" class=\"dataframe\">\n",
       "  <thead>\n",
       "    <tr style=\"text-align: right;\">\n",
       "      <th></th>\n",
       "      <th>이름</th>\n",
       "      <th>국어</th>\n",
       "      <th>영어</th>\n",
       "      <th>반</th>\n",
       "      <th>국어 합격여부</th>\n",
       "      <th>학번</th>\n",
       "    </tr>\n",
       "  </thead>\n",
       "  <tbody>\n",
       "    <tr>\n",
       "      <th>0</th>\n",
       "      <td>김철수</td>\n",
       "      <td>90</td>\n",
       "      <td>100</td>\n",
       "      <td>1반</td>\n",
       "      <td>합격</td>\n",
       "      <td>101</td>\n",
       "    </tr>\n",
       "    <tr>\n",
       "      <th>1</th>\n",
       "      <td>이영희</td>\n",
       "      <td>80</td>\n",
       "      <td>100</td>\n",
       "      <td>1반</td>\n",
       "      <td>합격</td>\n",
       "      <td>102</td>\n",
       "    </tr>\n",
       "    <tr>\n",
       "      <th>2</th>\n",
       "      <td>박민수</td>\n",
       "      <td>70</td>\n",
       "      <td>100</td>\n",
       "      <td>1반</td>\n",
       "      <td>불합</td>\n",
       "      <td>103</td>\n",
       "    </tr>\n",
       "  </tbody>\n",
       "</table>\n",
       "</div>"
      ],
      "text/plain": [
       "    이름  국어   영어   반 국어 합격여부   학번\n",
       "0  김철수  90  100  1반      합격  101\n",
       "1  이영희  80  100  1반      합격  102\n",
       "2  박민수  70  100  1반      불합  103"
      ]
     },
     "execution_count": 82,
     "metadata": {},
     "output_type": "execute_result"
    }
   ],
   "source": [
    "# 기존값 한번에 변경\n",
    "df[\"영어\"]=100\n",
    "df"
   ]
  },
  {
   "cell_type": "code",
   "execution_count": 83,
   "id": "7b4cc3f4",
   "metadata": {},
   "outputs": [
    {
     "data": {
      "text/html": [
       "<div>\n",
       "<style scoped>\n",
       "    .dataframe tbody tr th:only-of-type {\n",
       "        vertical-align: middle;\n",
       "    }\n",
       "\n",
       "    .dataframe tbody tr th {\n",
       "        vertical-align: top;\n",
       "    }\n",
       "\n",
       "    .dataframe thead th {\n",
       "        text-align: right;\n",
       "    }\n",
       "</style>\n",
       "<table border=\"1\" class=\"dataframe\">\n",
       "  <thead>\n",
       "    <tr style=\"text-align: right;\">\n",
       "      <th></th>\n",
       "      <th>이름</th>\n",
       "      <th>국어</th>\n",
       "      <th>영어</th>\n",
       "      <th>반</th>\n",
       "      <th>국어 합격여부</th>\n",
       "      <th>학번</th>\n",
       "      <th>총점</th>\n",
       "    </tr>\n",
       "  </thead>\n",
       "  <tbody>\n",
       "    <tr>\n",
       "      <th>0</th>\n",
       "      <td>김철수</td>\n",
       "      <td>90</td>\n",
       "      <td>100</td>\n",
       "      <td>1반</td>\n",
       "      <td>합격</td>\n",
       "      <td>101</td>\n",
       "      <td>190</td>\n",
       "    </tr>\n",
       "    <tr>\n",
       "      <th>1</th>\n",
       "      <td>이영희</td>\n",
       "      <td>80</td>\n",
       "      <td>100</td>\n",
       "      <td>1반</td>\n",
       "      <td>합격</td>\n",
       "      <td>102</td>\n",
       "      <td>180</td>\n",
       "    </tr>\n",
       "    <tr>\n",
       "      <th>2</th>\n",
       "      <td>박민수</td>\n",
       "      <td>70</td>\n",
       "      <td>100</td>\n",
       "      <td>1반</td>\n",
       "      <td>불합</td>\n",
       "      <td>103</td>\n",
       "      <td>170</td>\n",
       "    </tr>\n",
       "  </tbody>\n",
       "</table>\n",
       "</div>"
      ],
      "text/plain": [
       "    이름  국어   영어   반 국어 합격여부   학번   총점\n",
       "0  김철수  90  100  1반      합격  101  190\n",
       "1  이영희  80  100  1반      합격  102  180\n",
       "2  박민수  70  100  1반      불합  103  170"
      ]
     },
     "execution_count": 83,
     "metadata": {},
     "output_type": "execute_result"
    }
   ],
   "source": [
    "# 시리즈 연산결과로 새열추가\n",
    "df[\"총점\"]=df[\"국어\"]+df[\"영어\"]\n",
    "df"
   ]
  },
  {
   "cell_type": "code",
   "execution_count": 84,
   "id": "3bff8d3b",
   "metadata": {},
   "outputs": [
    {
     "data": {
      "text/html": [
       "<div>\n",
       "<style scoped>\n",
       "    .dataframe tbody tr th:only-of-type {\n",
       "        vertical-align: middle;\n",
       "    }\n",
       "\n",
       "    .dataframe tbody tr th {\n",
       "        vertical-align: top;\n",
       "    }\n",
       "\n",
       "    .dataframe thead th {\n",
       "        text-align: right;\n",
       "    }\n",
       "</style>\n",
       "<table border=\"1\" class=\"dataframe\">\n",
       "  <thead>\n",
       "    <tr style=\"text-align: right;\">\n",
       "      <th></th>\n",
       "      <th>이름</th>\n",
       "      <th>국어</th>\n",
       "      <th>영어</th>\n",
       "      <th>반</th>\n",
       "      <th>학번</th>\n",
       "      <th>총점</th>\n",
       "    </tr>\n",
       "  </thead>\n",
       "  <tbody>\n",
       "    <tr>\n",
       "      <th>0</th>\n",
       "      <td>김철수</td>\n",
       "      <td>90</td>\n",
       "      <td>100</td>\n",
       "      <td>1반</td>\n",
       "      <td>101</td>\n",
       "      <td>190</td>\n",
       "    </tr>\n",
       "    <tr>\n",
       "      <th>1</th>\n",
       "      <td>이영희</td>\n",
       "      <td>80</td>\n",
       "      <td>100</td>\n",
       "      <td>1반</td>\n",
       "      <td>102</td>\n",
       "      <td>180</td>\n",
       "    </tr>\n",
       "    <tr>\n",
       "      <th>2</th>\n",
       "      <td>박민수</td>\n",
       "      <td>70</td>\n",
       "      <td>100</td>\n",
       "      <td>1반</td>\n",
       "      <td>103</td>\n",
       "      <td>170</td>\n",
       "    </tr>\n",
       "  </tbody>\n",
       "</table>\n",
       "</div>"
      ],
      "text/plain": [
       "    이름  국어   영어   반   학번   총점\n",
       "0  김철수  90  100  1반  101  190\n",
       "1  이영희  80  100  1반  102  180\n",
       "2  박민수  70  100  1반  103  170"
      ]
     },
     "execution_count": 84,
     "metadata": {},
     "output_type": "execute_result"
    }
   ],
   "source": [
    "# 열삭지\n",
    "df2=df.drop(\"국어 합격여부\",axis=1) # axis 1로 열만 삭제한다\n",
    "df2"
   ]
  },
  {
   "cell_type": "code",
   "execution_count": 85,
   "id": "a5f34993",
   "metadata": {},
   "outputs": [
    {
     "data": {
      "text/html": [
       "<div>\n",
       "<style scoped>\n",
       "    .dataframe tbody tr th:only-of-type {\n",
       "        vertical-align: middle;\n",
       "    }\n",
       "\n",
       "    .dataframe tbody tr th {\n",
       "        vertical-align: top;\n",
       "    }\n",
       "\n",
       "    .dataframe thead th {\n",
       "        text-align: right;\n",
       "    }\n",
       "</style>\n",
       "<table border=\"1\" class=\"dataframe\">\n",
       "  <thead>\n",
       "    <tr style=\"text-align: right;\">\n",
       "      <th></th>\n",
       "      <th>이름</th>\n",
       "      <th>국어</th>\n",
       "      <th>영어</th>\n",
       "      <th>반</th>\n",
       "    </tr>\n",
       "  </thead>\n",
       "  <tbody>\n",
       "    <tr>\n",
       "      <th>0</th>\n",
       "      <td>김철수</td>\n",
       "      <td>90</td>\n",
       "      <td>100</td>\n",
       "      <td>1반</td>\n",
       "    </tr>\n",
       "    <tr>\n",
       "      <th>1</th>\n",
       "      <td>이영희</td>\n",
       "      <td>80</td>\n",
       "      <td>100</td>\n",
       "      <td>1반</td>\n",
       "    </tr>\n",
       "    <tr>\n",
       "      <th>2</th>\n",
       "      <td>박민수</td>\n",
       "      <td>70</td>\n",
       "      <td>100</td>\n",
       "      <td>1반</td>\n",
       "    </tr>\n",
       "  </tbody>\n",
       "</table>\n",
       "</div>"
      ],
      "text/plain": [
       "    이름  국어   영어   반\n",
       "0  김철수  90  100  1반\n",
       "1  이영희  80  100  1반\n",
       "2  박민수  70  100  1반"
      ]
     },
     "execution_count": 85,
     "metadata": {},
     "output_type": "execute_result"
    }
   ],
   "source": [
    "# 여러 열 삭제\n",
    "df3=df2.drop([\"총점\",\"학번\"],axis=1)\n",
    "df3"
   ]
  },
  {
   "cell_type": "code",
   "execution_count": 86,
   "id": "dfd52e56",
   "metadata": {},
   "outputs": [
    {
     "data": {
      "text/html": [
       "<div>\n",
       "<style scoped>\n",
       "    .dataframe tbody tr th:only-of-type {\n",
       "        vertical-align: middle;\n",
       "    }\n",
       "\n",
       "    .dataframe tbody tr th {\n",
       "        vertical-align: top;\n",
       "    }\n",
       "\n",
       "    .dataframe thead th {\n",
       "        text-align: right;\n",
       "    }\n",
       "</style>\n",
       "<table border=\"1\" class=\"dataframe\">\n",
       "  <thead>\n",
       "    <tr style=\"text-align: right;\">\n",
       "      <th></th>\n",
       "      <th>이름</th>\n",
       "      <th>국어</th>\n",
       "      <th>영어</th>\n",
       "      <th>국어 합격여부</th>\n",
       "      <th>학번</th>\n",
       "      <th>총점</th>\n",
       "    </tr>\n",
       "  </thead>\n",
       "  <tbody>\n",
       "    <tr>\n",
       "      <th>0</th>\n",
       "      <td>김철수</td>\n",
       "      <td>90</td>\n",
       "      <td>100</td>\n",
       "      <td>합격</td>\n",
       "      <td>101</td>\n",
       "      <td>190</td>\n",
       "    </tr>\n",
       "    <tr>\n",
       "      <th>1</th>\n",
       "      <td>이영희</td>\n",
       "      <td>80</td>\n",
       "      <td>100</td>\n",
       "      <td>합격</td>\n",
       "      <td>102</td>\n",
       "      <td>180</td>\n",
       "    </tr>\n",
       "    <tr>\n",
       "      <th>2</th>\n",
       "      <td>박민수</td>\n",
       "      <td>70</td>\n",
       "      <td>100</td>\n",
       "      <td>불합</td>\n",
       "      <td>103</td>\n",
       "      <td>170</td>\n",
       "    </tr>\n",
       "  </tbody>\n",
       "</table>\n",
       "</div>"
      ],
      "text/plain": [
       "    이름  국어   영어 국어 합격여부   학번   총점\n",
       "0  김철수  90  100      합격  101  190\n",
       "1  이영희  80  100      합격  102  180\n",
       "2  박민수  70  100      불합  103  170"
      ]
     },
     "execution_count": 86,
     "metadata": {},
     "output_type": "execute_result"
    }
   ],
   "source": [
    "# inplace 원본에서 삭제\n",
    "df.drop(\"반\",axis=1,inplace=True)\n",
    "df"
   ]
  },
  {
   "cell_type": "code",
   "execution_count": 87,
   "id": "69cc5b49",
   "metadata": {},
   "outputs": [
    {
     "data": {
      "text/html": [
       "<div>\n",
       "<style scoped>\n",
       "    .dataframe tbody tr th:only-of-type {\n",
       "        vertical-align: middle;\n",
       "    }\n",
       "\n",
       "    .dataframe tbody tr th {\n",
       "        vertical-align: top;\n",
       "    }\n",
       "\n",
       "    .dataframe thead th {\n",
       "        text-align: right;\n",
       "    }\n",
       "</style>\n",
       "<table border=\"1\" class=\"dataframe\">\n",
       "  <thead>\n",
       "    <tr style=\"text-align: right;\">\n",
       "      <th></th>\n",
       "      <th>이름</th>\n",
       "      <th>국어</th>\n",
       "      <th>영어</th>\n",
       "      <th>국어 합격여부</th>\n",
       "      <th>학번</th>\n",
       "    </tr>\n",
       "  </thead>\n",
       "  <tbody>\n",
       "    <tr>\n",
       "      <th>0</th>\n",
       "      <td>김철수</td>\n",
       "      <td>90</td>\n",
       "      <td>100</td>\n",
       "      <td>합격</td>\n",
       "      <td>101</td>\n",
       "    </tr>\n",
       "    <tr>\n",
       "      <th>1</th>\n",
       "      <td>이영희</td>\n",
       "      <td>80</td>\n",
       "      <td>100</td>\n",
       "      <td>합격</td>\n",
       "      <td>102</td>\n",
       "    </tr>\n",
       "    <tr>\n",
       "      <th>2</th>\n",
       "      <td>박민수</td>\n",
       "      <td>70</td>\n",
       "      <td>100</td>\n",
       "      <td>불합</td>\n",
       "      <td>103</td>\n",
       "    </tr>\n",
       "  </tbody>\n",
       "</table>\n",
       "</div>"
      ],
      "text/plain": [
       "    이름  국어   영어 국어 합격여부   학번\n",
       "0  김철수  90  100      합격  101\n",
       "1  이영희  80  100      합격  102\n",
       "2  박민수  70  100      불합  103"
      ]
     },
     "execution_count": 87,
     "metadata": {},
     "output_type": "execute_result"
    }
   ],
   "source": [
    "# 기타 삭제방법\n",
    "del df[\"총점\"]\n",
    "df\n",
    "# del 키워드도 사용가능"
   ]
  },
  {
   "cell_type": "code",
   "execution_count": 90,
   "id": "c0a84e1e",
   "metadata": {},
   "outputs": [
    {
     "data": {
      "text/plain": [
       "0    합격\n",
       "1    합격\n",
       "2    불합\n",
       "Name: 국어 합격여부, dtype: object"
      ]
     },
     "execution_count": 90,
     "metadata": {},
     "output_type": "execute_result"
    }
   ],
   "source": [
    "deleted=df.pop(\"국어 합격여부\")\n",
    "deleted"
   ]
  },
  {
   "cell_type": "markdown",
   "id": "e1be4899",
   "metadata": {},
   "source": [
    "# 행 추가 수정 삭제"
   ]
  },
  {
   "cell_type": "code",
   "execution_count": 121,
   "id": "530600a2",
   "metadata": {},
   "outputs": [
    {
     "data": {
      "text/html": [
       "<div>\n",
       "<style scoped>\n",
       "    .dataframe tbody tr th:only-of-type {\n",
       "        vertical-align: middle;\n",
       "    }\n",
       "\n",
       "    .dataframe tbody tr th {\n",
       "        vertical-align: top;\n",
       "    }\n",
       "\n",
       "    .dataframe thead th {\n",
       "        text-align: right;\n",
       "    }\n",
       "</style>\n",
       "<table border=\"1\" class=\"dataframe\">\n",
       "  <thead>\n",
       "    <tr style=\"text-align: right;\">\n",
       "      <th></th>\n",
       "      <th>이름</th>\n",
       "      <th>나이</th>\n",
       "    </tr>\n",
       "  </thead>\n",
       "  <tbody>\n",
       "    <tr>\n",
       "      <th>0</th>\n",
       "      <td>김철수</td>\n",
       "      <td>23</td>\n",
       "    </tr>\n",
       "    <tr>\n",
       "      <th>1</th>\n",
       "      <td>이영희</td>\n",
       "      <td>25</td>\n",
       "    </tr>\n",
       "    <tr>\n",
       "      <th>2</th>\n",
       "      <td>박민수</td>\n",
       "      <td>90</td>\n",
       "    </tr>\n",
       "    <tr>\n",
       "      <th>3</th>\n",
       "      <td>최지우</td>\n",
       "      <td>22</td>\n",
       "    </tr>\n",
       "    <tr>\n",
       "      <th>4</th>\n",
       "      <td>박민수</td>\n",
       "      <td>27</td>\n",
       "    </tr>\n",
       "  </tbody>\n",
       "</table>\n",
       "</div>"
      ],
      "text/plain": [
       "    이름  나이\n",
       "0  김철수  23\n",
       "1  이영희  25\n",
       "2  박민수  90\n",
       "3  최지우  22\n",
       "4  박민수  27"
      ]
     },
     "execution_count": 121,
     "metadata": {},
     "output_type": "execute_result"
    }
   ],
   "source": [
    "# 행추가 concat\n",
    "\n",
    "df = pd.DataFrame({\n",
    "    '이름': ['김철수', '이영희'],\n",
    "    '나이': [23, 25]\n",
    "})\n",
    "\n",
    "new_rows = pd.DataFrame({\n",
    "    '이름': ['박민수', '최지우'],\n",
    "    '나이': [90, 22]\n",
    "})\n",
    "\n",
    "df = pd.concat([df, new_rows], ignore_index=True)\n",
    "df\n",
    "\n",
    "new_row = pd.DataFrame({'이름': ['박민수'], '나이': [27]})\n",
    "df = pd.concat([df, new_row], ignore_index=True)\n",
    "df\n"
   ]
  },
  {
   "cell_type": "code",
   "execution_count": 99,
   "id": "077740c5",
   "metadata": {},
   "outputs": [
    {
     "data": {
      "text/html": [
       "<div>\n",
       "<style scoped>\n",
       "    .dataframe tbody tr th:only-of-type {\n",
       "        vertical-align: middle;\n",
       "    }\n",
       "\n",
       "    .dataframe tbody tr th {\n",
       "        vertical-align: top;\n",
       "    }\n",
       "\n",
       "    .dataframe thead th {\n",
       "        text-align: right;\n",
       "    }\n",
       "</style>\n",
       "<table border=\"1\" class=\"dataframe\">\n",
       "  <thead>\n",
       "    <tr style=\"text-align: right;\">\n",
       "      <th></th>\n",
       "      <th>이름</th>\n",
       "      <th>나이</th>\n",
       "    </tr>\n",
       "  </thead>\n",
       "  <tbody>\n",
       "    <tr>\n",
       "      <th>0</th>\n",
       "      <td>김철수</td>\n",
       "      <td>23</td>\n",
       "    </tr>\n",
       "    <tr>\n",
       "      <th>1</th>\n",
       "      <td>김영희</td>\n",
       "      <td>49</td>\n",
       "    </tr>\n",
       "    <tr>\n",
       "      <th>2</th>\n",
       "      <td>박민수</td>\n",
       "      <td>27</td>\n",
       "    </tr>\n",
       "    <tr>\n",
       "      <th>3</th>\n",
       "      <td>최지우</td>\n",
       "      <td>22</td>\n",
       "    </tr>\n",
       "    <tr>\n",
       "      <th>4</th>\n",
       "      <td>박민수</td>\n",
       "      <td>27</td>\n",
       "    </tr>\n",
       "  </tbody>\n",
       "</table>\n",
       "</div>"
      ],
      "text/plain": [
       "    이름  나이\n",
       "0  김철수  23\n",
       "1  김영희  49\n",
       "2  박민수  27\n",
       "3  최지우  22\n",
       "4  박민수  27"
      ]
     },
     "execution_count": 99,
     "metadata": {},
     "output_type": "execute_result"
    }
   ],
   "source": [
    "# 행수정\n",
    "df.loc[1]=[\"김영희\",49]\n",
    "df\n",
    "# 1번에 대한 행 수정"
   ]
  },
  {
   "cell_type": "code",
   "execution_count": 101,
   "id": "5ddcd802",
   "metadata": {},
   "outputs": [
    {
     "data": {
      "text/html": [
       "<div>\n",
       "<style scoped>\n",
       "    .dataframe tbody tr th:only-of-type {\n",
       "        vertical-align: middle;\n",
       "    }\n",
       "\n",
       "    .dataframe tbody tr th {\n",
       "        vertical-align: top;\n",
       "    }\n",
       "\n",
       "    .dataframe thead th {\n",
       "        text-align: right;\n",
       "    }\n",
       "</style>\n",
       "<table border=\"1\" class=\"dataframe\">\n",
       "  <thead>\n",
       "    <tr style=\"text-align: right;\">\n",
       "      <th></th>\n",
       "      <th>이름</th>\n",
       "      <th>나이</th>\n",
       "    </tr>\n",
       "  </thead>\n",
       "  <tbody>\n",
       "    <tr>\n",
       "      <th>0</th>\n",
       "      <td>김철수</td>\n",
       "      <td>90</td>\n",
       "    </tr>\n",
       "    <tr>\n",
       "      <th>1</th>\n",
       "      <td>김영희</td>\n",
       "      <td>49</td>\n",
       "    </tr>\n",
       "    <tr>\n",
       "      <th>2</th>\n",
       "      <td>박민수</td>\n",
       "      <td>27</td>\n",
       "    </tr>\n",
       "    <tr>\n",
       "      <th>3</th>\n",
       "      <td>최지우</td>\n",
       "      <td>22</td>\n",
       "    </tr>\n",
       "    <tr>\n",
       "      <th>4</th>\n",
       "      <td>박민수</td>\n",
       "      <td>27</td>\n",
       "    </tr>\n",
       "  </tbody>\n",
       "</table>\n",
       "</div>"
      ],
      "text/plain": [
       "    이름  나이\n",
       "0  김철수  90\n",
       "1  김영희  49\n",
       "2  박민수  27\n",
       "3  최지우  22\n",
       "4  박민수  27"
      ]
     },
     "execution_count": 101,
     "metadata": {},
     "output_type": "execute_result"
    }
   ],
   "source": [
    "df.loc[0, \"나이\"]=90\n",
    "df\n",
    "# 0번째 행의 나이를 변경"
   ]
  },
  {
   "cell_type": "code",
   "execution_count": 103,
   "id": "02e00376",
   "metadata": {},
   "outputs": [
    {
     "data": {
      "text/html": [
       "<div>\n",
       "<style scoped>\n",
       "    .dataframe tbody tr th:only-of-type {\n",
       "        vertical-align: middle;\n",
       "    }\n",
       "\n",
       "    .dataframe tbody tr th {\n",
       "        vertical-align: top;\n",
       "    }\n",
       "\n",
       "    .dataframe thead th {\n",
       "        text-align: right;\n",
       "    }\n",
       "</style>\n",
       "<table border=\"1\" class=\"dataframe\">\n",
       "  <thead>\n",
       "    <tr style=\"text-align: right;\">\n",
       "      <th></th>\n",
       "      <th>이름</th>\n",
       "      <th>나이</th>\n",
       "    </tr>\n",
       "  </thead>\n",
       "  <tbody>\n",
       "    <tr>\n",
       "      <th>0</th>\n",
       "      <td>김철수</td>\n",
       "      <td>90</td>\n",
       "    </tr>\n",
       "    <tr>\n",
       "      <th>1</th>\n",
       "      <td>김영희</td>\n",
       "      <td>85</td>\n",
       "    </tr>\n",
       "    <tr>\n",
       "      <th>2</th>\n",
       "      <td>박민수</td>\n",
       "      <td>85</td>\n",
       "    </tr>\n",
       "    <tr>\n",
       "      <th>3</th>\n",
       "      <td>최지우</td>\n",
       "      <td>85</td>\n",
       "    </tr>\n",
       "    <tr>\n",
       "      <th>4</th>\n",
       "      <td>박민수</td>\n",
       "      <td>27</td>\n",
       "    </tr>\n",
       "  </tbody>\n",
       "</table>\n",
       "</div>"
      ],
      "text/plain": [
       "    이름  나이\n",
       "0  김철수  90\n",
       "1  김영희  85\n",
       "2  박민수  85\n",
       "3  최지우  85\n",
       "4  박민수  27"
      ]
     },
     "execution_count": 103,
     "metadata": {},
     "output_type": "execute_result"
    }
   ],
   "source": [
    "df.loc[1:3,\"나이\"]=85\n",
    "df # 일괄적으로 나이변경"
   ]
  },
  {
   "cell_type": "code",
   "execution_count": 107,
   "id": "51e5ade4",
   "metadata": {},
   "outputs": [
    {
     "data": {
      "text/html": [
       "<div>\n",
       "<style scoped>\n",
       "    .dataframe tbody tr th:only-of-type {\n",
       "        vertical-align: middle;\n",
       "    }\n",
       "\n",
       "    .dataframe tbody tr th {\n",
       "        vertical-align: top;\n",
       "    }\n",
       "\n",
       "    .dataframe thead th {\n",
       "        text-align: right;\n",
       "    }\n",
       "</style>\n",
       "<table border=\"1\" class=\"dataframe\">\n",
       "  <thead>\n",
       "    <tr style=\"text-align: right;\">\n",
       "      <th></th>\n",
       "      <th>이름</th>\n",
       "      <th>나이</th>\n",
       "    </tr>\n",
       "  </thead>\n",
       "  <tbody>\n",
       "    <tr>\n",
       "      <th>0</th>\n",
       "      <td>김철수</td>\n",
       "      <td>90</td>\n",
       "    </tr>\n",
       "    <tr>\n",
       "      <th>1</th>\n",
       "      <td>박심심</td>\n",
       "      <td>25</td>\n",
       "    </tr>\n",
       "    <tr>\n",
       "      <th>2</th>\n",
       "      <td>김냄새</td>\n",
       "      <td>90</td>\n",
       "    </tr>\n",
       "    <tr>\n",
       "      <th>3</th>\n",
       "      <td>최지우</td>\n",
       "      <td>85</td>\n",
       "    </tr>\n",
       "    <tr>\n",
       "      <th>4</th>\n",
       "      <td>박민수</td>\n",
       "      <td>27</td>\n",
       "    </tr>\n",
       "  </tbody>\n",
       "</table>\n",
       "</div>"
      ],
      "text/plain": [
       "    이름  나이\n",
       "0  김철수  90\n",
       "1  박심심  25\n",
       "2  김냄새  90\n",
       "3  최지우  85\n",
       "4  박민수  27"
      ]
     },
     "execution_count": 107,
     "metadata": {},
     "output_type": "execute_result"
    }
   ],
   "source": [
    "df.loc[1:2,[\"이름\",\"나이\"]]=[[\"박심심\",25],[\"김냄새\",90]]\n",
    "df\n",
    "# 여러개를 변경"
   ]
  },
  {
   "cell_type": "code",
   "execution_count": 108,
   "id": "a5f37ce7",
   "metadata": {},
   "outputs": [
    {
     "data": {
      "text/html": [
       "<div>\n",
       "<style scoped>\n",
       "    .dataframe tbody tr th:only-of-type {\n",
       "        vertical-align: middle;\n",
       "    }\n",
       "\n",
       "    .dataframe tbody tr th {\n",
       "        vertical-align: top;\n",
       "    }\n",
       "\n",
       "    .dataframe thead th {\n",
       "        text-align: right;\n",
       "    }\n",
       "</style>\n",
       "<table border=\"1\" class=\"dataframe\">\n",
       "  <thead>\n",
       "    <tr style=\"text-align: right;\">\n",
       "      <th></th>\n",
       "      <th>이름</th>\n",
       "      <th>나이</th>\n",
       "    </tr>\n",
       "  </thead>\n",
       "  <tbody>\n",
       "    <tr>\n",
       "      <th>0</th>\n",
       "      <td>김철수</td>\n",
       "      <td>90</td>\n",
       "    </tr>\n",
       "    <tr>\n",
       "      <th>2</th>\n",
       "      <td>김냄새</td>\n",
       "      <td>90</td>\n",
       "    </tr>\n",
       "    <tr>\n",
       "      <th>3</th>\n",
       "      <td>최지우</td>\n",
       "      <td>85</td>\n",
       "    </tr>\n",
       "    <tr>\n",
       "      <th>4</th>\n",
       "      <td>박민수</td>\n",
       "      <td>27</td>\n",
       "    </tr>\n",
       "  </tbody>\n",
       "</table>\n",
       "</div>"
      ],
      "text/plain": [
       "    이름  나이\n",
       "0  김철수  90\n",
       "2  김냄새  90\n",
       "3  최지우  85\n",
       "4  박민수  27"
      ]
     },
     "execution_count": 108,
     "metadata": {},
     "output_type": "execute_result"
    }
   ],
   "source": [
    "df2=df.drop(1)\n",
    "df2\n",
    "# 드랍의 기본 axis는 0이다"
   ]
  },
  {
   "cell_type": "code",
   "execution_count": 109,
   "id": "dfb27b50",
   "metadata": {},
   "outputs": [
    {
     "data": {
      "text/html": [
       "<div>\n",
       "<style scoped>\n",
       "    .dataframe tbody tr th:only-of-type {\n",
       "        vertical-align: middle;\n",
       "    }\n",
       "\n",
       "    .dataframe tbody tr th {\n",
       "        vertical-align: top;\n",
       "    }\n",
       "\n",
       "    .dataframe thead th {\n",
       "        text-align: right;\n",
       "    }\n",
       "</style>\n",
       "<table border=\"1\" class=\"dataframe\">\n",
       "  <thead>\n",
       "    <tr style=\"text-align: right;\">\n",
       "      <th></th>\n",
       "      <th>이름</th>\n",
       "      <th>나이</th>\n",
       "    </tr>\n",
       "  </thead>\n",
       "  <tbody>\n",
       "    <tr>\n",
       "      <th>0</th>\n",
       "      <td>김철수</td>\n",
       "      <td>90</td>\n",
       "    </tr>\n",
       "    <tr>\n",
       "      <th>1</th>\n",
       "      <td>김냄새</td>\n",
       "      <td>90</td>\n",
       "    </tr>\n",
       "    <tr>\n",
       "      <th>2</th>\n",
       "      <td>최지우</td>\n",
       "      <td>85</td>\n",
       "    </tr>\n",
       "    <tr>\n",
       "      <th>3</th>\n",
       "      <td>박민수</td>\n",
       "      <td>27</td>\n",
       "    </tr>\n",
       "  </tbody>\n",
       "</table>\n",
       "</div>"
      ],
      "text/plain": [
       "    이름  나이\n",
       "0  김철수  90\n",
       "1  김냄새  90\n",
       "2  최지우  85\n",
       "3  박민수  27"
      ]
     },
     "execution_count": 109,
     "metadata": {},
     "output_type": "execute_result"
    }
   ],
   "source": [
    "df2=df.drop(1).reset_index(drop=True)\n",
    "df2"
   ]
  },
  {
   "cell_type": "code",
   "execution_count": 113,
   "id": "3a9ec09a",
   "metadata": {},
   "outputs": [
    {
     "data": {
      "text/html": [
       "<div>\n",
       "<style scoped>\n",
       "    .dataframe tbody tr th:only-of-type {\n",
       "        vertical-align: middle;\n",
       "    }\n",
       "\n",
       "    .dataframe tbody tr th {\n",
       "        vertical-align: top;\n",
       "    }\n",
       "\n",
       "    .dataframe thead th {\n",
       "        text-align: right;\n",
       "    }\n",
       "</style>\n",
       "<table border=\"1\" class=\"dataframe\">\n",
       "  <thead>\n",
       "    <tr style=\"text-align: right;\">\n",
       "      <th></th>\n",
       "      <th>이름</th>\n",
       "      <th>나이</th>\n",
       "    </tr>\n",
       "  </thead>\n",
       "  <tbody>\n",
       "    <tr>\n",
       "      <th>1</th>\n",
       "      <td>박심심</td>\n",
       "      <td>25</td>\n",
       "    </tr>\n",
       "    <tr>\n",
       "      <th>3</th>\n",
       "      <td>최지우</td>\n",
       "      <td>85</td>\n",
       "    </tr>\n",
       "    <tr>\n",
       "      <th>4</th>\n",
       "      <td>박민수</td>\n",
       "      <td>27</td>\n",
       "    </tr>\n",
       "  </tbody>\n",
       "</table>\n",
       "</div>"
      ],
      "text/plain": [
       "    이름  나이\n",
       "1  박심심  25\n",
       "3  최지우  85\n",
       "4  박민수  27"
      ]
     },
     "execution_count": 113,
     "metadata": {},
     "output_type": "execute_result"
    }
   ],
   "source": [
    "df3=df.drop([0,2])\n",
    "df3"
   ]
  },
  {
   "cell_type": "code",
   "execution_count": 123,
   "id": "d9221118",
   "metadata": {},
   "outputs": [
    {
     "data": {
      "text/html": [
       "<div>\n",
       "<style scoped>\n",
       "    .dataframe tbody tr th:only-of-type {\n",
       "        vertical-align: middle;\n",
       "    }\n",
       "\n",
       "    .dataframe tbody tr th {\n",
       "        vertical-align: top;\n",
       "    }\n",
       "\n",
       "    .dataframe thead th {\n",
       "        text-align: right;\n",
       "    }\n",
       "</style>\n",
       "<table border=\"1\" class=\"dataframe\">\n",
       "  <thead>\n",
       "    <tr style=\"text-align: right;\">\n",
       "      <th></th>\n",
       "      <th>이름</th>\n",
       "      <th>나이</th>\n",
       "    </tr>\n",
       "  </thead>\n",
       "  <tbody>\n",
       "    <tr>\n",
       "      <th>2</th>\n",
       "      <td>박민수</td>\n",
       "      <td>90</td>\n",
       "    </tr>\n",
       "  </tbody>\n",
       "</table>\n",
       "</div>"
      ],
      "text/plain": [
       "    이름  나이\n",
       "2  박민수  90"
      ]
     },
     "execution_count": 123,
     "metadata": {},
     "output_type": "execute_result"
    }
   ],
   "source": [
    "df = df[df[\"나이\"] >=30]\n",
    "df\n",
    "# 덮어쓰긔"
   ]
  },
  {
   "cell_type": "markdown",
   "id": "adbb1f6b",
   "metadata": {},
   "source": [
    "1. '수학' 점수 [95, 100, 88]을 새 열로 추가하세요.\n",
    "2. 1번 문제의 DataFrame에서 '이름' 열을 삭제하세요."
   ]
  },
  {
   "cell_type": "code",
   "execution_count": 136,
   "id": "b6535cff",
   "metadata": {},
   "outputs": [
    {
     "name": "stdout",
     "output_type": "stream",
     "text": [
      "    이름  국어   수학\n",
      "0  김철수  90   95\n",
      "1  이영희  80  100\n",
      "2  박민수  70   88 \n",
      "\n",
      "   국어   수학\n",
      "0  90   95\n",
      "1  80  100\n",
      "2  70   88 \n",
      "\n"
     ]
    }
   ],
   "source": [
    "df = pd.DataFrame({\n",
    "'이름': ['김철수', '이영희', '박민수'],\n",
    "'국어': [90, 80, 70]\n",
    "})\n",
    "#1\n",
    "df[\"수학\"]=[95,100,88]\n",
    "print(df,\"\\n\")\n",
    "#2\n",
    "del df[\"이름\"]\n",
    "print(df,\"\\n\")"
   ]
  },
  {
   "cell_type": "markdown",
   "id": "eab64ff7",
   "metadata": {},
   "source": [
    "3. 제품 'C', 가격 1500인 새 행을 추가하세요.\n",
    "4. 3번 문제의 DataFrame에서 첫 번째 행(제품 'A')을 삭제하세요."
   ]
  },
  {
   "cell_type": "code",
   "execution_count": 158,
   "id": "d845b9a4",
   "metadata": {},
   "outputs": [
    {
     "name": "stdout",
     "output_type": "stream",
     "text": [
      "  제품    가격\n",
      "0  A  1000\n",
      "1  B  2000\n",
      "2  C  1500 \n",
      "\n",
      "  제품    가격\n",
      "1  B  2000\n",
      "2  C  1500\n"
     ]
    }
   ],
   "source": [
    "df = pd.DataFrame({\n",
    "'제품': ['A', 'B'],\n",
    "'가격': [1000, 2000]\n",
    "})\n",
    "#3\n",
    "df = pd.concat([df, pd.DataFrame({'제품': ['C'], '가격': [1500]})],ignore_index=True)\n",
    "print(df,\"\\n\")\n",
    "#4\n",
    "df_drop=df.drop(0)\n",
    "df=df_drop\n",
    "print(df)\n"
   ]
  },
  {
   "cell_type": "markdown",
   "id": "9109e25c",
   "metadata": {},
   "source": [
    "5. '점수'가 80 미만인 행을 모두 삭제하세요.\n",
    "6. '학년' 열(값은 모두 1)을 추가하세요."
   ]
  },
  {
   "cell_type": "code",
   "execution_count": 151,
   "id": "366fed3a",
   "metadata": {},
   "outputs": [
    {
     "name": "stdout",
     "output_type": "stream",
     "text": [
      "   과목  점수\n",
      "0  국어  85\n",
      "1  영어  90 \n",
      "\n",
      "   과목  점수  학년\n",
      "0  국어  85   1\n",
      "1  영어  90   1\n"
     ]
    }
   ],
   "source": [
    "df = pd.DataFrame({\n",
    "'과목': ['국어', '영어', '수학'],\n",
    "'점수': [85, 90, 78]\n",
    "})\n",
    "#5\n",
    "df=df[df[\"점수\"] >=80]\n",
    "print(df,\"\\n\")\n",
    "#6\n",
    "df[\"학년\"]=1\n",
    "print(df)"
   ]
  },
  {
   "cell_type": "markdown",
   "id": "8191d9a1",
   "metadata": {},
   "source": [
    "\n",
    "7. 이름이 'C', 나이가 25, 키가 NaN(결측값)인 새 행을 추가하세요.\n",
    "(단, '키'라는 새 열이 자동으로 추가되어야 함)"
   ]
  },
  {
   "cell_type": "code",
   "execution_count": 159,
   "id": "af54d535",
   "metadata": {},
   "outputs": [
    {
     "data": {
      "text/html": [
       "<div>\n",
       "<style scoped>\n",
       "    .dataframe tbody tr th:only-of-type {\n",
       "        vertical-align: middle;\n",
       "    }\n",
       "\n",
       "    .dataframe tbody tr th {\n",
       "        vertical-align: top;\n",
       "    }\n",
       "\n",
       "    .dataframe thead th {\n",
       "        text-align: right;\n",
       "    }\n",
       "</style>\n",
       "<table border=\"1\" class=\"dataframe\">\n",
       "  <thead>\n",
       "    <tr style=\"text-align: right;\">\n",
       "      <th></th>\n",
       "      <th>이름</th>\n",
       "      <th>나이</th>\n",
       "      <th>키</th>\n",
       "    </tr>\n",
       "  </thead>\n",
       "  <tbody>\n",
       "    <tr>\n",
       "      <th>0</th>\n",
       "      <td>A</td>\n",
       "      <td>20</td>\n",
       "      <td>NaN</td>\n",
       "    </tr>\n",
       "    <tr>\n",
       "      <th>1</th>\n",
       "      <td>B</td>\n",
       "      <td>22</td>\n",
       "      <td>NaN</td>\n",
       "    </tr>\n",
       "    <tr>\n",
       "      <th>2</th>\n",
       "      <td>C</td>\n",
       "      <td>15</td>\n",
       "      <td>NaN</td>\n",
       "    </tr>\n",
       "  </tbody>\n",
       "</table>\n",
       "</div>"
      ],
      "text/plain": [
       "  이름  나이   키\n",
       "0  A  20 NaN\n",
       "1  B  22 NaN\n",
       "2  C  15 NaN"
      ]
     },
     "execution_count": 159,
     "metadata": {},
     "output_type": "execute_result"
    }
   ],
   "source": [
    "import numpy as np\n",
    "df = pd.DataFrame({\n",
    "'이름': ['A', 'B'],\n",
    "'나이': [20, 22]\n",
    "})\n",
    "#7\n",
    "df = pd.concat([df, pd.DataFrame({'이름': ['C'], '나이': [15], '키':[np.nan]})],ignore_index=True)\n",
    "df"
   ]
  },
  {
   "cell_type": "markdown",
   "id": "0b5d7aaa",
   "metadata": {},
   "source": [
    "\n",
    "8. 인원이 2명 이하인 행을 모두 삭제하고,\n",
    "9. '평가' 열을 새로 추가해 모든 값을 '미정'으로 채우세요.\n"
   ]
  },
  {
   "cell_type": "code",
   "execution_count": 156,
   "id": "deb9befe",
   "metadata": {},
   "outputs": [
    {
     "name": "stdout",
     "output_type": "stream",
     "text": [
      "    부서  인원\n",
      "1   기획   2\n",
      "3  디자인   1 \n",
      "\n",
      "    부서  인원  평가\n",
      "1   기획   2  미정\n",
      "3  디자인   1  미정\n"
     ]
    }
   ],
   "source": [
    "df = pd.DataFrame({\n",
    "'부서': ['영업', '기획', '개발', '디자인'],\n",
    "'인원': [3, 2, 5, 1]\n",
    "})\n",
    "#8\n",
    "df=df[df[\"인원\"] <=2]\n",
    "print(df,\"\\n\")\n",
    "#9\n",
    "df[\"평가\"]=\"미정\"\n",
    "print(df)"
   ]
  },
  {
   "cell_type": "markdown",
   "id": "ba05d4a5",
   "metadata": {},
   "source": [
    "# 문자열 데이터 처리"
   ]
  },
  {
   "cell_type": "code",
   "execution_count": 5,
   "id": "144ac8e7",
   "metadata": {},
   "outputs": [
    {
     "data": {
      "text/html": [
       "<div>\n",
       "<style scoped>\n",
       "    .dataframe tbody tr th:only-of-type {\n",
       "        vertical-align: middle;\n",
       "    }\n",
       "\n",
       "    .dataframe tbody tr th {\n",
       "        vertical-align: top;\n",
       "    }\n",
       "\n",
       "    .dataframe thead th {\n",
       "        text-align: right;\n",
       "    }\n",
       "</style>\n",
       "<table border=\"1\" class=\"dataframe\">\n",
       "  <thead>\n",
       "    <tr style=\"text-align: right;\">\n",
       "      <th></th>\n",
       "      <th>이름</th>\n",
       "      <th>점수</th>\n",
       "      <th>반</th>\n",
       "    </tr>\n",
       "  </thead>\n",
       "  <tbody>\n",
       "    <tr>\n",
       "      <th>0</th>\n",
       "      <td>김철수</td>\n",
       "      <td>70</td>\n",
       "      <td>1</td>\n",
       "    </tr>\n",
       "    <tr>\n",
       "      <th>1</th>\n",
       "      <td>이영희</td>\n",
       "      <td>85</td>\n",
       "      <td>1</td>\n",
       "    </tr>\n",
       "    <tr>\n",
       "      <th>2</th>\n",
       "      <td>홍길동</td>\n",
       "      <td>90</td>\n",
       "      <td>2</td>\n",
       "    </tr>\n",
       "    <tr>\n",
       "      <th>3</th>\n",
       "      <td>박민수</td>\n",
       "      <td>95</td>\n",
       "      <td>2</td>\n",
       "    </tr>\n",
       "  </tbody>\n",
       "</table>\n",
       "</div>"
      ],
      "text/plain": [
       "    이름  점수  반\n",
       "0  김철수  70  1\n",
       "1  이영희  85  1\n",
       "2  홍길동  90  2\n",
       "3  박민수  95  2"
      ]
     },
     "execution_count": 5,
     "metadata": {},
     "output_type": "execute_result"
    }
   ],
   "source": [
    "import pandas as pd\n",
    "\n",
    "data = {\n",
    "    '이름': ['홍길동', '김철수', '이영희', '박민수'],\n",
    "    '점수': [90, 70, 85, 95],\n",
    "    '반': [2, 1, 1, 2]\n",
    "}\n",
    "df = pd.DataFrame(data)\n",
    "\n",
    "# 값기준 정렬\n",
    "df2=df.sort_values(by=\"점수\").reset_index(drop=True) # 기본 오름차순\n",
    "df2"
   ]
  },
  {
   "cell_type": "code",
   "execution_count": 9,
   "id": "ae819255",
   "metadata": {},
   "outputs": [
    {
     "data": {
      "text/html": [
       "<div>\n",
       "<style scoped>\n",
       "    .dataframe tbody tr th:only-of-type {\n",
       "        vertical-align: middle;\n",
       "    }\n",
       "\n",
       "    .dataframe tbody tr th {\n",
       "        vertical-align: top;\n",
       "    }\n",
       "\n",
       "    .dataframe thead th {\n",
       "        text-align: right;\n",
       "    }\n",
       "</style>\n",
       "<table border=\"1\" class=\"dataframe\">\n",
       "  <thead>\n",
       "    <tr style=\"text-align: right;\">\n",
       "      <th></th>\n",
       "      <th>이름</th>\n",
       "      <th>점수</th>\n",
       "      <th>반</th>\n",
       "    </tr>\n",
       "  </thead>\n",
       "  <tbody>\n",
       "    <tr>\n",
       "      <th>0</th>\n",
       "      <td>박민수</td>\n",
       "      <td>95</td>\n",
       "      <td>2</td>\n",
       "    </tr>\n",
       "    <tr>\n",
       "      <th>1</th>\n",
       "      <td>홍길동</td>\n",
       "      <td>90</td>\n",
       "      <td>2</td>\n",
       "    </tr>\n",
       "    <tr>\n",
       "      <th>2</th>\n",
       "      <td>이영희</td>\n",
       "      <td>85</td>\n",
       "      <td>1</td>\n",
       "    </tr>\n",
       "    <tr>\n",
       "      <th>3</th>\n",
       "      <td>김철수</td>\n",
       "      <td>70</td>\n",
       "      <td>1</td>\n",
       "    </tr>\n",
       "  </tbody>\n",
       "</table>\n",
       "</div>"
      ],
      "text/plain": [
       "    이름  점수  반\n",
       "0  박민수  95  2\n",
       "1  홍길동  90  2\n",
       "2  이영희  85  1\n",
       "3  김철수  70  1"
      ]
     },
     "execution_count": 9,
     "metadata": {},
     "output_type": "execute_result"
    }
   ],
   "source": [
    "# 내림차순 정렬\n",
    "df3=df.sort_values(\"점수\",ascending=False).reset_index(drop=True)\n",
    "# 어센딩은 오름차순, 즉 펄스로 바꾸면 자동으로 디센딩\n",
    "df3"
   ]
  },
  {
   "cell_type": "code",
   "execution_count": 15,
   "id": "426532ee",
   "metadata": {},
   "outputs": [
    {
     "data": {
      "text/html": [
       "<div>\n",
       "<style scoped>\n",
       "    .dataframe tbody tr th:only-of-type {\n",
       "        vertical-align: middle;\n",
       "    }\n",
       "\n",
       "    .dataframe tbody tr th {\n",
       "        vertical-align: top;\n",
       "    }\n",
       "\n",
       "    .dataframe thead th {\n",
       "        text-align: right;\n",
       "    }\n",
       "</style>\n",
       "<table border=\"1\" class=\"dataframe\">\n",
       "  <thead>\n",
       "    <tr style=\"text-align: right;\">\n",
       "      <th></th>\n",
       "      <th>이름</th>\n",
       "      <th>점수</th>\n",
       "      <th>반</th>\n",
       "    </tr>\n",
       "  </thead>\n",
       "  <tbody>\n",
       "    <tr>\n",
       "      <th>0</th>\n",
       "      <td>이영희</td>\n",
       "      <td>85</td>\n",
       "      <td>1</td>\n",
       "    </tr>\n",
       "    <tr>\n",
       "      <th>1</th>\n",
       "      <td>김철수</td>\n",
       "      <td>70</td>\n",
       "      <td>1</td>\n",
       "    </tr>\n",
       "    <tr>\n",
       "      <th>2</th>\n",
       "      <td>박민수</td>\n",
       "      <td>95</td>\n",
       "      <td>2</td>\n",
       "    </tr>\n",
       "    <tr>\n",
       "      <th>3</th>\n",
       "      <td>홍길동</td>\n",
       "      <td>90</td>\n",
       "      <td>2</td>\n",
       "    </tr>\n",
       "  </tbody>\n",
       "</table>\n",
       "</div>"
      ],
      "text/plain": [
       "    이름  점수  반\n",
       "0  이영희  85  1\n",
       "1  김철수  70  1\n",
       "2  박민수  95  2\n",
       "3  홍길동  90  2"
      ]
     },
     "execution_count": 15,
     "metadata": {},
     "output_type": "execute_result"
    }
   ],
   "source": [
    "# 반대로 정렬하고 점수대로 또 정렬하고싶다\n",
    "df4=df.sort_values([\"반\",\"점수\"],\n",
    "                   ascending=[True,False]).reset_index(drop=True)\n",
    "#반은 오름차, 점수는 내림차\n",
    "df4"
   ]
  },
  {
   "cell_type": "code",
   "execution_count": 16,
   "id": "4e64994e",
   "metadata": {},
   "outputs": [
    {
     "data": {
      "text/html": [
       "<div>\n",
       "<style scoped>\n",
       "    .dataframe tbody tr th:only-of-type {\n",
       "        vertical-align: middle;\n",
       "    }\n",
       "\n",
       "    .dataframe tbody tr th {\n",
       "        vertical-align: top;\n",
       "    }\n",
       "\n",
       "    .dataframe thead th {\n",
       "        text-align: right;\n",
       "    }\n",
       "</style>\n",
       "<table border=\"1\" class=\"dataframe\">\n",
       "  <thead>\n",
       "    <tr style=\"text-align: right;\">\n",
       "      <th></th>\n",
       "      <th>이름</th>\n",
       "      <th>점수</th>\n",
       "      <th>반</th>\n",
       "    </tr>\n",
       "  </thead>\n",
       "  <tbody>\n",
       "    <tr>\n",
       "      <th>0</th>\n",
       "      <td>이영희</td>\n",
       "      <td>85</td>\n",
       "      <td>1</td>\n",
       "    </tr>\n",
       "    <tr>\n",
       "      <th>1</th>\n",
       "      <td>김철수</td>\n",
       "      <td>70</td>\n",
       "      <td>1</td>\n",
       "    </tr>\n",
       "    <tr>\n",
       "      <th>2</th>\n",
       "      <td>박민수</td>\n",
       "      <td>95</td>\n",
       "      <td>2</td>\n",
       "    </tr>\n",
       "    <tr>\n",
       "      <th>3</th>\n",
       "      <td>홍길동</td>\n",
       "      <td>90</td>\n",
       "      <td>2</td>\n",
       "    </tr>\n",
       "  </tbody>\n",
       "</table>\n",
       "</div>"
      ],
      "text/plain": [
       "    이름  점수  반\n",
       "0  이영희  85  1\n",
       "1  김철수  70  1\n",
       "2  박민수  95  2\n",
       "3  홍길동  90  2"
      ]
     },
     "execution_count": 16,
     "metadata": {},
     "output_type": "execute_result"
    }
   ],
   "source": [
    "df.sort_values([\"반\",\"점수\"],\n",
    "                   ascending=[True,False],\n",
    "                    inplace=True\n",
    "                   )\n",
    "#반은 오름차, 점수는 내림차\n",
    "df.reset_index(drop=True) # 원본변경"
   ]
  },
  {
   "cell_type": "code",
   "execution_count": 26,
   "id": "3b52b90e",
   "metadata": {},
   "outputs": [
    {
     "data": {
      "text/html": [
       "<div>\n",
       "<style scoped>\n",
       "    .dataframe tbody tr th:only-of-type {\n",
       "        vertical-align: middle;\n",
       "    }\n",
       "\n",
       "    .dataframe tbody tr th {\n",
       "        vertical-align: top;\n",
       "    }\n",
       "\n",
       "    .dataframe thead th {\n",
       "        text-align: right;\n",
       "    }\n",
       "</style>\n",
       "<table border=\"1\" class=\"dataframe\">\n",
       "  <thead>\n",
       "    <tr style=\"text-align: right;\">\n",
       "      <th></th>\n",
       "      <th>반</th>\n",
       "      <th>이름</th>\n",
       "      <th>점수</th>\n",
       "    </tr>\n",
       "  </thead>\n",
       "  <tbody>\n",
       "    <tr>\n",
       "      <th>2</th>\n",
       "      <td>1</td>\n",
       "      <td>이영희</td>\n",
       "      <td>85</td>\n",
       "    </tr>\n",
       "    <tr>\n",
       "      <th>1</th>\n",
       "      <td>1</td>\n",
       "      <td>김철수</td>\n",
       "      <td>70</td>\n",
       "    </tr>\n",
       "    <tr>\n",
       "      <th>3</th>\n",
       "      <td>2</td>\n",
       "      <td>박민수</td>\n",
       "      <td>95</td>\n",
       "    </tr>\n",
       "    <tr>\n",
       "      <th>0</th>\n",
       "      <td>2</td>\n",
       "      <td>홍길동</td>\n",
       "      <td>90</td>\n",
       "    </tr>\n",
       "  </tbody>\n",
       "</table>\n",
       "</div>"
      ],
      "text/plain": [
       "   반   이름  점수\n",
       "2  1  이영희  85\n",
       "1  1  김철수  70\n",
       "3  2  박민수  95\n",
       "0  2  홍길동  90"
      ]
     },
     "execution_count": 26,
     "metadata": {},
     "output_type": "execute_result"
    }
   ],
   "source": [
    "# 인덱스 기준 정렬\n",
    "df_shuffled=df.sample(frac=1,random_state=42) #시드값 42에 랜덤 인덕스 순서로 섞인 것을 저장\n",
    "df_shuffled\n",
    "\n",
    "df5=df_shuffled.sort_index()\n",
    "df5\n",
    "\n",
    "df6=df.sort_index(axis=1) #열 이름 기준 정렬(알파벳순)\n",
    "df6"
   ]
  },
  {
   "cell_type": "markdown",
   "id": "cb42a3ca",
   "metadata": {},
   "source": [
    "1. 주어진 DataFrame에서, score 컬럼 기준으로 오름차순 정렬한 결과를 출력하세요.\n",
    "2. score 컬럼 기준 내림차순으로 정렬한 후, 정렬된 인덱스를 무시하고 0부터 재정렬한 결과를\n",
    "출력하세요"
   ]
  },
  {
   "cell_type": "code",
   "execution_count": 33,
   "id": "ec1189c4",
   "metadata": {},
   "outputs": [
    {
     "name": "stdout",
     "output_type": "stream",
     "text": [
      "      name  score\n",
      "2  Charlie     70\n",
      "0    Alice     88\n",
      "1      Bob     95\n",
      "3    David    100 \n",
      "\n",
      "      name  score\n",
      "0    David    100\n",
      "1      Bob     95\n",
      "2    Alice     88\n",
      "3  Charlie     70\n"
     ]
    }
   ],
   "source": [
    "df = pd.DataFrame({\n",
    "'name': ['Alice', 'Bob', 'Charlie', 'David'],\n",
    "'score': [88, 95, 70, 100]\n",
    "})\n",
    "\n",
    "df_asc=df.sort_values([\"score\"])\n",
    "print(df_asc,\"\\n\")\n",
    "df_dsc=df.sort_values([\"score\"],ascending=False).reset_index(drop=True)\n",
    "print(df_dsc)"
   ]
  },
  {
   "cell_type": "markdown",
   "id": "ab701d33",
   "metadata": {},
   "source": [
    "3. 주어진 DataFrame에서,반(class) 기준 오름차순, 같은 반 내에서는 점수(score) 기준 내림차순으로 정렬한 결\n",
    "과를 출력하세요.\n",
    "4. 열(컬럼) 이름을 알파벳순으로 정렬해서 출력하세요."
   ]
  },
  {
   "cell_type": "code",
   "execution_count": 37,
   "id": "af9103e3",
   "metadata": {},
   "outputs": [
    {
     "name": "stdout",
     "output_type": "stream",
     "text": [
      "  이름  반  점수\n",
      "0  나  1  85\n",
      "1  마  1  85\n",
      "2  다  1  80\n",
      "3  라  2  95\n",
      "4  가  2  90\n",
      "   반 이름  점수\n",
      "0  1  나  85\n",
      "1  1  마  85\n",
      "2  1  다  80\n",
      "3  2  라  95\n",
      "4  2  가  90\n"
     ]
    }
   ],
   "source": [
    "df = pd.DataFrame({\n",
    "'이름': ['가', '나', '다', '라', '마'],\n",
    "'반': [2, 1, 1, 2, 1],\n",
    "'점수': [90, 85, 80, 95, 85]\n",
    "})\n",
    "df_sort=df.sort_values([\"반\",\"점수\"],\n",
    "                   ascending=[True,False]).reset_index(drop=True)\n",
    "print(df_sort)\n",
    "df_sort_re=df_sort.sort_index(axis=1)\n",
    "print(df_sort_re)"
   ]
  },
  {
   "cell_type": "markdown",
   "id": "ba107c8a",
   "metadata": {},
   "source": [
    "5. 인덱스 기준으로 오름차순 정렬한 결과를 출력하세요.\n",
    "6. 인덱스 기준 내림차순 정렬, value 컬럼 기준 오름차순 정렬 두 가지 정렬 결과를 각각 출력하\n",
    "세요.\n"
   ]
  },
  {
   "cell_type": "code",
   "execution_count": 42,
   "id": "aec740fe",
   "metadata": {},
   "outputs": [
    {
     "name": "stdout",
     "output_type": "stream",
     "text": [
      "   value\n",
      "1     20\n",
      "2     40\n",
      "3     10\n",
      "4     30 \n",
      "\n",
      "   value\n",
      "4     30\n",
      "3     10\n",
      "2     40\n",
      "1     20\n",
      "   value\n",
      "0     10\n",
      "1     20\n",
      "2     30\n",
      "3     40\n"
     ]
    }
   ],
   "source": [
    "df = pd.DataFrame({\n",
    "'value': [10, 20, 30, 40]\n",
    "}, index=[3, 1, 4, 2])\n",
    "\n",
    "df_asc=df.sort_index()\n",
    "print(df_asc,\"\\n\")\n",
    "\n",
    "df_dsc=df.sort_index(ascending=False)\n",
    "print(df_dsc)\n",
    "\n",
    "df_vasc=df.sort_values(by=\"value\").reset_index(drop=True)\n",
    "print(df_vasc)"
   ]
  },
  {
   "cell_type": "markdown",
   "id": "ea7cf5e3",
   "metadata": {},
   "source": [
    "# groupby"
   ]
  },
  {
   "cell_type": "markdown",
   "id": "70164dca",
   "metadata": {},
   "source": [
    "집계를 만들어서 통계를 낼때 주로 사용"
   ]
  },
  {
   "cell_type": "code",
   "execution_count": 43,
   "id": "e80a707b",
   "metadata": {},
   "outputs": [],
   "source": [
    "df = pd.DataFrame({\n",
    "    'team': ['A', 'A', 'B', 'B', 'B', 'C'],\n",
    "    'name': ['Kim', 'Lee', 'Park', 'Choi', 'Jung', 'Han'],\n",
    "    'score': [90, 85, 80, 70, 95, 88]\n",
    "})"
   ]
  },
  {
   "cell_type": "code",
   "execution_count": 59,
   "id": "c5f91c3f",
   "metadata": {},
   "outputs": [
    {
     "name": "stdout",
     "output_type": "stream",
     "text": [
      " 각 team 별로 score 합계가 보고싶어.\n",
      "team\n",
      "A    175\n",
      "B    245\n",
      "C     88\n",
      "Name: score, dtype: int64\n",
      "\n",
      " 각 team 별로 score의 평균치가 보고싶어.\n",
      "team\n",
      "A    87.500000\n",
      "B    81.666667\n",
      "C    88.000000\n",
      "Name: score, dtype: float64\n",
      "\n",
      " 각 team 별로 score가 몇개인지 보고싶어.\n",
      "team\n",
      "A    2\n",
      "B    3\n",
      "C    1\n",
      "Name: score, dtype: int64\n"
     ]
    }
   ],
   "source": [
    "# 단일 컬럼 기준 그룹화\n",
    "grouped=df.groupby(\"team\")\n",
    "# 집계를 해줘야 한다\n",
    "\n",
    "# 그룹 별로 스코어의 총 합\n",
    "# A 팀의 스코어 총합: 175\n",
    "# B 팀의 스코어 총합: 245... \n",
    "print(\" 각 team 별로 score 합계가 보고싶어.\")\n",
    "result_sum=grouped[\"score\"].sum()\n",
    "print(result_sum)\n",
    "\n",
    "# 평균\n",
    "print(\"\\n\",\"각 team 별로 score의 평균치가 보고싶어.\")\n",
    "result_mean=grouped[\"score\"].mean()\n",
    "print(result_mean)\n",
    "\n",
    "# 객수\n",
    "print(\"\\n\",\"각 team 별로 score가 몇개인지 보고싶어.\")\n",
    "result_mean=grouped[\"score\"].count()\n",
    "print(result_mean)"
   ]
  },
  {
   "cell_type": "code",
   "execution_count": null,
   "id": "630ecbfc",
   "metadata": {},
   "outputs": [],
   "source": []
  },
  {
   "cell_type": "markdown",
   "id": "40184767",
   "metadata": {},
   "source": [
    "여러 컬럼 기준 그룹화"
   ]
  },
  {
   "cell_type": "code",
   "execution_count": 83,
   "id": "519988a6",
   "metadata": {},
   "outputs": [],
   "source": [
    "df2 = pd.DataFrame({\n",
    "    'team': ['A', 'A', 'B', 'B', 'B', 'C'],\n",
    "    'gender': ['M', 'F', 'F', 'M', 'M', 'F'],\n",
    "    'score': [90, 85, 80, 70, 95, 88],\n",
    "    'age':[20,20,30,30,50,60]\n",
    "})"
   ]
  },
  {
   "cell_type": "code",
   "execution_count": 74,
   "id": "2f6cf828",
   "metadata": {},
   "outputs": [
    {
     "data": {
      "text/plain": [
       "team  gender\n",
       "A     F         85.0\n",
       "      M         90.0\n",
       "B     F         80.0\n",
       "      M         82.5\n",
       "C     F         88.0\n",
       "Name: score, dtype: float64"
      ]
     },
     "execution_count": 74,
     "metadata": {},
     "output_type": "execute_result"
    }
   ],
   "source": [
    "result = df2.groupby([\"team\", \"gender\"])[\"score\"].mean()\n",
    "result"
   ]
  },
  {
   "cell_type": "code",
   "execution_count": 77,
   "id": "26c4e160",
   "metadata": {},
   "outputs": [
    {
     "data": {
      "text/html": [
       "<div>\n",
       "<style scoped>\n",
       "    .dataframe tbody tr th:only-of-type {\n",
       "        vertical-align: middle;\n",
       "    }\n",
       "\n",
       "    .dataframe tbody tr th {\n",
       "        vertical-align: top;\n",
       "    }\n",
       "\n",
       "    .dataframe thead th {\n",
       "        text-align: right;\n",
       "    }\n",
       "</style>\n",
       "<table border=\"1\" class=\"dataframe\">\n",
       "  <thead>\n",
       "    <tr style=\"text-align: right;\">\n",
       "      <th></th>\n",
       "      <th>team</th>\n",
       "      <th>score</th>\n",
       "    </tr>\n",
       "  </thead>\n",
       "  <tbody>\n",
       "    <tr>\n",
       "      <th>0</th>\n",
       "      <td>A</td>\n",
       "      <td>175</td>\n",
       "    </tr>\n",
       "    <tr>\n",
       "      <th>1</th>\n",
       "      <td>B</td>\n",
       "      <td>245</td>\n",
       "    </tr>\n",
       "    <tr>\n",
       "      <th>2</th>\n",
       "      <td>C</td>\n",
       "      <td>88</td>\n",
       "    </tr>\n",
       "  </tbody>\n",
       "</table>\n",
       "</div>"
      ],
      "text/plain": [
       "  team  score\n",
       "0    A    175\n",
       "1    B    245\n",
       "2    C     88"
      ]
     },
     "execution_count": 77,
     "metadata": {},
     "output_type": "execute_result"
    }
   ],
   "source": [
    "result = df2.groupby([\"team\"], as_index=False)[\"score\"].sum()\n",
    "result\n",
    "# 그룹키가 인덱스로 설정된다."
   ]
  },
  {
   "cell_type": "code",
   "execution_count": 79,
   "id": "54e96d22",
   "metadata": {},
   "outputs": [
    {
     "data": {
      "text/html": [
       "<div>\n",
       "<style scoped>\n",
       "    .dataframe tbody tr th:only-of-type {\n",
       "        vertical-align: middle;\n",
       "    }\n",
       "\n",
       "    .dataframe tbody tr th {\n",
       "        vertical-align: top;\n",
       "    }\n",
       "\n",
       "    .dataframe thead th {\n",
       "        text-align: right;\n",
       "    }\n",
       "</style>\n",
       "<table border=\"1\" class=\"dataframe\">\n",
       "  <thead>\n",
       "    <tr style=\"text-align: right;\">\n",
       "      <th></th>\n",
       "      <th>team</th>\n",
       "      <th>sum</th>\n",
       "      <th>mean</th>\n",
       "      <th>count</th>\n",
       "    </tr>\n",
       "  </thead>\n",
       "  <tbody>\n",
       "    <tr>\n",
       "      <th>0</th>\n",
       "      <td>A</td>\n",
       "      <td>175</td>\n",
       "      <td>87.500000</td>\n",
       "      <td>2</td>\n",
       "    </tr>\n",
       "    <tr>\n",
       "      <th>1</th>\n",
       "      <td>B</td>\n",
       "      <td>245</td>\n",
       "      <td>81.666667</td>\n",
       "      <td>3</td>\n",
       "    </tr>\n",
       "    <tr>\n",
       "      <th>2</th>\n",
       "      <td>C</td>\n",
       "      <td>88</td>\n",
       "      <td>88.000000</td>\n",
       "      <td>1</td>\n",
       "    </tr>\n",
       "  </tbody>\n",
       "</table>\n",
       "</div>"
      ],
      "text/plain": [
       "  team  sum       mean  count\n",
       "0    A  175  87.500000      2\n",
       "1    B  245  81.666667      3\n",
       "2    C   88  88.000000      1"
      ]
     },
     "execution_count": 79,
     "metadata": {},
     "output_type": "execute_result"
    }
   ],
   "source": [
    "result = df2.groupby([\"team\"], as_index=False)[\"score\"].agg([\"sum\",\"mean\",\"count\"])\n",
    "result # 몽땅 넣어"
   ]
  },
  {
   "cell_type": "code",
   "execution_count": 86,
   "id": "c12a8e55",
   "metadata": {},
   "outputs": [
    {
     "data": {
      "text/html": [
       "<div>\n",
       "<style scoped>\n",
       "    .dataframe tbody tr th:only-of-type {\n",
       "        vertical-align: middle;\n",
       "    }\n",
       "\n",
       "    .dataframe tbody tr th {\n",
       "        vertical-align: top;\n",
       "    }\n",
       "\n",
       "    .dataframe thead th {\n",
       "        text-align: right;\n",
       "    }\n",
       "</style>\n",
       "<table border=\"1\" class=\"dataframe\">\n",
       "  <thead>\n",
       "    <tr style=\"text-align: right;\">\n",
       "      <th></th>\n",
       "      <th>score</th>\n",
       "      <th>age</th>\n",
       "    </tr>\n",
       "    <tr>\n",
       "      <th>team</th>\n",
       "      <th></th>\n",
       "      <th></th>\n",
       "    </tr>\n",
       "  </thead>\n",
       "  <tbody>\n",
       "    <tr>\n",
       "      <th>A</th>\n",
       "      <td>87.500000</td>\n",
       "      <td>20</td>\n",
       "    </tr>\n",
       "    <tr>\n",
       "      <th>B</th>\n",
       "      <td>81.666667</td>\n",
       "      <td>50</td>\n",
       "    </tr>\n",
       "    <tr>\n",
       "      <th>C</th>\n",
       "      <td>88.000000</td>\n",
       "      <td>60</td>\n",
       "    </tr>\n",
       "  </tbody>\n",
       "</table>\n",
       "</div>"
      ],
      "text/plain": [
       "          score  age\n",
       "team                \n",
       "A     87.500000   20\n",
       "B     81.666667   50\n",
       "C     88.000000   60"
      ]
     },
     "execution_count": 86,
     "metadata": {},
     "output_type": "execute_result"
    }
   ],
   "source": [
    "result=df2.groupby(\"team\").agg({\n",
    "    \"score\":\"mean\",\n",
    "    \"age\":\"max\"\n",
    "})\n",
    "\n",
    "result # 그룹별 여러 컬럼에 다른 집계 함수 적용"
   ]
  },
  {
   "cell_type": "markdown",
   "id": "d33a9449",
   "metadata": {},
   "source": [
    "1. 각 학년(grade)별 평균 국어 점수(kor)를 구하세요."
   ]
  },
  {
   "cell_type": "code",
   "execution_count": 115,
   "id": "774d688a",
   "metadata": {},
   "outputs": [
    {
     "data": {
      "text/plain": [
       "grade\n",
       "1    85.0\n",
       "2    85.0\n",
       "3    75.0\n",
       "Name: kor, dtype: float64"
      ]
     },
     "execution_count": 115,
     "metadata": {},
     "output_type": "execute_result"
    }
   ],
   "source": [
    "df = pd.DataFrame({\n",
    "'grade': [1, 2, 1, 2, 1, 3],\n",
    "'name': ['Kim', 'Lee', 'Park', 'Choi', 'Jung', 'Han'],\n",
    "'kor': [85, 78, 90, 92, 80, 75]\n",
    "})\n",
    "\n",
    "result=df.groupby([\"grade\"])[\"kor\"].mean()\n",
    "result"
   ]
  },
  {
   "cell_type": "markdown",
   "id": "a0220a8f",
   "metadata": {},
   "source": [
    "2. 아래 DataFrame에서 반(class)별, 과목(subject)별로 시험에 응시한 학생 수(count)와 평\n",
    "균 점수(avg)를 구하세요."
   ]
  },
  {
   "cell_type": "code",
   "execution_count": 120,
   "id": "eb92bf70",
   "metadata": {},
   "outputs": [
    {
     "data": {
      "text/html": [
       "<div>\n",
       "<style scoped>\n",
       "    .dataframe tbody tr th:only-of-type {\n",
       "        vertical-align: middle;\n",
       "    }\n",
       "\n",
       "    .dataframe tbody tr th {\n",
       "        vertical-align: top;\n",
       "    }\n",
       "\n",
       "    .dataframe thead th {\n",
       "        text-align: right;\n",
       "    }\n",
       "</style>\n",
       "<table border=\"1\" class=\"dataframe\">\n",
       "  <thead>\n",
       "    <tr style=\"text-align: right;\">\n",
       "      <th></th>\n",
       "      <th>class</th>\n",
       "      <th>subject</th>\n",
       "      <th>count</th>\n",
       "      <th>avg</th>\n",
       "    </tr>\n",
       "  </thead>\n",
       "  <tbody>\n",
       "    <tr>\n",
       "      <th>0</th>\n",
       "      <td>1</td>\n",
       "      <td>Eng</td>\n",
       "      <td>1</td>\n",
       "      <td>85.0</td>\n",
       "    </tr>\n",
       "    <tr>\n",
       "      <th>1</th>\n",
       "      <td>1</td>\n",
       "      <td>Math</td>\n",
       "      <td>2</td>\n",
       "      <td>85.0</td>\n",
       "    </tr>\n",
       "    <tr>\n",
       "      <th>2</th>\n",
       "      <td>2</td>\n",
       "      <td>Eng</td>\n",
       "      <td>2</td>\n",
       "      <td>92.5</td>\n",
       "    </tr>\n",
       "    <tr>\n",
       "      <th>3</th>\n",
       "      <td>2</td>\n",
       "      <td>Math</td>\n",
       "      <td>1</td>\n",
       "      <td>70.0</td>\n",
       "    </tr>\n",
       "  </tbody>\n",
       "</table>\n",
       "</div>"
      ],
      "text/plain": [
       "   class subject  count   avg\n",
       "0      1     Eng      1  85.0\n",
       "1      1    Math      2  85.0\n",
       "2      2     Eng      2  92.5\n",
       "3      2    Math      1  70.0"
      ]
     },
     "execution_count": 120,
     "metadata": {},
     "output_type": "execute_result"
    }
   ],
   "source": [
    "df = pd.DataFrame({\n",
    "    'class': [1, 1, 1, 2, 2, 2],\n",
    "    'subject': ['Math', 'Math', 'Eng', 'Math', 'Eng', 'Eng'],\n",
    "    'score': [80, 90, 85, 70, 95, 90]\n",
    "})\n",
    "\n",
    "result = df.groupby(['class', 'subject']).agg(\n",
    "    count=('score', 'count'),\n",
    "    avg=('score', 'mean')\n",
    ").reset_index()\n",
    "\n",
    "result\n"
   ]
  },
  {
   "cell_type": "markdown",
   "id": "1b254739",
   "metadata": {},
   "source": [
    "3. 아래 DataFrame에서 지역(region)별 판매자(seller)별로 판매액(sales)의 합계와 최대값\n",
    "을 구하세요."
   ]
  },
  {
   "cell_type": "code",
   "execution_count": 119,
   "id": "a43dddc5",
   "metadata": {},
   "outputs": [
    {
     "data": {
      "text/plain": [
       "region  seller\n",
       "Busan   A         150\n",
       "        B         120\n",
       "Daegu   A         130\n",
       "Seoul   A         100\n",
       "        B         200\n",
       "Name: sales, dtype: int64"
      ]
     },
     "execution_count": 119,
     "metadata": {},
     "output_type": "execute_result"
    }
   ],
   "source": [
    "df = pd.DataFrame({\n",
    "'region': ['Seoul', 'Seoul', 'Busan', 'Busan', 'Daegu'],\n",
    "'seller': ['A', 'B', 'A', 'B', 'A'],\n",
    "'sales': [100, 200, 150, 120, 130]\n",
    "})\n",
    "\n",
    "result=df.groupby([\"region\",\"seller\"])[\"sales\"].agg(\"sum\",\"max\")\n",
    "result"
   ]
  },
  {
   "cell_type": "markdown",
   "id": "4e06c8e7",
   "metadata": {},
   "source": [
    "4. 아래 DataFrame에서 팀(team)별, 포지션(position)별로 결측치(NaN)를 포함한 점수\n",
    "(score)의 평균을 구하세요."
   ]
  },
  {
   "cell_type": "code",
   "execution_count": 125,
   "id": "e97f60d4",
   "metadata": {},
   "outputs": [
    {
     "data": {
      "text/html": [
       "<div>\n",
       "<style scoped>\n",
       "    .dataframe tbody tr th:only-of-type {\n",
       "        vertical-align: middle;\n",
       "    }\n",
       "\n",
       "    .dataframe tbody tr th {\n",
       "        vertical-align: top;\n",
       "    }\n",
       "\n",
       "    .dataframe thead th {\n",
       "        text-align: right;\n",
       "    }\n",
       "</style>\n",
       "<table border=\"1\" class=\"dataframe\">\n",
       "  <thead>\n",
       "    <tr style=\"text-align: right;\">\n",
       "      <th></th>\n",
       "      <th>team</th>\n",
       "      <th>position</th>\n",
       "      <th>score</th>\n",
       "    </tr>\n",
       "  </thead>\n",
       "  <tbody>\n",
       "    <tr>\n",
       "      <th>0</th>\n",
       "      <td>A</td>\n",
       "      <td>DF</td>\n",
       "      <td>3.0</td>\n",
       "    </tr>\n",
       "    <tr>\n",
       "      <th>1</th>\n",
       "      <td>A</td>\n",
       "      <td>FW</td>\n",
       "      <td>3.0</td>\n",
       "    </tr>\n",
       "    <tr>\n",
       "      <th>2</th>\n",
       "      <td>B</td>\n",
       "      <td>DF</td>\n",
       "      <td>1.0</td>\n",
       "    </tr>\n",
       "    <tr>\n",
       "      <th>3</th>\n",
       "      <td>B</td>\n",
       "      <td>FW</td>\n",
       "      <td>2.0</td>\n",
       "    </tr>\n",
       "  </tbody>\n",
       "</table>\n",
       "</div>"
      ],
      "text/plain": [
       "  team position  score\n",
       "0    A       DF    3.0\n",
       "1    A       FW    3.0\n",
       "2    B       DF    1.0\n",
       "3    B       FW    2.0"
      ]
     },
     "execution_count": 125,
     "metadata": {},
     "output_type": "execute_result"
    }
   ],
   "source": [
    "df = pd.DataFrame({\n",
    "'team': ['A', 'A', 'B', 'B', 'A', 'B'],\n",
    "'position': ['FW', 'DF', 'FW', 'DF', 'DF', 'FW'],\n",
    "'score': [3, 2, None, 1, 4, 2]\n",
    "})\n",
    "\n",
    "result=df.groupby([\"team\",\"position\"])[\"score\"].mean()\n",
    "result.reset_index()"
   ]
  },
  {
   "cell_type": "markdown",
   "id": "9ae3c1a5",
   "metadata": {},
   "source": [
    "5. 아래 DataFrame에서 부서(dept)별로 성별(gender)별 인원 수와, 총 연봉(salary) 합계를\n",
    "구하세요"
   ]
  },
  {
   "cell_type": "code",
   "execution_count": 133,
   "id": "e3b6d3b9",
   "metadata": {},
   "outputs": [
    {
     "data": {
      "text/html": [
       "<div>\n",
       "<style scoped>\n",
       "    .dataframe tbody tr th:only-of-type {\n",
       "        vertical-align: middle;\n",
       "    }\n",
       "\n",
       "    .dataframe tbody tr th {\n",
       "        vertical-align: top;\n",
       "    }\n",
       "\n",
       "    .dataframe thead th {\n",
       "        text-align: right;\n",
       "    }\n",
       "</style>\n",
       "<table border=\"1\" class=\"dataframe\">\n",
       "  <thead>\n",
       "    <tr style=\"text-align: right;\">\n",
       "      <th></th>\n",
       "      <th></th>\n",
       "      <th>count</th>\n",
       "      <th>total_salary</th>\n",
       "    </tr>\n",
       "    <tr>\n",
       "      <th>dept</th>\n",
       "      <th>gender</th>\n",
       "      <th></th>\n",
       "      <th></th>\n",
       "    </tr>\n",
       "  </thead>\n",
       "  <tbody>\n",
       "    <tr>\n",
       "      <th rowspan=\"2\" valign=\"top\">HR</th>\n",
       "      <th>F</th>\n",
       "      <td>1</td>\n",
       "      <td>3200</td>\n",
       "    </tr>\n",
       "    <tr>\n",
       "      <th>M</th>\n",
       "      <td>1</td>\n",
       "      <td>3500</td>\n",
       "    </tr>\n",
       "    <tr>\n",
       "      <th rowspan=\"2\" valign=\"top\">IT</th>\n",
       "      <th>F</th>\n",
       "      <td>1</td>\n",
       "      <td>4000</td>\n",
       "    </tr>\n",
       "    <tr>\n",
       "      <th>M</th>\n",
       "      <td>1</td>\n",
       "      <td>4200</td>\n",
       "    </tr>\n",
       "    <tr>\n",
       "      <th>Sales</th>\n",
       "      <th>F</th>\n",
       "      <td>2</td>\n",
       "      <td>6100</td>\n",
       "    </tr>\n",
       "  </tbody>\n",
       "</table>\n",
       "</div>"
      ],
      "text/plain": [
       "              count  total_salary\n",
       "dept  gender                     \n",
       "HR    F           1          3200\n",
       "      M           1          3500\n",
       "IT    F           1          4000\n",
       "      M           1          4200\n",
       "Sales F           2          6100"
      ]
     },
     "execution_count": 133,
     "metadata": {},
     "output_type": "execute_result"
    }
   ],
   "source": [
    "df = pd.DataFrame({\n",
    "'dept': ['HR', 'HR', 'IT', 'IT', 'Sales', 'Sales'],\n",
    "'gender': ['M', 'F', 'F', 'M', 'F', 'F'],\n",
    "'salary': [3500, 3200, 4000, 4200, 3000, 3100]\n",
    "})\n",
    "\n",
    "# result=df.groupby([\"dept\",\"gender\"])[\"salary\"].agg([\"count\",\"sum\"])\n",
    "\n",
    "result=df.groupby([\"dept\",\"gender\"]).agg(\n",
    "    count=(\"salary\",\"count\"),\n",
    "    total_salary=(\"salary\",\"sum\") # 컬럼명 지정\n",
    "    )\n",
    "result"
   ]
  },
  {
   "cell_type": "code",
   "execution_count": null,
   "id": "3de6290c",
   "metadata": {},
   "outputs": [],
   "source": []
  },
  {
   "cell_type": "code",
   "execution_count": null,
   "id": "c19c39d4",
   "metadata": {},
   "outputs": [],
   "source": []
  },
  {
   "cell_type": "code",
   "execution_count": null,
   "id": "32eb5278",
   "metadata": {},
   "outputs": [],
   "source": []
  }
 ],
 "metadata": {
  "kernelspec": {
   "display_name": "data_analysis",
   "language": "python",
   "name": "python3"
  },
  "language_info": {
   "codemirror_mode": {
    "name": "ipython",
    "version": 3
   },
   "file_extension": ".py",
   "mimetype": "text/x-python",
   "name": "python",
   "nbconvert_exporter": "python",
   "pygments_lexer": "ipython3",
   "version": "3.13.5"
  }
 },
 "nbformat": 4,
 "nbformat_minor": 5
}
