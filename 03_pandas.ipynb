{
 "cells": [
  {
   "cell_type": "markdown",
   "id": "c557a710",
   "metadata": {},
   "source": [
    "# 판다스\n",
    "- 데이터 분석 및 조작 라이브러리"
   ]
  },
  {
   "cell_type": "code",
   "execution_count": 1,
   "id": "9083d7e4",
   "metadata": {},
   "outputs": [
    {
     "name": "stdout",
     "output_type": "stream",
     "text": [
      "wtf!\n"
     ]
    }
   ],
   "source": [
    "print(\"wtf!\")"
   ]
  },
  {
   "cell_type": "code",
   "execution_count": 5,
   "id": "64fde40b",
   "metadata": {},
   "outputs": [
    {
     "name": "stdout",
     "output_type": "stream",
     "text": [
      "2.3.1\n",
      "<ufunc 'expm1'>\n"
     ]
    }
   ],
   "source": [
    "import pandas as pd\n",
    "import numpy as np\n",
    "\n",
    "print(pd.__version__)\n",
    "print(np.expm1x)"
   ]
  },
  {
   "cell_type": "code",
   "execution_count": 3,
   "id": "39c64b71",
   "metadata": {},
   "outputs": [
    {
     "name": "stdout",
     "output_type": "stream",
     "text": [
      "2.3.1\n"
     ]
    }
   ],
   "source": [
    "print(pd.__version__)"
   ]
  },
  {
   "cell_type": "code",
   "execution_count": 11,
   "id": "c5d951ab",
   "metadata": {},
   "outputs": [
    {
     "name": "stdout",
     "output_type": "stream",
     "text": [
      "판다스의 시리즈\n",
      "0    10\n",
      "1    20\n",
      "2    30\n",
      "3    40\n",
      "4    50\n",
      "dtype: int64\n",
      "인덱스 커스텀\n",
      "a    10\n",
      "b    20\n",
      "c    30\n",
      "d    40\n",
      "dtype: int64\n",
      "딕셔너리로 생성\n",
      "서울    100\n",
      "부산    200\n",
      "대구    300\n",
      "dtype: int64\n"
     ]
    }
   ],
   "source": [
    "# 핵심 자료구조 시리즈와 데이터프레임\n",
    "# 판다스의 인덱스는 라벨?\n",
    "# 시리즈: 라벨이 붙은 1차원 배열\n",
    "# 라벨 이름을 직접 지정가능\n",
    "\n",
    "print(\"판다스의 시리즈\")\n",
    "data=[10,20,30,40,50]\n",
    "s=pd.Series(data)\n",
    "print(s)\n",
    "\n",
    "print(\"인덱스 커스텀\")\n",
    "data=[10,20,30,40]\n",
    "s=pd.Series(data,index=[\"a\",\"b\",\"c\",\"d\"])\n",
    "print(s)\n",
    "\n",
    "print(\"딕셔너리로 생성\")\n",
    "data={\"서울\":100,\"부산\":200,\"대구\":300}\n",
    "s=pd.Series(data)\n",
    "print(s)"
   ]
  },
  {
   "cell_type": "code",
   "execution_count": 18,
   "id": "d4b24bb2",
   "metadata": {},
   "outputs": [
    {
     "name": "stdout",
     "output_type": "stream",
     "text": [
      "판다스 시리즈의 속성\n",
      "values: [10 20 30 40]\n",
      "Index(['a', 'b', 'c', 'd'], dtype='object')\n",
      "dtype: int64\n",
      "size: 4\n",
      "shape: (4,)\n",
      "name: None\n"
     ]
    }
   ],
   "source": [
    "print(\"판다스 시리즈의 속성\")\n",
    "data=[10,20,30,40]\n",
    "s=pd.Series(data,index=[\"a\",\"b\",\"c\",\"d\"])\n",
    "print(\"values:\",s.values)\n",
    "print(s.index) # 인덱스도 하나의 데이터를 가지고 있다.\n",
    "print(\"dtype:\",s.dtype)\n",
    "print(\"size:\",s.size)\n",
    "print(\"shape:\",s.shape)\n",
    "print(\"name:\",s.name)"
   ]
  },
  {
   "cell_type": "code",
   "execution_count": 24,
   "id": "a4ef1799",
   "metadata": {},
   "outputs": [
    {
     "name": "stdout",
     "output_type": "stream",
     "text": [
      "a     NaN\n",
      "b    25.0\n",
      "c    36.0\n",
      "d     NaN\n",
      "dtype: float64\n",
      "\n",
      "겹치는 인덱스는 b와 c,\n",
      "인덱스가 같은 b와c끼리만 더했고\n",
      "겹치지않는 a,d는 연산불가로 Nan을 반환\n"
     ]
    }
   ],
   "source": [
    "# 시리즈의 연산\n",
    "s1=pd.Series([10,20,30],index=[\"a\",\"b\",\"c\"])\n",
    "s2=pd.Series([5,6,7],index=[\"b\",\"c\",\"d\"])\n",
    "\n",
    "print(s1+s2)\n",
    "print(\"\\n겹치는 인덱스는 b와 c,\\n인덱스가 같은 b와c끼리만 더했고\\n겹치지않는 a,d는 연산불가로 Nan을 반환\")"
   ]
  },
  {
   "cell_type": "code",
   "execution_count": null,
   "id": "3c8a0282",
   "metadata": {},
   "outputs": [],
   "source": []
  }
 ],
 "metadata": {
  "kernelspec": {
   "display_name": "data_analysis",
   "language": "python",
   "name": "python3"
  },
  "language_info": {
   "codemirror_mode": {
    "name": "ipython",
    "version": 3
   },
   "file_extension": ".py",
   "mimetype": "text/x-python",
   "name": "python",
   "nbconvert_exporter": "python",
   "pygments_lexer": "ipython3",
   "version": "3.13.5"
  }
 },
 "nbformat": 4,
 "nbformat_minor": 5
}
