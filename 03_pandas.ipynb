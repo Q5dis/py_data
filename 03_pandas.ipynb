{
 "cells": [
  {
   "cell_type": "markdown",
   "id": "c557a710",
   "metadata": {},
   "source": [
    "# 판다스\n",
    "- 데이터 분석 및 조작 라이브러리"
   ]
  },
  {
   "cell_type": "code",
   "execution_count": 1,
   "id": "9083d7e4",
   "metadata": {},
   "outputs": [
    {
     "name": "stdout",
     "output_type": "stream",
     "text": [
      "wtf!\n"
     ]
    }
   ],
   "source": [
    "print(\"wtf!\")"
   ]
  },
  {
   "cell_type": "code",
   "execution_count": 5,
   "id": "64fde40b",
   "metadata": {},
   "outputs": [
    {
     "name": "stdout",
     "output_type": "stream",
     "text": [
      "2.3.1\n",
      "<ufunc 'expm1'>\n"
     ]
    }
   ],
   "source": [
    "import pandas as pd\n",
    "import numpy as np\n",
    "\n",
    "print(pd.__version__)\n",
    "print(np.expm1x)"
   ]
  },
  {
   "cell_type": "code",
   "execution_count": 3,
   "id": "39c64b71",
   "metadata": {},
   "outputs": [
    {
     "name": "stdout",
     "output_type": "stream",
     "text": [
      "2.3.1\n"
     ]
    }
   ],
   "source": [
    "print(pd.__version__)"
   ]
  },
  {
   "cell_type": "code",
   "execution_count": 11,
   "id": "c5d951ab",
   "metadata": {},
   "outputs": [
    {
     "name": "stdout",
     "output_type": "stream",
     "text": [
      "판다스의 시리즈\n",
      "0    10\n",
      "1    20\n",
      "2    30\n",
      "3    40\n",
      "4    50\n",
      "dtype: int64\n",
      "인덱스 커스텀\n",
      "a    10\n",
      "b    20\n",
      "c    30\n",
      "d    40\n",
      "dtype: int64\n",
      "딕셔너리로 생성\n",
      "서울    100\n",
      "부산    200\n",
      "대구    300\n",
      "dtype: int64\n"
     ]
    }
   ],
   "source": [
    "# 핵심 자료구조 시리즈와 데이터프레임\n",
    "# 판다스의 인덱스는 라벨?\n",
    "# 시리즈: 라벨이 붙은 1차원 배열\n",
    "# 라벨 이름을 직접 지정가능\n",
    "\n",
    "print(\"판다스의 시리즈\")\n",
    "data=[10,20,30,40,50]\n",
    "s=pd.Series(data)\n",
    "print(s)\n",
    "\n",
    "print(\"인덱스 커스텀\")\n",
    "data=[10,20,30,40]\n",
    "s=pd.Series(data,index=[\"a\",\"b\",\"c\",\"d\"])\n",
    "print(s)\n",
    "\n",
    "print(\"딕셔너리로 생성\")\n",
    "data={\"서울\":100,\"부산\":200,\"대구\":300}\n",
    "s=pd.Series(data)\n",
    "print(s)"
   ]
  },
  {
   "cell_type": "code",
   "execution_count": 18,
   "id": "d4b24bb2",
   "metadata": {},
   "outputs": [
    {
     "name": "stdout",
     "output_type": "stream",
     "text": [
      "판다스 시리즈의 속성\n",
      "values: [10 20 30 40]\n",
      "Index(['a', 'b', 'c', 'd'], dtype='object')\n",
      "dtype: int64\n",
      "size: 4\n",
      "shape: (4,)\n",
      "name: None\n"
     ]
    }
   ],
   "source": [
    "print(\"판다스 시리즈의 속성\")\n",
    "data=[10,20,30,40]\n",
    "s=pd.Series(data,index=[\"a\",\"b\",\"c\",\"d\"])\n",
    "print(\"values:\",s.values)\n",
    "print(s.index) # 인덱스도 하나의 데이터를 가지고 있다.\n",
    "print(\"dtype:\",s.dtype)\n",
    "print(\"size:\",s.size)\n",
    "print(\"shape:\",s.shape)\n",
    "print(\"name:\",s.name)"
   ]
  },
  {
   "cell_type": "code",
   "execution_count": 24,
   "id": "a4ef1799",
   "metadata": {},
   "outputs": [
    {
     "name": "stdout",
     "output_type": "stream",
     "text": [
      "a     NaN\n",
      "b    25.0\n",
      "c    36.0\n",
      "d     NaN\n",
      "dtype: float64\n",
      "\n",
      "겹치는 인덱스는 b와 c,\n",
      "인덱스가 같은 b와c끼리만 더했고\n",
      "겹치지않는 a,d는 연산불가로 Nan을 반환\n"
     ]
    }
   ],
   "source": [
    "# 시리즈의 연산\n",
    "s1=pd.Series([10,20,30],index=[\"a\",\"b\",\"c\"])\n",
    "s2=pd.Series([5,6,7],index=[\"b\",\"c\",\"d\"])\n",
    "\n",
    "print(s1+s2)\n",
    "print(\"\\n겹치는 인덱스는 b와 c,\\n인덱스가 같은 b와c끼리만 더했고\\n겹치지않는 a,d는 연산불가로 Nan을 반환\")"
   ]
  },
  {
   "cell_type": "code",
   "execution_count": 27,
   "id": "3c8a0282",
   "metadata": {},
   "outputs": [
    {
     "name": "stdout",
     "output_type": "stream",
     "text": [
      "a     NaN\n",
      "b    15.0\n",
      "c    36.0\n",
      "d     NaN\n",
      "dtype: float64\n",
      "\n",
      "정렬안된 인덱스도 알아서 정렬해줌\n"
     ]
    }
   ],
   "source": [
    "# 정렬안된 인덱스간 연산\n",
    "s1=pd.Series([10,20,30],index=[\"b\",\"a\",\"c\"])\n",
    "s2=pd.Series([5,6,7],index=[\"b\",\"c\",\"d\"])\n",
    "\n",
    "print(s1+s2)\n",
    "print(\"\\n정렬안된 인덱스도 알아서 정렬해줌\")"
   ]
  },
  {
   "cell_type": "code",
   "execution_count": 31,
   "id": "36e1fb8f",
   "metadata": {},
   "outputs": [
    {
     "name": "stdout",
     "output_type": "stream",
     "text": [
      "a     8\n",
      "b    13\n",
      "c    18\n",
      "dtype: int64\n",
      "a    20\n",
      "b    40\n",
      "c    60\n",
      "dtype: int64\n"
     ]
    }
   ],
   "source": [
    "# 브로드캐스팅\n",
    "s1=pd.Series([5,10,15],index=[\"a\",\"b\",\"c\"])\n",
    "print(s1+3)\n",
    "print(s1*4)"
   ]
  },
  {
   "cell_type": "code",
   "execution_count": 34,
   "id": "bc991087",
   "metadata": {},
   "outputs": [
    {
     "name": "stdout",
     "output_type": "stream",
     "text": [
      "a    False\n",
      "b    False\n",
      "c    False\n",
      "d     True\n",
      "e     True\n",
      "f     True\n",
      "dtype: bool\n",
      "d     80\n",
      "e     90\n",
      "f    100\n",
      "dtype: int64\n"
     ]
    }
   ],
   "source": [
    "# 불리언 인덱싱\n",
    "s=pd.Series([50,60,70,80,90,100],index=[\"a\",\"b\",\"c\",\"d\",\"e\",\"f\"])\n",
    "\n",
    "mask=s>70\n",
    "print(mask)\n",
    "print(s[mask])"
   ]
  },
  {
   "cell_type": "code",
   "execution_count": 41,
   "id": "12687cfb",
   "metadata": {},
   "outputs": [
    {
     "name": "stdout",
     "output_type": "stream",
     "text": [
      "넘파이 배열과도 연산가능\n",
      "a    11\n",
      "b    22\n",
      "c    33\n",
      "dtype: int64\n",
      "\n",
      "파이썬 리스트도 연산가능\n",
      "a    110\n",
      "b    220\n",
      "c    330\n",
      "dtype: int64\n"
     ]
    }
   ],
   "source": [
    "s=pd.Series([10,20,30],[\"a\",\"b\",\"c\"])\n",
    "a=np.array([1,2,3])\n",
    "print(\"넘파이 배열과도 연산가능\")\n",
    "print(s+a)\n",
    "i=[100,200,300]\n",
    "print(\"\\n파이썬 리스트도 연산가능\")\n",
    "print(s+i)"
   ]
  },
  {
   "cell_type": "code",
   "execution_count": 46,
   "id": "155ca089",
   "metadata": {},
   "outputs": [
    {
     "name": "stdout",
     "output_type": "stream",
     "text": [
      "int64 \n",
      "\n",
      "a     NaN\n",
      "b    15.0\n",
      "c    27.0\n",
      "d     NaN\n",
      "dtype: float64 \n",
      "\n",
      "0    11\n",
      "1    12\n",
      "2    13\n",
      "3    14\n",
      "4    15\n",
      "dtype: int64\n"
     ]
    }
   ],
   "source": [
    "#1\n",
    "a=pd.Series([1,2,3,4])\n",
    "print(a.dtype,\"\\n\")\n",
    "#2\n",
    "s1=pd.Series([3,5,7],index=['a','b','c'])\n",
    "s2=pd.Series([10,20,30],index=['b','c','d'])\n",
    "print(s1+s2,\"\\n\")\n",
    "#3\n",
    "a=pd.Series([1,2,3,4,5])\n",
    "a10=a+10\n",
    "print(a10)"
   ]
  },
  {
   "cell_type": "markdown",
   "id": "fcdc599f",
   "metadata": {},
   "source": [
    "# 데이터프레임"
   ]
  },
  {
   "cell_type": "code",
   "execution_count": 48,
   "id": "2509e726",
   "metadata": {},
   "outputs": [],
   "source": [
    "# 2차원 라벨 데이터 구조\n",
    "# 시리즈를 모아놓은 것\n",
    "# 행과 열에대해 라벨을 부여할 수 있다.\n"
   ]
  },
  {
   "cell_type": "code",
   "execution_count": 53,
   "id": "8faa7d7a",
   "metadata": {},
   "outputs": [
    {
     "name": "stdout",
     "output_type": "stream",
     "text": [
      "딕셔너리로 생성\n",
      "     name    naton   cidy\n",
      "0    anna   france  paris\n",
      "1  banana  america    NYC\n",
      "2  minion    japan  tokyo\n"
     ]
    }
   ],
   "source": [
    "print(\"딕셔너리로 생성\")\n",
    "data={\n",
    "    \"name\":[\"anna\",\"banana\",\"minion\"],\n",
    "    \"naton\":[\"france\",\"america\",\"japan\"],\n",
    "    \"cidy\":[\"paris\",\"NYC\",\"tokyo\"]\n",
    "}\n",
    "\n",
    "df=pd.DataFrame(data)\n",
    "print(df)"
   ]
  },
  {
   "cell_type": "code",
   "execution_count": null,
   "id": "5e81f901",
   "metadata": {},
   "outputs": [
    {
     "name": "stdout",
     "output_type": "stream",
     "text": [
      "   0  1\n",
      "0  1  a\n",
      "1  2  b\n",
      "2  3  c\n"
     ]
    }
   ],
   "source": [
    "# 리스트의 리스트로 생성\n",
    "data=[[1,\"a\"],[2,\"b\"],[3,\"c\"]]\n",
    "df=pd.DataFrame(data)\n",
    "print(df)\n"
   ]
  },
  {
   "cell_type": "code",
   "execution_count": 57,
   "id": "c33a380b",
   "metadata": {},
   "outputs": [
    {
     "name": "stdout",
     "output_type": "stream",
     "text": [
      "    name   age     city\n",
      "0   nana    11    seoul\n",
      "1   lulu    21    paris\n",
      "2  nasus  3600  shurima\n",
      "3  garen     4  demacia\n"
     ]
    }
   ],
   "source": [
    "data=[\n",
    "    {\"name\":\"nana\",\"age\":11,\"city\":\"seoul\"},\n",
    "    {\"name\":\"lulu\",\"age\":21,\"city\":\"paris\"},\n",
    "    {\"name\":\"nasus\",\"age\":3600,\"city\":\"shurima\"},\n",
    "    {\"name\":\"garen\",\"age\":4,\"city\":\"demacia\"}\n",
    "]\n",
    "\n",
    "df=pd.DataFrame(data)\n",
    "print(df)\n",
    "\n",
    "# 키가 컬럼, 값은 로우"
   ]
  },
  {
   "cell_type": "code",
   "execution_count": 62,
   "id": "4f87ed90",
   "metadata": {},
   "outputs": [
    {
     "name": "stdout",
     "output_type": "stream",
     "text": [
      "  과목   점수\n",
      "a  국  100\n",
      "b  수  200\n",
      "c  영  300\n"
     ]
    }
   ],
   "source": [
    "# 시리즈로 데이터프레임\n",
    "s=pd.Series([\"국\",\"수\",\"영\"],index=[\"a\",\"b\",\"c\"])\n",
    "d=pd.Series([100,200,300],index=[\"a\",\"b\",\"c\"])\n",
    "\n",
    "df=pd.DataFrame({\"과목\":s,\"점수\":d})\n",
    "print(df)"
   ]
  },
  {
   "cell_type": "code",
   "execution_count": 64,
   "id": "96ebcc69",
   "metadata": {},
   "outputs": [
    {
     "name": "stdout",
     "output_type": "stream",
     "text": [
      "shape: (4, 3)\n",
      "columns: Index(['name', 'age', 'city'], dtype='object')\n",
      "index: RangeIndex(start=0, stop=4, step=1)\n",
      "dtypes: name    object\n",
      "age      int64\n",
      "city    object\n",
      "dtype: object\n",
      "values [['nana' 11 'seoul']\n",
      " ['lulu' 21 'paris']\n",
      " ['nasus' 3600 'shurima']\n",
      " ['garen' 4 'demacia']]\n"
     ]
    }
   ],
   "source": [
    "data=[\n",
    "    {\"name\":\"nana\",\"age\":11,\"city\":\"seoul\"},\n",
    "    {\"name\":\"lulu\",\"age\":21,\"city\":\"paris\"},\n",
    "    {\"name\":\"nasus\",\"age\":3600,\"city\":\"shurima\"},\n",
    "    {\"name\":\"garen\",\"age\":4,\"city\":\"demacia\"}\n",
    "]\n",
    "\n",
    "df=pd.DataFrame(data)\n",
    "print(\"shape:\",df.shape)\n",
    "print(\"columns:\",df.columns)\n",
    "print(\"index:\",df.index)\n",
    "print(\"dtypes:\",df.dtypes)\n",
    "print(\"values\",df.values)"
   ]
  },
  {
   "cell_type": "markdown",
   "id": "ca7cc18e",
   "metadata": {},
   "source": [
    "1. 다음 데이터로 DataFrame을 생성하고, 컬럼명을 '이름', '나이', '도시'로 지정하세요.\n",
    "• [['홍길동', 28, '서울'], ['김철수', 33, '부산'], ['이영희', 25, '대구']]\n",
    "2. 아래와 같은 딕셔너리로 DataFrame을 생성하세요.\n",
    "• {'A': [1, 2, 3], 'B': [4, 5, 6]}\n",
    "3. 아래 데이터를 사용해 DataFrame을 만드세요.\n",
    "• [{'과목': '수학', '점수': 90}, {'과목': '영어', '점수': 85}, {'과목': '과학', '점수': 95}]\n",
    "4. 아래 데이터를 사용해 DataFrame을 생성하되, 인덱스를 ['학생1', '학생2', '학생3']으로 지정\n",
    "하세요.\n",
    "• {'이름': ['민수', '영희', '철수'], '점수': [80, 92, 77]}\n",
    "2025-08-06\n"
   ]
  },
  {
   "cell_type": "code",
   "execution_count": 80,
   "id": "2fb98e80",
   "metadata": {},
   "outputs": [
    {
     "name": "stdout",
     "output_type": "stream",
     "text": [
      "    이름  나이  도시\n",
      "0  홍길동  28  서울\n",
      "1  김철수  33  부산\n",
      "2  이영희  25  대구 \n",
      "\n",
      "   A  B\n",
      "0  1  4\n",
      "1  2  5\n",
      "2  3  6 \n",
      "\n",
      "   과목  점수\n",
      "0  수학  90\n",
      "1  영어  85\n",
      "2  과학  95 \n",
      "\n",
      "     이름  점수\n",
      "학생1  민수  80\n",
      "학생2  영희  92\n",
      "학생3  철수  77\n"
     ]
    }
   ],
   "source": [
    "#1\n",
    "a=[['홍길동', 28, '서울'], ['김철수', 33, '부산'], ['이영희', 25, '대구']]\n",
    "df=pd.DataFrame(a,columns=[\"이름\",\"나이\",\"도시\"])\n",
    "print(df,\"\\n\")\n",
    "#2\n",
    "a=({'A': [1, 2, 3], 'B': [4, 5, 6]})\n",
    "df=pd.DataFrame(a)\n",
    "print(df,\"\\n\")\n",
    "#3 리스트 안 딕셔너리\n",
    "a=[{'과목': '수학', '점수': 90}, {'과목': '영어', '점수': 85}, {'과목': '과학', '점수': 95}]\n",
    "df=pd.DataFrame(a)\n",
    "print(df,\"\\n\")\n",
    "#4 \n",
    "a={'이름': ['민수', '영희', '철수'], '점수': [80, 92, 77]}\n",
    "df=pd.DataFrame(a,index=[\"학생1\",\"학생2\",\"학생3\"])\n",
    "print(df)"
   ]
  },
  {
   "cell_type": "markdown",
   "id": "f87119d4",
   "metadata": {},
   "source": [
    "아래 Series 객체 2개를 이용해 DataFrame을 만드세요.\n",
    "•\n",
    "6. 아래 딕셔너리로 DataFrame을 만들고, 컬럼 순서를 ['B', 'A']로 지정해 출력하세요.\n",
    "• {'A': [1, 2], 'B': [3, 4]}\n",
    "7. 데이터를 DataFrame으로 만들고, 컬럼명을 ['product', 'price', 'stock']으로 변경하세요.\n",
    "• [['펜', 1000, 50], ['노트', 2000, 30]]\n",
    "8. 아래 DataFrame을 생성한 뒤, '국가' 컬럼만 추출하세요.\n",
    "• {'국가': ['한국', '일본', '미국'], '수도': ['서울', '도쿄', '워싱턴']}\n",
    "2025-08-06\n"
   ]
  },
  {
   "cell_type": "code",
   "execution_count": 97,
   "id": "3955cc6f",
   "metadata": {},
   "outputs": [
    {
     "name": "stdout",
     "output_type": "stream",
     "text": [
      "   한국어  영어\n",
      "a   90  95\n",
      "b   85  88\n",
      "c   80  82 \n",
      "\n",
      "   B  A\n",
      "0  3  1\n",
      "1  4  2 \n",
      "\n",
      "  product  price  stock\n",
      "0       펜   1000     50\n",
      "1      노트   2000     30 \n",
      "\n",
      "   국가   수도\n",
      "0  한국   서울\n",
      "1  일본   도쿄\n",
      "2  미국  워싱턴\n"
     ]
    },
    {
     "data": {
      "text/plain": [
       "0    한국\n",
       "1    일본\n",
       "2    미국\n",
       "Name: 국가, dtype: object"
      ]
     },
     "execution_count": 97,
     "metadata": {},
     "output_type": "execute_result"
    }
   ],
   "source": [
    "#5 \n",
    "kor = pd.Series([90, 85, 80], index=['a', 'b', 'c'])\n",
    "eng = pd.Series([95, 88, 82], index=['a', 'b', 'c'])\n",
    "data={\"한국어\":kor,\"영어\":eng}\n",
    "df=pd.DataFrame(data)\n",
    "print(df,\"\\n\")\n",
    "#6 콜름 순서를 명시적으로 바꾸었다\n",
    "data={'A': [1, 2], 'B': [3, 4]}\n",
    "df=pd.DataFrame(data,columns=[\"B\",\"A\"])\n",
    "print(df,\"\\n\")\n",
    "#7\n",
    "data=[['펜', 1000, 50], ['노트', 2000, 30]]\n",
    "df=pd.DataFrame(data,columns=[\"product\",\"price\",\"stock\"])\n",
    "print(df,\"\\n\")\n",
    "#8\n",
    "data={'국가': ['한국', '일본', '미국'], '수도': ['서울', '도쿄', '워싱턴']}\n",
    "df=pd.DataFrame(data)\n",
    "print(df)\n",
    "df[\"국가\"]"
   ]
  },
  {
   "cell_type": "code",
   "execution_count": 120,
   "id": "2135b3e2",
   "metadata": {},
   "outputs": [
    {
     "data": {
      "text/html": [
       "<div>\n",
       "<style scoped>\n",
       "    .dataframe tbody tr th:only-of-type {\n",
       "        vertical-align: middle;\n",
       "    }\n",
       "\n",
       "    .dataframe tbody tr th {\n",
       "        vertical-align: top;\n",
       "    }\n",
       "\n",
       "    .dataframe thead th {\n",
       "        text-align: right;\n",
       "    }\n",
       "</style>\n",
       "<table border=\"1\" class=\"dataframe\">\n",
       "  <thead>\n",
       "    <tr style=\"text-align: right;\">\n",
       "      <th></th>\n",
       "      <th>이름</th>\n",
       "      <th>나이</th>\n",
       "      <th>도시</th>\n",
       "    </tr>\n",
       "  </thead>\n",
       "  <tbody>\n",
       "    <tr>\n",
       "      <th>0</th>\n",
       "      <td>홍길동</td>\n",
       "      <td>28</td>\n",
       "      <td>서울</td>\n",
       "    </tr>\n",
       "    <tr>\n",
       "      <th>1</th>\n",
       "      <td>김철수</td>\n",
       "      <td>33</td>\n",
       "      <td>부산</td>\n",
       "    </tr>\n",
       "    <tr>\n",
       "      <th>2</th>\n",
       "      <td>이영희</td>\n",
       "      <td>25</td>\n",
       "      <td>서울</td>\n",
       "    </tr>\n",
       "  </tbody>\n",
       "</table>\n",
       "</div>"
      ],
      "text/plain": [
       "    이름  나이  도시\n",
       "0  홍길동  28  서울\n",
       "1  김철수  33  부산\n",
       "2  이영희  25  서울"
      ]
     },
     "execution_count": 120,
     "metadata": {},
     "output_type": "execute_result"
    }
   ],
   "source": [
    "a=[['홍길동', 28, '서울'], ['김철수', 33, '부산'], ['이영희', 25, '서울'],['김동동',19,'김천'],['정송송',40,'원주']]\n",
    "df=pd.DataFrame(a,columns=[\"이름\",\"나이\",\"도시\"])\n",
    "\n",
    "df.head()\n",
    "df.head(3) #앞에 3개만"
   ]
  },
  {
   "cell_type": "code",
   "execution_count": 121,
   "id": "0a8d11d9",
   "metadata": {},
   "outputs": [
    {
     "data": {
      "text/html": [
       "<div>\n",
       "<style scoped>\n",
       "    .dataframe tbody tr th:only-of-type {\n",
       "        vertical-align: middle;\n",
       "    }\n",
       "\n",
       "    .dataframe tbody tr th {\n",
       "        vertical-align: top;\n",
       "    }\n",
       "\n",
       "    .dataframe thead th {\n",
       "        text-align: right;\n",
       "    }\n",
       "</style>\n",
       "<table border=\"1\" class=\"dataframe\">\n",
       "  <thead>\n",
       "    <tr style=\"text-align: right;\">\n",
       "      <th></th>\n",
       "      <th>이름</th>\n",
       "      <th>나이</th>\n",
       "      <th>도시</th>\n",
       "    </tr>\n",
       "  </thead>\n",
       "  <tbody>\n",
       "    <tr>\n",
       "      <th>2</th>\n",
       "      <td>이영희</td>\n",
       "      <td>25</td>\n",
       "      <td>서울</td>\n",
       "    </tr>\n",
       "    <tr>\n",
       "      <th>3</th>\n",
       "      <td>김동동</td>\n",
       "      <td>19</td>\n",
       "      <td>김천</td>\n",
       "    </tr>\n",
       "    <tr>\n",
       "      <th>4</th>\n",
       "      <td>정송송</td>\n",
       "      <td>40</td>\n",
       "      <td>원주</td>\n",
       "    </tr>\n",
       "  </tbody>\n",
       "</table>\n",
       "</div>"
      ],
      "text/plain": [
       "    이름  나이  도시\n",
       "2  이영희  25  서울\n",
       "3  김동동  19  김천\n",
       "4  정송송  40  원주"
      ]
     },
     "execution_count": 121,
     "metadata": {},
     "output_type": "execute_result"
    }
   ],
   "source": [
    "df.tail()\n",
    "df.tail(3) #뒤에 3개만"
   ]
  },
  {
   "cell_type": "code",
   "execution_count": 122,
   "id": "6366c991",
   "metadata": {},
   "outputs": [
    {
     "name": "stdout",
     "output_type": "stream",
     "text": [
      "<class 'pandas.core.frame.DataFrame'>\n",
      "RangeIndex: 5 entries, 0 to 4\n",
      "Data columns (total 3 columns):\n",
      " #   Column  Non-Null Count  Dtype \n",
      "---  ------  --------------  ----- \n",
      " 0   이름      5 non-null      object\n",
      " 1   나이      5 non-null      int64 \n",
      " 2   도시      5 non-null      object\n",
      "dtypes: int64(1), object(2)\n",
      "memory usage: 252.0+ bytes\n"
     ]
    }
   ],
   "source": [
    "df.info() #정보 출력"
   ]
  },
  {
   "cell_type": "code",
   "execution_count": 124,
   "id": "1ce29bc9",
   "metadata": {},
   "outputs": [
    {
     "data": {
      "text/html": [
       "<div>\n",
       "<style scoped>\n",
       "    .dataframe tbody tr th:only-of-type {\n",
       "        vertical-align: middle;\n",
       "    }\n",
       "\n",
       "    .dataframe tbody tr th {\n",
       "        vertical-align: top;\n",
       "    }\n",
       "\n",
       "    .dataframe thead th {\n",
       "        text-align: right;\n",
       "    }\n",
       "</style>\n",
       "<table border=\"1\" class=\"dataframe\">\n",
       "  <thead>\n",
       "    <tr style=\"text-align: right;\">\n",
       "      <th></th>\n",
       "      <th>이름</th>\n",
       "      <th>나이</th>\n",
       "      <th>도시</th>\n",
       "    </tr>\n",
       "  </thead>\n",
       "  <tbody>\n",
       "    <tr>\n",
       "      <th>count</th>\n",
       "      <td>5</td>\n",
       "      <td>5.000000</td>\n",
       "      <td>5</td>\n",
       "    </tr>\n",
       "    <tr>\n",
       "      <th>unique</th>\n",
       "      <td>5</td>\n",
       "      <td>NaN</td>\n",
       "      <td>4</td>\n",
       "    </tr>\n",
       "    <tr>\n",
       "      <th>top</th>\n",
       "      <td>홍길동</td>\n",
       "      <td>NaN</td>\n",
       "      <td>서울</td>\n",
       "    </tr>\n",
       "    <tr>\n",
       "      <th>freq</th>\n",
       "      <td>1</td>\n",
       "      <td>NaN</td>\n",
       "      <td>2</td>\n",
       "    </tr>\n",
       "    <tr>\n",
       "      <th>mean</th>\n",
       "      <td>NaN</td>\n",
       "      <td>29.000000</td>\n",
       "      <td>NaN</td>\n",
       "    </tr>\n",
       "    <tr>\n",
       "      <th>std</th>\n",
       "      <td>NaN</td>\n",
       "      <td>7.968689</td>\n",
       "      <td>NaN</td>\n",
       "    </tr>\n",
       "    <tr>\n",
       "      <th>min</th>\n",
       "      <td>NaN</td>\n",
       "      <td>19.000000</td>\n",
       "      <td>NaN</td>\n",
       "    </tr>\n",
       "    <tr>\n",
       "      <th>25%</th>\n",
       "      <td>NaN</td>\n",
       "      <td>25.000000</td>\n",
       "      <td>NaN</td>\n",
       "    </tr>\n",
       "    <tr>\n",
       "      <th>50%</th>\n",
       "      <td>NaN</td>\n",
       "      <td>28.000000</td>\n",
       "      <td>NaN</td>\n",
       "    </tr>\n",
       "    <tr>\n",
       "      <th>75%</th>\n",
       "      <td>NaN</td>\n",
       "      <td>33.000000</td>\n",
       "      <td>NaN</td>\n",
       "    </tr>\n",
       "    <tr>\n",
       "      <th>max</th>\n",
       "      <td>NaN</td>\n",
       "      <td>40.000000</td>\n",
       "      <td>NaN</td>\n",
       "    </tr>\n",
       "  </tbody>\n",
       "</table>\n",
       "</div>"
      ],
      "text/plain": [
       "         이름         나이   도시\n",
       "count     5   5.000000    5\n",
       "unique    5        NaN    4\n",
       "top     홍길동        NaN   서울\n",
       "freq      1        NaN    2\n",
       "mean    NaN  29.000000  NaN\n",
       "std     NaN   7.968689  NaN\n",
       "min     NaN  19.000000  NaN\n",
       "25%     NaN  25.000000  NaN\n",
       "50%     NaN  28.000000  NaN\n",
       "75%     NaN  33.000000  NaN\n",
       "max     NaN  40.000000  NaN"
      ]
     },
     "execution_count": 124,
     "metadata": {},
     "output_type": "execute_result"
    }
   ],
   "source": [
    "# 통계적인 수치를 출력. 기본적으로 수치형 콜름만 출력\n",
    "df.describe() \n",
    "# 오브젝트를 찍으면 문자열 부분도 요약한다\n",
    "df.describe(include=\"object\")\n",
    "# 전체적으로 보여줌 모든컬럼을\n",
    "df.describe(include=\"all\")"
   ]
  },
  {
   "cell_type": "markdown",
   "id": "3389c24f",
   "metadata": {},
   "source": [
    "# 판다스는 기본문법이 넘파이와 닮았다."
   ]
  },
  {
   "cell_type": "code",
   "execution_count": null,
   "id": "68650b6e",
   "metadata": {},
   "outputs": [
    {
     "data": {
      "text/html": [
       "<div>\n",
       "<style scoped>\n",
       "    .dataframe tbody tr th:only-of-type {\n",
       "        vertical-align: middle;\n",
       "    }\n",
       "\n",
       "    .dataframe tbody tr th {\n",
       "        vertical-align: top;\n",
       "    }\n",
       "\n",
       "    .dataframe thead th {\n",
       "        text-align: right;\n",
       "    }\n",
       "</style>\n",
       "<table border=\"1\" class=\"dataframe\">\n",
       "  <thead>\n",
       "    <tr style=\"text-align: right;\">\n",
       "      <th></th>\n",
       "      <th>이름</th>\n",
       "      <th>나이</th>\n",
       "    </tr>\n",
       "  </thead>\n",
       "  <tbody>\n",
       "    <tr>\n",
       "      <th>0</th>\n",
       "      <td>홍길동</td>\n",
       "      <td>28</td>\n",
       "    </tr>\n",
       "    <tr>\n",
       "      <th>1</th>\n",
       "      <td>김철수</td>\n",
       "      <td>33</td>\n",
       "    </tr>\n",
       "    <tr>\n",
       "      <th>2</th>\n",
       "      <td>이영희</td>\n",
       "      <td>25</td>\n",
       "    </tr>\n",
       "    <tr>\n",
       "      <th>3</th>\n",
       "      <td>김동동</td>\n",
       "      <td>19</td>\n",
       "    </tr>\n",
       "    <tr>\n",
       "      <th>4</th>\n",
       "      <td>정송송</td>\n",
       "      <td>40</td>\n",
       "    </tr>\n",
       "  </tbody>\n",
       "</table>\n",
       "</div>"
      ],
      "text/plain": [
       "    이름  나이\n",
       "0  홍길동  28\n",
       "1  김철수  33\n",
       "2  이영희  25\n",
       "3  김동동  19\n",
       "4  정송송  40"
      ]
     },
     "execution_count": 129,
     "metadata": {},
     "output_type": "execute_result"
    }
   ],
   "source": [
    "# 인덱싱과 슬라이싱\n",
    "df[\"이름\"]\n",
    "# 컬럼 1개: 시리즈.\n",
    "# 하나의 시리즈를 선택한다\n",
    "\n",
    "df[[\"이름\",\"나이\"]]\n",
    "# 여러개를 선택할 수도 있다."
   ]
  },
  {
   "cell_type": "markdown",
   "id": "b7c3cf12",
   "metadata": {},
   "source": [
    "# 어렵고 중요한 슬라이싱"
   ]
  },
  {
   "cell_type": "code",
   "execution_count": 150,
   "id": "95f20fff",
   "metadata": {},
   "outputs": [
    {
     "data": {
      "text/html": [
       "<div>\n",
       "<style scoped>\n",
       "    .dataframe tbody tr th:only-of-type {\n",
       "        vertical-align: middle;\n",
       "    }\n",
       "\n",
       "    .dataframe tbody tr th {\n",
       "        vertical-align: top;\n",
       "    }\n",
       "\n",
       "    .dataframe thead th {\n",
       "        text-align: right;\n",
       "    }\n",
       "</style>\n",
       "<table border=\"1\" class=\"dataframe\">\n",
       "  <thead>\n",
       "    <tr style=\"text-align: right;\">\n",
       "      <th></th>\n",
       "      <th>이름</th>\n",
       "      <th>나이</th>\n",
       "      <th>도시</th>\n",
       "    </tr>\n",
       "  </thead>\n",
       "  <tbody>\n",
       "    <tr>\n",
       "      <th>0</th>\n",
       "      <td>홍길동</td>\n",
       "      <td>28</td>\n",
       "      <td>서울</td>\n",
       "    </tr>\n",
       "  </tbody>\n",
       "</table>\n",
       "</div>"
      ],
      "text/plain": [
       "    이름  나이  도시\n",
       "0  홍길동  28  서울"
      ]
     },
     "execution_count": 150,
     "metadata": {},
     "output_type": "execute_result"
    }
   ],
   "source": [
    "a=[['홍길동', 28, '서울'], ['김철수', 33, '부산'], ['이영희', 25, '서울'],['김동동',19,'김천'],['정송송',40,'원주']]\n",
    "df=pd.DataFrame(a,columns=[\"이름\",\"나이\",\"도시\"])\n",
    "\n",
    "df[1:4] #기본적으로 행을 자른다\n",
    "\n",
    "df[1:4][\"이름\"] #슬라이싱 후 인덱싱\n",
    "\n",
    "df[-3:] # 뒤에것 역순출력\n",
    "\n",
    "df[0:1]\n",
    "# 슬라이싱은 행 기준으로 작동. 열기준은 별도의 방법사용이 필수!!!"
   ]
  },
  {
   "cell_type": "markdown",
   "id": "92d8b3ef",
   "metadata": {},
   "source": [
    "# iloc, loc\n",
    "- 이름 예쁘다\n",
    "- intiger location\n",
    "- 정수 위치 기반 인덱싱, 슬라이싱\n",
    "\n",
    "# iloc은 인덱싱기준\n",
    "# loc은 저거뭐냐 그거기준 "
   ]
  },
  {
   "cell_type": "code",
   "execution_count": 159,
   "id": "2a4adc2b",
   "metadata": {},
   "outputs": [
    {
     "name": "stdout",
     "output_type": "stream",
     "text": [
      "이름    홍길동\n",
      "나이     28\n",
      "도시     서울\n",
      "Name: 0, dtype: object \n",
      "\n",
      "    이름  나이  도시\n",
      "0  홍길동  28  서울\n",
      "\n",
      "\n",
      "0    서울\n",
      "1    부산\n",
      "2    서울\n",
      "3    김천\n",
      "4    원주\n",
      "Name: 도시, dtype: object\n"
     ]
    }
   ],
   "source": [
    "a=[['홍길동', 28, '서울'], ['김철수', 33, '부산'], ['이영희', 25, '서울'],['김동동',19,'김천'],['정송송',40,'원주']]\n",
    "df=pd.DataFrame(a,columns=[\"이름\",\"나이\",\"도시\"])\n",
    "\n",
    "print(df.iloc[0],\"\\n\")  #첫번째 행이 나온다\n",
    "print(df.head(1))\n",
    "print(\"\\n\")\n",
    "print(df.iloc[:,2])"
   ]
  },
  {
   "cell_type": "code",
   "execution_count": null,
   "id": "4531012a",
   "metadata": {},
   "outputs": [
    {
     "data": {
      "text/html": [
       "<div>\n",
       "<style scoped>\n",
       "    .dataframe tbody tr th:only-of-type {\n",
       "        vertical-align: middle;\n",
       "    }\n",
       "\n",
       "    .dataframe tbody tr th {\n",
       "        vertical-align: top;\n",
       "    }\n",
       "\n",
       "    .dataframe thead th {\n",
       "        text-align: right;\n",
       "    }\n",
       "</style>\n",
       "<table border=\"1\" class=\"dataframe\">\n",
       "  <thead>\n",
       "    <tr style=\"text-align: right;\">\n",
       "      <th></th>\n",
       "      <th>나이</th>\n",
       "      <th>도시</th>\n",
       "    </tr>\n",
       "  </thead>\n",
       "  <tbody>\n",
       "    <tr>\n",
       "      <th>0</th>\n",
       "      <td>28</td>\n",
       "      <td>서울</td>\n",
       "    </tr>\n",
       "    <tr>\n",
       "      <th>2</th>\n",
       "      <td>25</td>\n",
       "      <td>서울</td>\n",
       "    </tr>\n",
       "    <tr>\n",
       "      <th>4</th>\n",
       "      <td>40</td>\n",
       "      <td>원주</td>\n",
       "    </tr>\n",
       "  </tbody>\n",
       "</table>\n",
       "</div>"
      ],
      "text/plain": [
       "   나이  도시\n",
       "0  28  서울\n",
       "2  25  서울\n",
       "4  40  원주"
      ]
     },
     "execution_count": 165,
     "metadata": {},
     "output_type": "execute_result"
    }
   ],
   "source": [
    "df.iloc[1:4]\n",
    "df.iloc[:,0:2]\n",
    "\n",
    "df.iloc[[0,2,4]] #팬시인덱싱. 불리언인덱싱역시 가능하다\n",
    "df.iloc[:,[1,2]]\n",
    "df.iloc[[0,2,4],[1,2]]"
   ]
  },
  {
   "cell_type": "code",
   "execution_count": 167,
   "id": "d0d8407f",
   "metadata": {},
   "outputs": [
    {
     "data": {
      "text/plain": [
       "이름    정송송\n",
       "나이     40\n",
       "도시     원주\n",
       "Name: 4, dtype: object"
      ]
     },
     "execution_count": 167,
     "metadata": {},
     "output_type": "execute_result"
    }
   ],
   "source": [
    "# 음수 인덱스\n",
    "df.iloc[-1] # 제일 마지막 행"
   ]
  },
  {
   "cell_type": "code",
   "execution_count": 168,
   "id": "bb85e902",
   "metadata": {},
   "outputs": [
    {
     "data": {
      "text/plain": [
       "0    홍길동\n",
       "1    김철수\n",
       "2    이영희\n",
       "3    김동동\n",
       "4    정송송\n",
       "Name: 이름, dtype: object"
      ]
     },
     "execution_count": 168,
     "metadata": {},
     "output_type": "execute_result"
    }
   ],
   "source": [
    "df.loc[:,\"이름\"]"
   ]
  },
  {
   "cell_type": "code",
   "execution_count": 177,
   "id": "b277987a",
   "metadata": {},
   "outputs": [
    {
     "name": "stdout",
     "output_type": "stream",
     "text": [
      "0    False\n",
      "1     True\n",
      "2    False\n",
      "3    False\n",
      "4     True\n",
      "Name: 나이, dtype: bool \n",
      "\n",
      "    이름  나이  도시\n",
      "1  김철수  33  부산\n",
      "4  정송송  40  원주\n"
     ]
    }
   ],
   "source": [
    "df.loc[2:4,[\"이름\",\"도시\"]]\n",
    "# 라벨 이름 기준으로 인덱싱\n",
    "\n",
    "mask=df[\"나이\"]>=30\n",
    "print(mask,\"\\n\")\n",
    "print(df[mask])"
   ]
  },
  {
   "cell_type": "code",
   "execution_count": 1,
   "id": "10cce949",
   "metadata": {},
   "outputs": [],
   "source": [
    "# 행에 라벨이 있을 경우 라벨을 이용해서 인덱싱/슬라이싱 가능\n",
    "# 라벨이 있으면 로케이션 쓰자"
   ]
  },
  {
   "cell_type": "code",
   "execution_count": 7,
   "id": "48838eec",
   "metadata": {},
   "outputs": [
    {
     "data": {
      "text/html": [
       "<div>\n",
       "<style scoped>\n",
       "    .dataframe tbody tr th:only-of-type {\n",
       "        vertical-align: middle;\n",
       "    }\n",
       "\n",
       "    .dataframe tbody tr th {\n",
       "        vertical-align: top;\n",
       "    }\n",
       "\n",
       "    .dataframe thead th {\n",
       "        text-align: right;\n",
       "    }\n",
       "</style>\n",
       "<table border=\"1\" class=\"dataframe\">\n",
       "  <thead>\n",
       "    <tr style=\"text-align: right;\">\n",
       "      <th></th>\n",
       "      <th>과목</th>\n",
       "    </tr>\n",
       "  </thead>\n",
       "  <tbody>\n",
       "    <tr>\n",
       "      <th>a</th>\n",
       "      <td>국어</td>\n",
       "    </tr>\n",
       "    <tr>\n",
       "      <th>c</th>\n",
       "      <td>영어</td>\n",
       "    </tr>\n",
       "  </tbody>\n",
       "</table>\n",
       "</div>"
      ],
      "text/plain": [
       "   과목\n",
       "a  국어\n",
       "c  영어"
      ]
     },
     "execution_count": 7,
     "metadata": {},
     "output_type": "execute_result"
    }
   ],
   "source": [
    "### iloc, loc\n",
    "import pandas as pd\n",
    "import numpy as np\n",
    "data = {\n",
    "    \"이름\": [\"홍길동\", \"이순신\", \"김유신\", \"강감찬\", \"장보고\", \"이방원\"],\n",
    "    \"나이\": [23, 35, 31, 40, 28, 34],\n",
    "    \"직업\": [\"학생\", \"군인\", \"장군\", \"장군\", \"상인\", \"왕자\"]\n",
    "}\n",
    "\n",
    "df = pd.DataFrame(data)\n",
    "# iloc \n",
    "# Interger Location\n",
    "# 정수 위치 기반의 인덱싱, 슬라이싱\n",
    "# NumPy의 슬라이싱과 유사함(거의 같음)!!!\n",
    "\n",
    "# 단일 행/열 선택\n",
    "df.iloc[:0] # 첫번째 행\n",
    "df.iloc[:, 1] # 두번째 열\n",
    "\n",
    "# 여러 행/열 동시 선택\n",
    "df.iloc[1:4]\n",
    "df.iloc[:, 0:2]\n",
    "df.iloc[1:4, 0:2]\n",
    "\n",
    "# fancy indexing\n",
    "df.iloc[[0,2,4]]\n",
    "df.iloc[:,[1,2]]\n",
    "df.iloc[[0,2,4],[1,2]]\n",
    "\n",
    "# 음수 인덱스 슬라이싱\n",
    "df.iloc[-1]\n",
    "df.iloc[:,-2:]\n",
    "\n",
    "# loc\n",
    "# location의 약자\n",
    "# 라벨의 이름 기준으로 인덱싱/슬라이싱\n",
    "# 단일 행/열 선택\n",
    "df.loc[0]\n",
    "df.loc[:,\"이름\"]\n",
    "\n",
    "# 여러 행/열 선택\n",
    "df.loc[2:4, [\"이름\",\"직업\"]]\n",
    "\n",
    "# 조건식\n",
    "mask = df[\"나이\"] >= 30\n",
    "df.loc[mask, [\"이름\",\"나이\"]]\n",
    "\n",
    "s1 = pd.Series([\"국어\",\"수학\",\"영어\"], index=[\"a\",\"b\",\"c\"])\n",
    "s2 = pd.Series([100,90,85], index=[\"a\",\"b\",\"c\"])\n",
    "df = pd.DataFrame({\"과목\": s1, \"점수\": s2})\n",
    "df\n",
    "\n",
    "# 행에 라벨이 있을 경우 라벨을 이용해서 인덱싱/슬라이싱 가능\n",
    "df.loc[[\"a\",\"c\"],[\"과목\"]]"
   ]
  },
  {
   "cell_type": "markdown",
   "id": "f9e723c1",
   "metadata": {},
   "source": [
    "실습3. DataFrame 연습(2)\n",
    "1. iloc을 사용해 인덱스 2~5(포함 안함) 행, 1~3(포함 안함) 열만 선택해 출력하세요.\n",
    "2. loc을 사용해 인덱스 3~6(포함!) 행, '이름'과 '점수' 컬럼만 출력하세요.\n",
    "3. iloc을 사용해, 마지막 3개 행의 '직업'과 '점수' 컬럼만 선택해 출력하세요.\n",
    "4. iloc을 사용해, 홀수번째(1, 3, 5, 7번 인덱스) 행, 모든 열을 선택하세요.\n",
    "5. loc을 사용해, 인덱스 4~7번 행, '나이', '점수' 컬럼만 출력하세요.\n",
    "6. iloc을 사용해, 짝수번째(0,2,4,6) 행과 짝수번째(0,2) 열만 선택하세요"
   ]
  },
  {
   "cell_type": "code",
   "execution_count": 27,
   "id": "46b421bb",
   "metadata": {},
   "outputs": [
    {
     "name": "stdout",
     "output_type": "stream",
     "text": [
      "    이름  나이   직업  점수\n",
      "0  홍길동  23   학생  85\n",
      "1  이순신  35   군인  90\n",
      "2  김유신  31   장군  75\n",
      "3  강감찬  40   장군  88\n",
      "4  장보고  28   상인  92\n",
      "5  이방원  34   왕자  95\n",
      "6  최무선  42  과학자  87\n",
      "7  정도전  29  정치가  83 \n",
      "\n",
      "   나이  직업\n",
      "2  31  장군\n",
      "3  40  장군\n",
      "4  28  상인 \n",
      "\n",
      "    이름  점수\n",
      "3  강감찬  88\n",
      "4  장보고  92\n",
      "5  이방원  95\n",
      "6  최무선  87 \n",
      "\n",
      "    직업  점수\n",
      "5   왕자  95\n",
      "6  과학자  87\n",
      "7  정치가  83 \n",
      "\n",
      "    이름  나이   직업  점수\n",
      "1  이순신  35   군인  90\n",
      "3  강감찬  40   장군  88\n",
      "5  이방원  34   왕자  95\n",
      "7  정도전  29  정치가  83\n",
      "    이름  나이   직업  점수\n",
      "1  이순신  35   군인  90\n",
      "3  강감찬  40   장군  88\n",
      "5  이방원  34   왕자  95\n",
      "7  정도전  29  정치가  83 \n",
      "\n",
      "   나이  점수\n",
      "4  28  92\n",
      "5  34  95\n",
      "6  42  87\n",
      "7  29  83\n",
      "    이름   직업\n",
      "0  홍길동   학생\n",
      "2  김유신   장군\n",
      "4  장보고   상인\n",
      "6  최무선  과학자\n"
     ]
    }
   ],
   "source": [
    "data = {\n",
    "    \"이름\": [\"홍길동\", \"이순신\", \"김유신\", \"강감찬\", \"장보고\", \"이방원\",\"최무선\",\"정도전\"],\n",
    "    \"나이\": [23, 35, 31, 40, 28, 34,42,29],\n",
    "    \"직업\": [\"학생\", \"군인\", \"장군\", \"장군\", \"상인\", \"왕자\",\"과학자\",\"정치가\"],\n",
    "    \"점수\": [85,90,75,88,92,95,87,83]\n",
    "}\n",
    "df = pd.DataFrame(data)\n",
    "print(df,\"\\n\")\n",
    "#2,3,4행의 나이, 직업 출력\n",
    "print(df.iloc[2:5,1:3],\"\\n\") \n",
    "#3,4,5,6행에서 이름과 점수만 출력\n",
    "print(df.loc[3:6,[\"이름\",\"점수\"]],\"\\n\")\n",
    "# 마지막 3개행의 직업(2), 점수(3)\n",
    "print(df.iloc[-3:,[2,3]],\"\\n\")\n",
    "# 홀수번 인덱스()\n",
    "mask=df.index%2==1\n",
    "print(df.iloc[mask,:])\n",
    "print(df.iloc[[1,3,5,7]],\"\\n\")\n",
    "# 인덱스 4~7, 나이점수\n",
    "print(df.loc[4:7,[\"나이\",\"점수\"]])\n",
    "# 짝수번째 행과 짝수번째 열\n",
    "print(df.iloc[[0,2,4,6],[0,2]])"
   ]
  },
  {
   "cell_type": "code",
   "execution_count": null,
   "id": "33d09a2d",
   "metadata": {},
   "outputs": [],
   "source": []
  },
  {
   "cell_type": "markdown",
   "id": "b891029d",
   "metadata": {},
   "source": [
    "loc location의 약자\n",
    "- 이름기준으로 인덱싱 슬라이싱\n",
    "- 단일 행열선택\n",
    "- 시작끝모두포함\n",
    "- 음수인덱스사용이안됨\n",
    "- 라벨에 있는걸로 함\n",
    "- df.loc[2:4,[\"라벨\":\"라벨\"]]"
   ]
  }
 ],
 "metadata": {
  "kernelspec": {
   "display_name": "data_analysis",
   "language": "python",
   "name": "python3"
  },
  "language_info": {
   "codemirror_mode": {
    "name": "ipython",
    "version": 3
   },
   "file_extension": ".py",
   "mimetype": "text/x-python",
   "name": "python",
   "nbconvert_exporter": "python",
   "pygments_lexer": "ipython3",
   "version": "3.13.5"
  }
 },
 "nbformat": 4,
 "nbformat_minor": 5
}
